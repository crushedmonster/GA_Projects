{
 "cells": [
  {
   "cell_type": "markdown",
   "metadata": {},
   "source": [
    "# Project 3: Web APIs & NLP"
   ]
  },
  {
   "cell_type": "markdown",
   "metadata": {},
   "source": [
    "## Contents:\n",
    "- [Problem Statement](#Problem-Statement)\n",
    "- [Setup](#Setup)\n",
    "- [Query processing for Pushshift's API](#Query-processing-for-Pushshift's-API)\n",
    "- [Next Steps](#Next-Steps)"
   ]
  },
  {
   "cell_type": "markdown",
   "metadata": {},
   "source": [
    "## Problem Statement\n",
    "Reddit is a massive collection of forums where registered members can share news and content or comment on other member’s posts. Posts are organised by subject into user-created boards called \"communities\" or \"subreddits\", which cover a variety of topics such as news, politics, religion, science, movies, video games, music, books, sports, fitness, cooking, pets, and image-sharing. As aspiring data scientists who have just completed a lesson on natural language processing (NLP), we are interested to find out if we can use NLP to classify posts from two different subreddits based on their title and text content. Such a classification model may be useful for Reddit as a company or even the subreddit moderators to make sure that the posts shown on the subreddit are relevant to the community.\n",
    "\n",
    "\n",
    "### Background\n",
    "\n",
    "For this project, we'll be classifying posts from two subreddits that are similar:\n",
    "- r/GME: A subreddit channel where reddit users share and discuss content related to Gamestop ($GME) Stock\n",
    "- r/dodgecoin: A subreddit channel where reddit users share and discuss content related to Dogecoins\n",
    "\n",
    "Reddit has made various headlines, most notably when its community helped pump GameStop’s share price to triple-digit growth in late January. This mania later spread to dogecoin which saw massive price run-ups *([source](https://www.coindesk.com/investors-pump-250m-into-reddit-following-social-media-sites-prominent-role-in-gamestop-mania))*. Using NLP to analyse the posts from the two subreddits may help to shed some insight on the GameStop and Dogecoin mania.\n",
    "\n",
    "This is clearly a supervised learning task, since the labels are provided (the expected output, i.e., binary representation of subreddit name). It is also a classification task, since we are predicting a discrete class label. More specifically, this is a binary classification problem, since the ultimate goal is to build a classifier to distinguish between just two classes, whether the post is from r/GME or r/dogecoin. \n",
    "\n",
    "\n",
    "### Performance Measure\n",
    "We will evaluate the performance of our model using F1-score as the North Star metric.\n",
    "\n",
    "The equation to compute F1-score:\n",
    "![f1-score.png](../assets/f1-score.png)\n",
    "\n",
    "\n",
    "The F1 Score is the weighted average (or harmonic mean) of Precision and Recall. Therefore, this score takes both False Positives and False Negatives into account to strike a balance between Precision and Recall.\n",
    "\n",
    "Our goal is to get F1-score as close to 1 as possible, meaning we want to have low False Positives and low False Negatives, so that we're classifying the posts to the correct subreddit (thus minimising the occurrence of misclassification)."
   ]
  },
  {
   "cell_type": "markdown",
   "metadata": {},
   "source": [
    "## Setup\n",
    "All libraries used should be added here."
   ]
  },
  {
   "cell_type": "code",
   "execution_count": 1,
   "metadata": {},
   "outputs": [],
   "source": [
    "# import libraries\n",
    "import os\n",
    "import pandas as pd\n",
    "import time\n",
    "import requests\n",
    "from datetime import datetime"
   ]
  },
  {
   "cell_type": "code",
   "execution_count": 2,
   "metadata": {},
   "outputs": [],
   "source": [
    "# path to store the dataset downloaded\n",
    "output_path = '../data'\n",
    "os.makedirs(output_path, exist_ok=True)"
   ]
  },
  {
   "cell_type": "markdown",
   "metadata": {},
   "source": [
    "Define a function to collect posts from subreddit using Pushshift's API.\n",
    "\n",
    "*Note: Pushshift limits to 100 posts per request.*"
   ]
  },
  {
   "cell_type": "code",
   "execution_count": 3,
   "metadata": {},
   "outputs": [],
   "source": [
    "def get_submissions(subreddit, start_datetime, end_datetime):\n",
    "    \"\"\"\n",
    "    Get reddit submissions from the pushshift api between specified date range.\n",
    "    Read more: https://github.com/pushshift/api\n",
    "    \n",
    "    Args:\n",
    "    subreddit(string): Subreddit name.\n",
    "    start_datetime(string): Start datetime in UTC. Acceptable string format is in \"dd/mm/yyyy hh:mm:ss\".\n",
    "    end_datetime(string): End datetime in UTC. Acceptable string format is in \"dd/mm/yyyy hh:mm:ss\".\n",
    "    \n",
    "    Returns:\n",
    "    A dataframe of text-only posts from subreddit.\n",
    "           \n",
    "    Raises:\n",
    "    HTTPError when request status is not a 200.\n",
    "    \"\"\"\n",
    "\n",
    "    # base url\n",
    "    url = \"https://api.pushshift.io/reddit/search/submission\"\n",
    "    \n",
    "    # create an empty list to hold the dataframes\n",
    "    df_list = []\n",
    "    \n",
    "    # convert start_datetime & end_datetime into epoch timestamps\n",
    "    epoch = datetime(1970, 1, 1)\n",
    "    start_datetime = int((datetime.strptime(start_datetime, \"%d/%m/%Y %H:%M:%S\") - epoch).total_seconds())\n",
    "    end_datetime = int((datetime.strptime(end_datetime, \"%d/%m/%Y %H:%M:%S\") - epoch).total_seconds())\n",
    "    \n",
    "    while end_datetime > start_datetime:\n",
    "        res = requests.get(url, \n",
    "                           # query parameters \n",
    "                           params={\"subreddit\": subreddit, \n",
    "                                        \"size\": 100,\n",
    "                                        \"after\": start_datetime,\n",
    "                                        \"before\": end_datetime,\n",
    "                                       # return text-only posts\n",
    "                                        \"is_self\": True})\n",
    "        try:\n",
    "            # if the response was successful, no exception will be raised\n",
    "            res.raise_for_status()\n",
    "            \n",
    "        except requests.exceptions.HTTPError as e:\n",
    "            # not a 200\n",
    "            print(\"Error: \" + str(e))\n",
    "            raise\n",
    "        \n",
    "        else:\n",
    "            # run the following codes if there are no exception\n",
    "            print('Fetching data from {}'.format(res.url))\n",
    "            json = res.json()\n",
    "            # flatten the nested dictionary\n",
    "            df = pd.json_normalize(json['data'])\n",
    "            \n",
    "            if len(df) > 0:\n",
    "                # select the required columns\n",
    "                df = df[['id', 'full_link', 'author', 'created_utc', 'subreddit', 'selftext', 'title', 'num_comments', 'score']]\n",
    "                # update start_datetime to loop forward \n",
    "                start_datetime = df['created_utc'].max()\n",
    "                # convert epoch time to readable time\n",
    "                df['created_utc'] = pd.to_datetime(df['created_utc'],unit='s')\n",
    "                # append to list\n",
    "                df_list.append(df)\n",
    "            \n",
    "                # pause for 3 seconds before the next pull of 100 posts\n",
    "                time.sleep(3)\n",
    "                \n",
    "            else:\n",
    "                break\n",
    "            \n",
    "    print('---')\n",
    "    print('Task Completed')\n",
    "    return pd.concat(df_list, axis=0)"
   ]
  },
  {
   "cell_type": "markdown",
   "metadata": {},
   "source": [
    "## Query processing for Pushshift's API\n",
    "Fetch data from r/GME - GameStop Stock subreddit.\n",
    "- We are interested in collecting all posts between 21st Jan 2021 to 2nd Feb 2021 because that was the timeline whereby GameStop shares have surged due to its popularity."
   ]
  },
  {
   "cell_type": "code",
   "execution_count": 4,
   "metadata": {
    "scrolled": true
   },
   "outputs": [
    {
     "name": "stdout",
     "output_type": "stream",
     "text": [
      "Fetching data from https://api.pushshift.io/reddit/search/submission?subreddit=GME&size=100&after=1611187200&before=1612310399&is_self=True\n",
      "Fetching data from https://api.pushshift.io/reddit/search/submission?subreddit=GME&size=100&after=1611393367&before=1612310399&is_self=True\n",
      "Fetching data from https://api.pushshift.io/reddit/search/submission?subreddit=GME&size=100&after=1611576757&before=1612310399&is_self=True\n",
      "Fetching data from https://api.pushshift.io/reddit/search/submission?subreddit=GME&size=100&after=1611595388&before=1612310399&is_self=True\n",
      "Fetching data from https://api.pushshift.io/reddit/search/submission?subreddit=GME&size=100&after=1611620490&before=1612310399&is_self=True\n",
      "Fetching data from https://api.pushshift.io/reddit/search/submission?subreddit=GME&size=100&after=1611672634&before=1612310399&is_self=True\n",
      "Fetching data from https://api.pushshift.io/reddit/search/submission?subreddit=GME&size=100&after=1611760548&before=1612310399&is_self=True\n",
      "Fetching data from https://api.pushshift.io/reddit/search/submission?subreddit=GME&size=100&after=1611763800&before=1612310399&is_self=True\n",
      "Fetching data from https://api.pushshift.io/reddit/search/submission?subreddit=GME&size=100&after=1611767497&before=1612310399&is_self=True\n",
      "Fetching data from https://api.pushshift.io/reddit/search/submission?subreddit=GME&size=100&after=1611772073&before=1612310399&is_self=True\n",
      "Fetching data from https://api.pushshift.io/reddit/search/submission?subreddit=GME&size=100&after=1611777535&before=1612310399&is_self=True\n",
      "Fetching data from https://api.pushshift.io/reddit/search/submission?subreddit=GME&size=100&after=1611785423&before=1612310399&is_self=True\n",
      "Fetching data from https://api.pushshift.io/reddit/search/submission?subreddit=GME&size=100&after=1611791649&before=1612310399&is_self=True\n",
      "Fetching data from https://api.pushshift.io/reddit/search/submission?subreddit=GME&size=100&after=1611792709&before=1612310399&is_self=True\n",
      "Fetching data from https://api.pushshift.io/reddit/search/submission?subreddit=GME&size=100&after=1611793997&before=1612310399&is_self=True\n",
      "Fetching data from https://api.pushshift.io/reddit/search/submission?subreddit=GME&size=100&after=1611801186&before=1612310399&is_self=True\n",
      "Fetching data from https://api.pushshift.io/reddit/search/submission?subreddit=GME&size=100&after=1611822472&before=1612310399&is_self=True\n",
      "Fetching data from https://api.pushshift.io/reddit/search/submission?subreddit=GME&size=100&after=1611836523&before=1612310399&is_self=True\n",
      "Fetching data from https://api.pushshift.io/reddit/search/submission?subreddit=GME&size=100&after=1611841352&before=1612310399&is_self=True\n",
      "Fetching data from https://api.pushshift.io/reddit/search/submission?subreddit=GME&size=100&after=1611844000&before=1612310399&is_self=True\n",
      "Fetching data from https://api.pushshift.io/reddit/search/submission?subreddit=GME&size=100&after=1611846038&before=1612310399&is_self=True\n",
      "Fetching data from https://api.pushshift.io/reddit/search/submission?subreddit=GME&size=100&after=1611848218&before=1612310399&is_self=True\n",
      "Fetching data from https://api.pushshift.io/reddit/search/submission?subreddit=GME&size=100&after=1611849782&before=1612310399&is_self=True\n",
      "Fetching data from https://api.pushshift.io/reddit/search/submission?subreddit=GME&size=100&after=1611850968&before=1612310399&is_self=True\n",
      "Fetching data from https://api.pushshift.io/reddit/search/submission?subreddit=GME&size=100&after=1611852354&before=1612310399&is_self=True\n",
      "Fetching data from https://api.pushshift.io/reddit/search/submission?subreddit=GME&size=100&after=1611853876&before=1612310399&is_self=True\n",
      "Fetching data from https://api.pushshift.io/reddit/search/submission?subreddit=GME&size=100&after=1611855963&before=1612310399&is_self=True\n",
      "Fetching data from https://api.pushshift.io/reddit/search/submission?subreddit=GME&size=100&after=1611859576&before=1612310399&is_self=True\n",
      "Fetching data from https://api.pushshift.io/reddit/search/submission?subreddit=GME&size=100&after=1611863392&before=1612310399&is_self=True\n",
      "Fetching data from https://api.pushshift.io/reddit/search/submission?subreddit=GME&size=100&after=1611868166&before=1612310399&is_self=True\n",
      "Fetching data from https://api.pushshift.io/reddit/search/submission?subreddit=GME&size=100&after=1611875009&before=1612310399&is_self=True\n",
      "Fetching data from https://api.pushshift.io/reddit/search/submission?subreddit=GME&size=100&after=1611883774&before=1612310399&is_self=True\n",
      "Fetching data from https://api.pushshift.io/reddit/search/submission?subreddit=GME&size=100&after=1611897797&before=1612310399&is_self=True\n",
      "Fetching data from https://api.pushshift.io/reddit/search/submission?subreddit=GME&size=100&after=1611912839&before=1612310399&is_self=True\n",
      "Fetching data from https://api.pushshift.io/reddit/search/submission?subreddit=GME&size=100&after=1611922899&before=1612310399&is_self=True\n",
      "Fetching data from https://api.pushshift.io/reddit/search/submission?subreddit=GME&size=100&after=1611930112&before=1612310399&is_self=True\n",
      "Fetching data from https://api.pushshift.io/reddit/search/submission?subreddit=GME&size=100&after=1611932385&before=1612310399&is_self=True\n",
      "Fetching data from https://api.pushshift.io/reddit/search/submission?subreddit=GME&size=100&after=1611935594&before=1612310399&is_self=True\n",
      "Fetching data from https://api.pushshift.io/reddit/search/submission?subreddit=GME&size=100&after=1611940010&before=1612310399&is_self=True\n",
      "Fetching data from https://api.pushshift.io/reddit/search/submission?subreddit=GME&size=100&after=1611945416&before=1612310399&is_self=True\n",
      "Fetching data from https://api.pushshift.io/reddit/search/submission?subreddit=GME&size=100&after=1611947662&before=1612310399&is_self=True\n",
      "Fetching data from https://api.pushshift.io/reddit/search/submission?subreddit=GME&size=100&after=1611950669&before=1612310399&is_self=True\n",
      "Fetching data from https://api.pushshift.io/reddit/search/submission?subreddit=GME&size=100&after=1611954422&before=1612310399&is_self=True\n",
      "Fetching data from https://api.pushshift.io/reddit/search/submission?subreddit=GME&size=100&after=1611967914&before=1612310399&is_self=True\n",
      "Fetching data from https://api.pushshift.io/reddit/search/submission?subreddit=GME&size=100&after=1611994106&before=1612310399&is_self=True\n",
      "Fetching data from https://api.pushshift.io/reddit/search/submission?subreddit=GME&size=100&after=1612023227&before=1612310399&is_self=True\n",
      "Fetching data from https://api.pushshift.io/reddit/search/submission?subreddit=GME&size=100&after=1612038404&before=1612310399&is_self=True\n",
      "Fetching data from https://api.pushshift.io/reddit/search/submission?subreddit=GME&size=100&after=1612061721&before=1612310399&is_self=True\n",
      "Fetching data from https://api.pushshift.io/reddit/search/submission?subreddit=GME&size=100&after=1612100611&before=1612310399&is_self=True\n",
      "Fetching data from https://api.pushshift.io/reddit/search/submission?subreddit=GME&size=100&after=1612120608&before=1612310399&is_self=True\n",
      "Fetching data from https://api.pushshift.io/reddit/search/submission?subreddit=GME&size=100&after=1612137774&before=1612310399&is_self=True\n",
      "Fetching data from https://api.pushshift.io/reddit/search/submission?subreddit=GME&size=100&after=1612166709&before=1612310399&is_self=True\n",
      "Fetching data from https://api.pushshift.io/reddit/search/submission?subreddit=GME&size=100&after=1612187288&before=1612310399&is_self=True\n",
      "Fetching data from https://api.pushshift.io/reddit/search/submission?subreddit=GME&size=100&after=1612191848&before=1612310399&is_self=True\n",
      "Fetching data from https://api.pushshift.io/reddit/search/submission?subreddit=GME&size=100&after=1612193995&before=1612310399&is_self=True\n",
      "Fetching data from https://api.pushshift.io/reddit/search/submission?subreddit=GME&size=100&after=1612197611&before=1612310399&is_self=True\n",
      "Fetching data from https://api.pushshift.io/reddit/search/submission?subreddit=GME&size=100&after=1612204434&before=1612310399&is_self=True\n",
      "Fetching data from https://api.pushshift.io/reddit/search/submission?subreddit=GME&size=100&after=1612212006&before=1612310399&is_self=True\n",
      "Fetching data from https://api.pushshift.io/reddit/search/submission?subreddit=GME&size=100&after=1612220482&before=1612310399&is_self=True\n"
     ]
    },
    {
     "name": "stdout",
     "output_type": "stream",
     "text": [
      "Fetching data from https://api.pushshift.io/reddit/search/submission?subreddit=GME&size=100&after=1612238085&before=1612310399&is_self=True\n",
      "Fetching data from https://api.pushshift.io/reddit/search/submission?subreddit=GME&size=100&after=1612264710&before=1612310399&is_self=True\n",
      "Fetching data from https://api.pushshift.io/reddit/search/submission?subreddit=GME&size=100&after=1612274843&before=1612310399&is_self=True\n",
      "Fetching data from https://api.pushshift.io/reddit/search/submission?subreddit=GME&size=100&after=1612277728&before=1612310399&is_self=True\n",
      "Fetching data from https://api.pushshift.io/reddit/search/submission?subreddit=GME&size=100&after=1612280448&before=1612310399&is_self=True\n",
      "Fetching data from https://api.pushshift.io/reddit/search/submission?subreddit=GME&size=100&after=1612283006&before=1612310399&is_self=True\n",
      "Fetching data from https://api.pushshift.io/reddit/search/submission?subreddit=GME&size=100&after=1612287321&before=1612310399&is_self=True\n",
      "Fetching data from https://api.pushshift.io/reddit/search/submission?subreddit=GME&size=100&after=1612293937&before=1612310399&is_self=True\n",
      "Fetching data from https://api.pushshift.io/reddit/search/submission?subreddit=GME&size=100&after=1612300914&before=1612310399&is_self=True\n",
      "Fetching data from https://api.pushshift.io/reddit/search/submission?subreddit=GME&size=100&after=1612309487&before=1612310399&is_self=True\n",
      "Fetching data from https://api.pushshift.io/reddit/search/submission?subreddit=GME&size=100&after=1612310159&before=1612310399&is_self=True\n",
      "---\n",
      "Task Completed\n"
     ]
    }
   ],
   "source": [
    "# specify params\n",
    "subreddit1 = 'GME'\n",
    "start_datetime1 = '21/01/2021 00:00:00'\n",
    "end_datetime1 = '02/02/2021 23:59:59'\n",
    "\n",
    "# query result to dataframe\n",
    "GME_df = get_submissions(subreddit1, start_datetime1, end_datetime1)"
   ]
  },
  {
   "cell_type": "code",
   "execution_count": 5,
   "metadata": {},
   "outputs": [
    {
     "name": "stdout",
     "output_type": "stream",
     "text": [
      "Our dataset has 6805 rows and 9 columns.\n"
     ]
    }
   ],
   "source": [
    "print('Our dataset has {} rows and {} columns.'.format(GME_df.shape[0], GME_df.shape[1]))"
   ]
  },
  {
   "cell_type": "code",
   "execution_count": 6,
   "metadata": {},
   "outputs": [
    {
     "data": {
      "text/html": [
       "<div>\n",
       "<style scoped>\n",
       "    .dataframe tbody tr th:only-of-type {\n",
       "        vertical-align: middle;\n",
       "    }\n",
       "\n",
       "    .dataframe tbody tr th {\n",
       "        vertical-align: top;\n",
       "    }\n",
       "\n",
       "    .dataframe thead th {\n",
       "        text-align: right;\n",
       "    }\n",
       "</style>\n",
       "<table border=\"1\" class=\"dataframe\">\n",
       "  <thead>\n",
       "    <tr style=\"text-align: right;\">\n",
       "      <th></th>\n",
       "      <th>id</th>\n",
       "      <th>full_link</th>\n",
       "      <th>author</th>\n",
       "      <th>created_utc</th>\n",
       "      <th>subreddit</th>\n",
       "      <th>selftext</th>\n",
       "      <th>title</th>\n",
       "      <th>num_comments</th>\n",
       "      <th>score</th>\n",
       "    </tr>\n",
       "  </thead>\n",
       "  <tbody>\n",
       "    <tr>\n",
       "      <th>0</th>\n",
       "      <td>l1n3vd</td>\n",
       "      <td>https://www.reddit.com/r/GME/comments/l1n3vd/g...</td>\n",
       "      <td>Jeffamazon</td>\n",
       "      <td>2021-01-21 00:52:21</td>\n",
       "      <td>GME</td>\n",
       "      <td>Just stumbled upon this sub. Didn't know it ex...</td>\n",
       "      <td>Greetings GME Gang</td>\n",
       "      <td>55</td>\n",
       "      <td>1</td>\n",
       "    </tr>\n",
       "    <tr>\n",
       "      <th>1</th>\n",
       "      <td>l1o60a</td>\n",
       "      <td>https://www.reddit.com/r/GME/comments/l1o60a/h...</td>\n",
       "      <td>stoney-the-tiger</td>\n",
       "      <td>2021-01-21 01:48:42</td>\n",
       "      <td>GME</td>\n",
       "      <td>[removed]</td>\n",
       "      <td>Help Make Q4 Great</td>\n",
       "      <td>0</td>\n",
       "      <td>1</td>\n",
       "    </tr>\n",
       "    <tr>\n",
       "      <th>2</th>\n",
       "      <td>l1wi6q</td>\n",
       "      <td>https://www.reddit.com/r/GME/comments/l1wi6q/r...</td>\n",
       "      <td>B1ake1</td>\n",
       "      <td>2021-01-21 11:13:54</td>\n",
       "      <td>GME</td>\n",
       "      <td>HOLD THE LINES \\n\\n\\n120 shares @27</td>\n",
       "      <td>Remember lads, scared money don't make money.</td>\n",
       "      <td>0</td>\n",
       "      <td>1</td>\n",
       "    </tr>\n",
       "    <tr>\n",
       "      <th>3</th>\n",
       "      <td>l22dsa</td>\n",
       "      <td>https://www.reddit.com/r/GME/comments/l22dsa/h...</td>\n",
       "      <td>Dustin_James_Kid</td>\n",
       "      <td>2021-01-21 16:55:19</td>\n",
       "      <td>GME</td>\n",
       "      <td>I’m new and trying to learn. This stock scares...</td>\n",
       "      <td>How do we know when the squeeze has happened?</td>\n",
       "      <td>8</td>\n",
       "      <td>1</td>\n",
       "    </tr>\n",
       "    <tr>\n",
       "      <th>4</th>\n",
       "      <td>l22r5n</td>\n",
       "      <td>https://www.reddit.com/r/GME/comments/l22r5n/w...</td>\n",
       "      <td>MailNurse</td>\n",
       "      <td>2021-01-21 17:11:48</td>\n",
       "      <td>GME</td>\n",
       "      <td>Price is sub 40 now. :(.</td>\n",
       "      <td>WHERE ARE THE FUCKING REINFORCEMENTS</td>\n",
       "      <td>20</td>\n",
       "      <td>1</td>\n",
       "    </tr>\n",
       "  </tbody>\n",
       "</table>\n",
       "</div>"
      ],
      "text/plain": [
       "       id                                          full_link  \\\n",
       "0  l1n3vd  https://www.reddit.com/r/GME/comments/l1n3vd/g...   \n",
       "1  l1o60a  https://www.reddit.com/r/GME/comments/l1o60a/h...   \n",
       "2  l1wi6q  https://www.reddit.com/r/GME/comments/l1wi6q/r...   \n",
       "3  l22dsa  https://www.reddit.com/r/GME/comments/l22dsa/h...   \n",
       "4  l22r5n  https://www.reddit.com/r/GME/comments/l22r5n/w...   \n",
       "\n",
       "             author         created_utc subreddit  \\\n",
       "0        Jeffamazon 2021-01-21 00:52:21       GME   \n",
       "1  stoney-the-tiger 2021-01-21 01:48:42       GME   \n",
       "2            B1ake1 2021-01-21 11:13:54       GME   \n",
       "3  Dustin_James_Kid 2021-01-21 16:55:19       GME   \n",
       "4         MailNurse 2021-01-21 17:11:48       GME   \n",
       "\n",
       "                                            selftext  \\\n",
       "0  Just stumbled upon this sub. Didn't know it ex...   \n",
       "1                                          [removed]   \n",
       "2                HOLD THE LINES \\n\\n\\n120 shares @27   \n",
       "3  I’m new and trying to learn. This stock scares...   \n",
       "4                           Price is sub 40 now. :(.   \n",
       "\n",
       "                                           title  num_comments  score  \n",
       "0                             Greetings GME Gang            55      1  \n",
       "1                             Help Make Q4 Great             0      1  \n",
       "2  Remember lads, scared money don't make money.             0      1  \n",
       "3  How do we know when the squeeze has happened?             8      1  \n",
       "4           WHERE ARE THE FUCKING REINFORCEMENTS            20      1  "
      ]
     },
     "metadata": {},
     "output_type": "display_data"
    }
   ],
   "source": [
    "# check the first five rows\n",
    "display(GME_df.head())"
   ]
  },
  {
   "cell_type": "code",
   "execution_count": 7,
   "metadata": {},
   "outputs": [
    {
     "name": "stdout",
     "output_type": "stream",
     "text": [
      "Our dataset has 0 duplicated rows.\n"
     ]
    }
   ],
   "source": [
    "# check for duplicates\n",
    "print('Our dataset has {} duplicated rows.'.format(GME_df[GME_df.duplicated(subset=['id']) == True].shape[0]))"
   ]
  },
  {
   "cell_type": "code",
   "execution_count": 8,
   "metadata": {},
   "outputs": [
    {
     "name": "stdout",
     "output_type": "stream",
     "text": [
      "Time range of GME posts collected.\n",
      "Min: 2021-01-21 00:52:21\n",
      "Max: 2021-02-02 23:55:59\n"
     ]
    }
   ],
   "source": [
    "print('Time range of', subreddit1 ,'posts collected.')\n",
    "print('Min:', GME_df['created_utc'].min())\n",
    "print('Max:', GME_df['created_utc'].max())"
   ]
  },
  {
   "cell_type": "markdown",
   "metadata": {},
   "source": [
    "Based on experience, it will be safer to create a function to avoid overwriting the original data collected after running through the notebook."
   ]
  },
  {
   "cell_type": "code",
   "execution_count": 9,
   "metadata": {},
   "outputs": [],
   "source": [
    "# create a function to prevent the files from being overwritten\n",
    "def df_to_csv(df, filename, export=False):\n",
    "    if export == False:\n",
    "        return print('File has not been exported. Existing file has not been overwritten.')\n",
    "    elif export == True:\n",
    "        df.to_csv(output_path + '/' + filename, index=False)\n",
    "        return print('File has been exported. Existing file has been overwritten.')\n",
    "    else:\n",
    "        return print('Nothing has happened.')"
   ]
  },
  {
   "cell_type": "code",
   "execution_count": 10,
   "metadata": {},
   "outputs": [
    {
     "name": "stdout",
     "output_type": "stream",
     "text": [
      "File has not been exported. Existing file has not been overwritten.\n"
     ]
    }
   ],
   "source": [
    "# save data\n",
    "df_to_csv(GME_df, 'GME.csv', export=False) # toggle export=true only when we want the existing file to be overwritten"
   ]
  },
  {
   "cell_type": "markdown",
   "metadata": {},
   "source": [
    "Fetch data from r/dogecoin - Dogecoin subreddit.\n",
    "- Due to the long waiting time required for the initial time period selected, we will be limiting the collection of posts to 5th May 2021."
   ]
  },
  {
   "cell_type": "code",
   "execution_count": 11,
   "metadata": {},
   "outputs": [
    {
     "name": "stdout",
     "output_type": "stream",
     "text": [
      "Fetching data from https://api.pushshift.io/reddit/search/submission?subreddit=dogecoin&size=100&after=1620172800&before=1620259199&is_self=True\n",
      "Fetching data from https://api.pushshift.io/reddit/search/submission?subreddit=dogecoin&size=100&after=1620174293&before=1620259199&is_self=True\n",
      "Fetching data from https://api.pushshift.io/reddit/search/submission?subreddit=dogecoin&size=100&after=1620175666&before=1620259199&is_self=True\n",
      "Fetching data from https://api.pushshift.io/reddit/search/submission?subreddit=dogecoin&size=100&after=1620177049&before=1620259199&is_self=True\n",
      "Fetching data from https://api.pushshift.io/reddit/search/submission?subreddit=dogecoin&size=100&after=1620177977&before=1620259199&is_self=True\n",
      "Fetching data from https://api.pushshift.io/reddit/search/submission?subreddit=dogecoin&size=100&after=1620178841&before=1620259199&is_self=True\n",
      "Fetching data from https://api.pushshift.io/reddit/search/submission?subreddit=dogecoin&size=100&after=1620179763&before=1620259199&is_self=True\n",
      "Fetching data from https://api.pushshift.io/reddit/search/submission?subreddit=dogecoin&size=100&after=1620180807&before=1620259199&is_self=True\n",
      "Fetching data from https://api.pushshift.io/reddit/search/submission?subreddit=dogecoin&size=100&after=1620181726&before=1620259199&is_self=True\n",
      "Fetching data from https://api.pushshift.io/reddit/search/submission?subreddit=dogecoin&size=100&after=1620182796&before=1620259199&is_self=True\n",
      "Fetching data from https://api.pushshift.io/reddit/search/submission?subreddit=dogecoin&size=100&after=1620183920&before=1620259199&is_self=True\n",
      "Fetching data from https://api.pushshift.io/reddit/search/submission?subreddit=dogecoin&size=100&after=1620184611&before=1620259199&is_self=True\n",
      "Fetching data from https://api.pushshift.io/reddit/search/submission?subreddit=dogecoin&size=100&after=1620184990&before=1620259199&is_self=True\n",
      "Fetching data from https://api.pushshift.io/reddit/search/submission?subreddit=dogecoin&size=100&after=1620185492&before=1620259199&is_self=True\n",
      "Fetching data from https://api.pushshift.io/reddit/search/submission?subreddit=dogecoin&size=100&after=1620185792&before=1620259199&is_self=True\n",
      "Fetching data from https://api.pushshift.io/reddit/search/submission?subreddit=dogecoin&size=100&after=1620186108&before=1620259199&is_self=True\n",
      "Fetching data from https://api.pushshift.io/reddit/search/submission?subreddit=dogecoin&size=100&after=1620186428&before=1620259199&is_self=True\n",
      "Fetching data from https://api.pushshift.io/reddit/search/submission?subreddit=dogecoin&size=100&after=1620186872&before=1620259199&is_self=True\n",
      "Fetching data from https://api.pushshift.io/reddit/search/submission?subreddit=dogecoin&size=100&after=1620187378&before=1620259199&is_self=True\n",
      "Fetching data from https://api.pushshift.io/reddit/search/submission?subreddit=dogecoin&size=100&after=1620187758&before=1620259199&is_self=True\n",
      "Fetching data from https://api.pushshift.io/reddit/search/submission?subreddit=dogecoin&size=100&after=1620188104&before=1620259199&is_self=True\n",
      "Fetching data from https://api.pushshift.io/reddit/search/submission?subreddit=dogecoin&size=100&after=1620188307&before=1620259199&is_self=True\n",
      "Fetching data from https://api.pushshift.io/reddit/search/submission?subreddit=dogecoin&size=100&after=1620188496&before=1620259199&is_self=True\n",
      "Fetching data from https://api.pushshift.io/reddit/search/submission?subreddit=dogecoin&size=100&after=1620188857&before=1620259199&is_self=True\n",
      "Fetching data from https://api.pushshift.io/reddit/search/submission?subreddit=dogecoin&size=100&after=1620189219&before=1620259199&is_self=True\n",
      "Fetching data from https://api.pushshift.io/reddit/search/submission?subreddit=dogecoin&size=100&after=1620189625&before=1620259199&is_self=True\n",
      "Fetching data from https://api.pushshift.io/reddit/search/submission?subreddit=dogecoin&size=100&after=1620190115&before=1620259199&is_self=True\n",
      "Fetching data from https://api.pushshift.io/reddit/search/submission?subreddit=dogecoin&size=100&after=1620190611&before=1620259199&is_self=True\n",
      "Fetching data from https://api.pushshift.io/reddit/search/submission?subreddit=dogecoin&size=100&after=1620191089&before=1620259199&is_self=True\n",
      "Fetching data from https://api.pushshift.io/reddit/search/submission?subreddit=dogecoin&size=100&after=1620191655&before=1620259199&is_self=True\n",
      "Fetching data from https://api.pushshift.io/reddit/search/submission?subreddit=dogecoin&size=100&after=1620192411&before=1620259199&is_self=True\n",
      "Fetching data from https://api.pushshift.io/reddit/search/submission?subreddit=dogecoin&size=100&after=1620193128&before=1620259199&is_self=True\n",
      "Fetching data from https://api.pushshift.io/reddit/search/submission?subreddit=dogecoin&size=100&after=1620193818&before=1620259199&is_self=True\n",
      "Fetching data from https://api.pushshift.io/reddit/search/submission?subreddit=dogecoin&size=100&after=1620194299&before=1620259199&is_self=True\n",
      "Fetching data from https://api.pushshift.io/reddit/search/submission?subreddit=dogecoin&size=100&after=1620194963&before=1620259199&is_self=True\n",
      "Fetching data from https://api.pushshift.io/reddit/search/submission?subreddit=dogecoin&size=100&after=1620195403&before=1620259199&is_self=True\n",
      "Fetching data from https://api.pushshift.io/reddit/search/submission?subreddit=dogecoin&size=100&after=1620196107&before=1620259199&is_self=True\n",
      "Fetching data from https://api.pushshift.io/reddit/search/submission?subreddit=dogecoin&size=100&after=1620196926&before=1620259199&is_self=True\n",
      "Fetching data from https://api.pushshift.io/reddit/search/submission?subreddit=dogecoin&size=100&after=1620197868&before=1620259199&is_self=True\n",
      "Fetching data from https://api.pushshift.io/reddit/search/submission?subreddit=dogecoin&size=100&after=1620199004&before=1620259199&is_self=True\n",
      "Fetching data from https://api.pushshift.io/reddit/search/submission?subreddit=dogecoin&size=100&after=1620200335&before=1620259199&is_self=True\n",
      "Fetching data from https://api.pushshift.io/reddit/search/submission?subreddit=dogecoin&size=100&after=1620201308&before=1620259199&is_self=True\n",
      "Fetching data from https://api.pushshift.io/reddit/search/submission?subreddit=dogecoin&size=100&after=1620202442&before=1620259199&is_self=True\n",
      "Fetching data from https://api.pushshift.io/reddit/search/submission?subreddit=dogecoin&size=100&after=1620203355&before=1620259199&is_self=True\n",
      "Fetching data from https://api.pushshift.io/reddit/search/submission?subreddit=dogecoin&size=100&after=1620204269&before=1620259199&is_self=True\n",
      "Fetching data from https://api.pushshift.io/reddit/search/submission?subreddit=dogecoin&size=100&after=1620205638&before=1620259199&is_self=True\n",
      "Fetching data from https://api.pushshift.io/reddit/search/submission?subreddit=dogecoin&size=100&after=1620207271&before=1620259199&is_self=True\n",
      "Fetching data from https://api.pushshift.io/reddit/search/submission?subreddit=dogecoin&size=100&after=1620208984&before=1620259199&is_self=True\n",
      "Fetching data from https://api.pushshift.io/reddit/search/submission?subreddit=dogecoin&size=100&after=1620210419&before=1620259199&is_self=True\n",
      "Fetching data from https://api.pushshift.io/reddit/search/submission?subreddit=dogecoin&size=100&after=1620211499&before=1620259199&is_self=True\n",
      "Fetching data from https://api.pushshift.io/reddit/search/submission?subreddit=dogecoin&size=100&after=1620212649&before=1620259199&is_self=True\n",
      "Fetching data from https://api.pushshift.io/reddit/search/submission?subreddit=dogecoin&size=100&after=1620213858&before=1620259199&is_self=True\n",
      "Fetching data from https://api.pushshift.io/reddit/search/submission?subreddit=dogecoin&size=100&after=1620214955&before=1620259199&is_self=True\n",
      "Fetching data from https://api.pushshift.io/reddit/search/submission?subreddit=dogecoin&size=100&after=1620215979&before=1620259199&is_self=True\n",
      "Fetching data from https://api.pushshift.io/reddit/search/submission?subreddit=dogecoin&size=100&after=1620217084&before=1620259199&is_self=True\n",
      "Fetching data from https://api.pushshift.io/reddit/search/submission?subreddit=dogecoin&size=100&after=1620218199&before=1620259199&is_self=True\n",
      "Fetching data from https://api.pushshift.io/reddit/search/submission?subreddit=dogecoin&size=100&after=1620219154&before=1620259199&is_self=True\n"
     ]
    },
    {
     "name": "stdout",
     "output_type": "stream",
     "text": [
      "Fetching data from https://api.pushshift.io/reddit/search/submission?subreddit=dogecoin&size=100&after=1620220279&before=1620259199&is_self=True\n",
      "Fetching data from https://api.pushshift.io/reddit/search/submission?subreddit=dogecoin&size=100&after=1620221168&before=1620259199&is_self=True\n",
      "Fetching data from https://api.pushshift.io/reddit/search/submission?subreddit=dogecoin&size=100&after=1620222030&before=1620259199&is_self=True\n",
      "Fetching data from https://api.pushshift.io/reddit/search/submission?subreddit=dogecoin&size=100&after=1620222887&before=1620259199&is_self=True\n",
      "Fetching data from https://api.pushshift.io/reddit/search/submission?subreddit=dogecoin&size=100&after=1620223813&before=1620259199&is_self=True\n",
      "Fetching data from https://api.pushshift.io/reddit/search/submission?subreddit=dogecoin&size=100&after=1620224480&before=1620259199&is_self=True\n",
      "Fetching data from https://api.pushshift.io/reddit/search/submission?subreddit=dogecoin&size=100&after=1620225392&before=1620259199&is_self=True\n",
      "Fetching data from https://api.pushshift.io/reddit/search/submission?subreddit=dogecoin&size=100&after=1620226498&before=1620259199&is_self=True\n",
      "Fetching data from https://api.pushshift.io/reddit/search/submission?subreddit=dogecoin&size=100&after=1620227438&before=1620259199&is_self=True\n",
      "Fetching data from https://api.pushshift.io/reddit/search/submission?subreddit=dogecoin&size=100&after=1620228300&before=1620259199&is_self=True\n",
      "Fetching data from https://api.pushshift.io/reddit/search/submission?subreddit=dogecoin&size=100&after=1620228650&before=1620259199&is_self=True\n",
      "Fetching data from https://api.pushshift.io/reddit/search/submission?subreddit=dogecoin&size=100&after=1620229066&before=1620259199&is_self=True\n",
      "Fetching data from https://api.pushshift.io/reddit/search/submission?subreddit=dogecoin&size=100&after=1620229366&before=1620259199&is_self=True\n",
      "Fetching data from https://api.pushshift.io/reddit/search/submission?subreddit=dogecoin&size=100&after=1620229763&before=1620259199&is_self=True\n",
      "Fetching data from https://api.pushshift.io/reddit/search/submission?subreddit=dogecoin&size=100&after=1620230285&before=1620259199&is_self=True\n",
      "Fetching data from https://api.pushshift.io/reddit/search/submission?subreddit=dogecoin&size=100&after=1620230591&before=1620259199&is_self=True\n",
      "Fetching data from https://api.pushshift.io/reddit/search/submission?subreddit=dogecoin&size=100&after=1620230717&before=1620259199&is_self=True\n",
      "Fetching data from https://api.pushshift.io/reddit/search/submission?subreddit=dogecoin&size=100&after=1620230877&before=1620259199&is_self=True\n",
      "Fetching data from https://api.pushshift.io/reddit/search/submission?subreddit=dogecoin&size=100&after=1620231002&before=1620259199&is_self=True\n",
      "Fetching data from https://api.pushshift.io/reddit/search/submission?subreddit=dogecoin&size=100&after=1620231207&before=1620259199&is_self=True\n",
      "Fetching data from https://api.pushshift.io/reddit/search/submission?subreddit=dogecoin&size=100&after=1620231548&before=1620259199&is_self=True\n",
      "Fetching data from https://api.pushshift.io/reddit/search/submission?subreddit=dogecoin&size=100&after=1620231803&before=1620259199&is_self=True\n",
      "Fetching data from https://api.pushshift.io/reddit/search/submission?subreddit=dogecoin&size=100&after=1620232096&before=1620259199&is_self=True\n",
      "Fetching data from https://api.pushshift.io/reddit/search/submission?subreddit=dogecoin&size=100&after=1620232339&before=1620259199&is_self=True\n",
      "Fetching data from https://api.pushshift.io/reddit/search/submission?subreddit=dogecoin&size=100&after=1620232660&before=1620259199&is_self=True\n",
      "Fetching data from https://api.pushshift.io/reddit/search/submission?subreddit=dogecoin&size=100&after=1620233255&before=1620259199&is_self=True\n",
      "Fetching data from https://api.pushshift.io/reddit/search/submission?subreddit=dogecoin&size=100&after=1620233955&before=1620259199&is_self=True\n",
      "Fetching data from https://api.pushshift.io/reddit/search/submission?subreddit=dogecoin&size=100&after=1620234539&before=1620259199&is_self=True\n",
      "Fetching data from https://api.pushshift.io/reddit/search/submission?subreddit=dogecoin&size=100&after=1620235347&before=1620259199&is_self=True\n",
      "Fetching data from https://api.pushshift.io/reddit/search/submission?subreddit=dogecoin&size=100&after=1620236015&before=1620259199&is_self=True\n",
      "Fetching data from https://api.pushshift.io/reddit/search/submission?subreddit=dogecoin&size=100&after=1620236858&before=1620259199&is_self=True\n",
      "Fetching data from https://api.pushshift.io/reddit/search/submission?subreddit=dogecoin&size=100&after=1620237699&before=1620259199&is_self=True\n",
      "Fetching data from https://api.pushshift.io/reddit/search/submission?subreddit=dogecoin&size=100&after=1620238622&before=1620259199&is_self=True\n",
      "Fetching data from https://api.pushshift.io/reddit/search/submission?subreddit=dogecoin&size=100&after=1620239742&before=1620259199&is_self=True\n",
      "Fetching data from https://api.pushshift.io/reddit/search/submission?subreddit=dogecoin&size=100&after=1620240820&before=1620259199&is_self=True\n",
      "Fetching data from https://api.pushshift.io/reddit/search/submission?subreddit=dogecoin&size=100&after=1620241951&before=1620259199&is_self=True\n",
      "Fetching data from https://api.pushshift.io/reddit/search/submission?subreddit=dogecoin&size=100&after=1620243003&before=1620259199&is_self=True\n",
      "Fetching data from https://api.pushshift.io/reddit/search/submission?subreddit=dogecoin&size=100&after=1620244170&before=1620259199&is_self=True\n",
      "Fetching data from https://api.pushshift.io/reddit/search/submission?subreddit=dogecoin&size=100&after=1620245338&before=1620259199&is_self=True\n",
      "Fetching data from https://api.pushshift.io/reddit/search/submission?subreddit=dogecoin&size=100&after=1620246300&before=1620259199&is_self=True\n",
      "Fetching data from https://api.pushshift.io/reddit/search/submission?subreddit=dogecoin&size=100&after=1620247088&before=1620259199&is_self=True\n",
      "Fetching data from https://api.pushshift.io/reddit/search/submission?subreddit=dogecoin&size=100&after=1620248142&before=1620259199&is_self=True\n",
      "Fetching data from https://api.pushshift.io/reddit/search/submission?subreddit=dogecoin&size=100&after=1620249380&before=1620259199&is_self=True\n",
      "Fetching data from https://api.pushshift.io/reddit/search/submission?subreddit=dogecoin&size=100&after=1620250382&before=1620259199&is_self=True\n",
      "Fetching data from https://api.pushshift.io/reddit/search/submission?subreddit=dogecoin&size=100&after=1620251442&before=1620259199&is_self=True\n",
      "Fetching data from https://api.pushshift.io/reddit/search/submission?subreddit=dogecoin&size=100&after=1620252890&before=1620259199&is_self=True\n",
      "Fetching data from https://api.pushshift.io/reddit/search/submission?subreddit=dogecoin&size=100&after=1620254454&before=1620259199&is_self=True\n",
      "Fetching data from https://api.pushshift.io/reddit/search/submission?subreddit=dogecoin&size=100&after=1620255670&before=1620259199&is_self=True\n",
      "Fetching data from https://api.pushshift.io/reddit/search/submission?subreddit=dogecoin&size=100&after=1620256548&before=1620259199&is_self=True\n",
      "Fetching data from https://api.pushshift.io/reddit/search/submission?subreddit=dogecoin&size=100&after=1620257447&before=1620259199&is_self=True\n",
      "Fetching data from https://api.pushshift.io/reddit/search/submission?subreddit=dogecoin&size=100&after=1620258583&before=1620259199&is_self=True\n",
      "Fetching data from https://api.pushshift.io/reddit/search/submission?subreddit=dogecoin&size=100&after=1620259190&before=1620259199&is_self=True\n",
      "---\n",
      "Task Completed\n"
     ]
    }
   ],
   "source": [
    "# specify params\n",
    "subreddit2 = 'dogecoin'\n",
    "start_datetime2 = '05/05/2021 00:00:00'\n",
    "end_datetime2 = '05/05/2021 23:59:59'\n",
    "\n",
    "# query result to dataframe\n",
    "dogecoin_df = get_submissions(subreddit2, start_datetime2, end_datetime2)"
   ]
  },
  {
   "cell_type": "code",
   "execution_count": 12,
   "metadata": {},
   "outputs": [
    {
     "name": "stdout",
     "output_type": "stream",
     "text": [
      "Our dataset has 10750 rows and 9 columns.\n"
     ]
    }
   ],
   "source": [
    "print('Our dataset has {} rows and {} columns.'.format(dogecoin_df.shape[0], dogecoin_df.shape[1]))"
   ]
  },
  {
   "cell_type": "code",
   "execution_count": 13,
   "metadata": {},
   "outputs": [
    {
     "data": {
      "text/html": [
       "<div>\n",
       "<style scoped>\n",
       "    .dataframe tbody tr th:only-of-type {\n",
       "        vertical-align: middle;\n",
       "    }\n",
       "\n",
       "    .dataframe tbody tr th {\n",
       "        vertical-align: top;\n",
       "    }\n",
       "\n",
       "    .dataframe thead th {\n",
       "        text-align: right;\n",
       "    }\n",
       "</style>\n",
       "<table border=\"1\" class=\"dataframe\">\n",
       "  <thead>\n",
       "    <tr style=\"text-align: right;\">\n",
       "      <th></th>\n",
       "      <th>id</th>\n",
       "      <th>full_link</th>\n",
       "      <th>author</th>\n",
       "      <th>created_utc</th>\n",
       "      <th>subreddit</th>\n",
       "      <th>selftext</th>\n",
       "      <th>title</th>\n",
       "      <th>num_comments</th>\n",
       "      <th>score</th>\n",
       "    </tr>\n",
       "  </thead>\n",
       "  <tbody>\n",
       "    <tr>\n",
       "      <th>0</th>\n",
       "      <td>n525ha</td>\n",
       "      <td>https://www.reddit.com/r/dogecoin/comments/n52...</td>\n",
       "      <td>Ok_Salt_7206</td>\n",
       "      <td>2021-05-05 00:00:38</td>\n",
       "      <td>dogecoin</td>\n",
       "      <td>Only serious guys please!\\n\\nPlease pm\\n\\nP.S....</td>\n",
       "      <td>6000 dogecoins for $83. Pm Fast who need</td>\n",
       "      <td>10</td>\n",
       "      <td>1</td>\n",
       "    </tr>\n",
       "    <tr>\n",
       "      <th>1</th>\n",
       "      <td>n5262o</td>\n",
       "      <td>https://www.reddit.com/r/dogecoin/comments/n52...</td>\n",
       "      <td>Ruskgodkrewdoge</td>\n",
       "      <td>2021-05-05 00:01:26</td>\n",
       "      <td>dogecoin</td>\n",
       "      <td></td>\n",
       "      <td>When doge passes eth the coin will be worth 4 ...</td>\n",
       "      <td>32</td>\n",
       "      <td>2</td>\n",
       "    </tr>\n",
       "    <tr>\n",
       "      <th>2</th>\n",
       "      <td>n5263b</td>\n",
       "      <td>https://www.reddit.com/r/dogecoin/comments/n52...</td>\n",
       "      <td>PingPing01</td>\n",
       "      <td>2021-05-05 00:01:27</td>\n",
       "      <td>dogecoin</td>\n",
       "      <td>[removed]</td>\n",
       "      <td>Buy HODL this is what we need</td>\n",
       "      <td>0</td>\n",
       "      <td>1</td>\n",
       "    </tr>\n",
       "    <tr>\n",
       "      <th>3</th>\n",
       "      <td>n526uy</td>\n",
       "      <td>https://www.reddit.com/r/dogecoin/comments/n52...</td>\n",
       "      <td>T1DLiving</td>\n",
       "      <td>2021-05-05 00:02:29</td>\n",
       "      <td>dogecoin</td>\n",
       "      <td>Hey fellow shibes, my birthday is in a couple ...</td>\n",
       "      <td>Birthday in a couple days</td>\n",
       "      <td>3</td>\n",
       "      <td>1</td>\n",
       "    </tr>\n",
       "    <tr>\n",
       "      <th>4</th>\n",
       "      <td>n526w3</td>\n",
       "      <td>https://www.reddit.com/r/dogecoin/comments/n52...</td>\n",
       "      <td>Malbec177</td>\n",
       "      <td>2021-05-05 00:02:31</td>\n",
       "      <td>dogecoin</td>\n",
       "      <td>Everyone should wish Elon Musks son Little X a...</td>\n",
       "      <td>Happy birthday to Elons son Little X!</td>\n",
       "      <td>1</td>\n",
       "      <td>1</td>\n",
       "    </tr>\n",
       "  </tbody>\n",
       "</table>\n",
       "</div>"
      ],
      "text/plain": [
       "       id                                          full_link           author  \\\n",
       "0  n525ha  https://www.reddit.com/r/dogecoin/comments/n52...     Ok_Salt_7206   \n",
       "1  n5262o  https://www.reddit.com/r/dogecoin/comments/n52...  Ruskgodkrewdoge   \n",
       "2  n5263b  https://www.reddit.com/r/dogecoin/comments/n52...       PingPing01   \n",
       "3  n526uy  https://www.reddit.com/r/dogecoin/comments/n52...        T1DLiving   \n",
       "4  n526w3  https://www.reddit.com/r/dogecoin/comments/n52...        Malbec177   \n",
       "\n",
       "          created_utc subreddit  \\\n",
       "0 2021-05-05 00:00:38  dogecoin   \n",
       "1 2021-05-05 00:01:26  dogecoin   \n",
       "2 2021-05-05 00:01:27  dogecoin   \n",
       "3 2021-05-05 00:02:29  dogecoin   \n",
       "4 2021-05-05 00:02:31  dogecoin   \n",
       "\n",
       "                                            selftext  \\\n",
       "0  Only serious guys please!\\n\\nPlease pm\\n\\nP.S....   \n",
       "1                                                      \n",
       "2                                          [removed]   \n",
       "3  Hey fellow shibes, my birthday is in a couple ...   \n",
       "4  Everyone should wish Elon Musks son Little X a...   \n",
       "\n",
       "                                               title  num_comments  score  \n",
       "0           6000 dogecoins for $83. Pm Fast who need            10      1  \n",
       "1  When doge passes eth the coin will be worth 4 ...            32      2  \n",
       "2                      Buy HODL this is what we need             0      1  \n",
       "3                          Birthday in a couple days             3      1  \n",
       "4              Happy birthday to Elons son Little X!             1      1  "
      ]
     },
     "metadata": {},
     "output_type": "display_data"
    }
   ],
   "source": [
    "# check the first five rows\n",
    "display(dogecoin_df.head())"
   ]
  },
  {
   "cell_type": "code",
   "execution_count": 14,
   "metadata": {},
   "outputs": [
    {
     "name": "stdout",
     "output_type": "stream",
     "text": [
      "Our dataset has 0 duplicated rows.\n"
     ]
    }
   ],
   "source": [
    "# check for duplicates\n",
    "print('Our dataset has {} duplicated rows.'.format(dogecoin_df[dogecoin_df.duplicated(subset=['id']) == True].shape[0]))"
   ]
  },
  {
   "cell_type": "code",
   "execution_count": 15,
   "metadata": {},
   "outputs": [
    {
     "name": "stdout",
     "output_type": "stream",
     "text": [
      "Time range of dogecoin posts collected.\n",
      "Min: 2021-05-05 00:00:38\n",
      "Max: 2021-05-05 23:59:50\n"
     ]
    }
   ],
   "source": [
    "print('Time range of', subreddit2 ,'posts collected.')\n",
    "print('Min:', dogecoin_df['created_utc'].min())\n",
    "print('Max:', dogecoin_df['created_utc'].max())"
   ]
  },
  {
   "cell_type": "code",
   "execution_count": 16,
   "metadata": {},
   "outputs": [
    {
     "name": "stdout",
     "output_type": "stream",
     "text": [
      "File has not been exported. Existing file has not been overwritten.\n"
     ]
    }
   ],
   "source": [
    "# save data\n",
    "df_to_csv(dogecoin_df, 'dogecoin.csv', export=False) # toggle export=true only when we want the existing file to be overwritten"
   ]
  },
  {
   "cell_type": "markdown",
   "metadata": {},
   "source": [
    "## Next steps"
   ]
  },
  {
   "cell_type": "markdown",
   "metadata": {},
   "source": [
    "In the [next notebook](02_Preprocessing_and_Modelling.ipynb), we'll look into exploring, cleaning, and preprocessing the data collected. Finally, comparing several models’ performance to get the best performing model."
   ]
  }
 ],
 "metadata": {
  "kernelspec": {
   "display_name": "Python 3",
   "language": "python",
   "name": "python3"
  },
  "language_info": {
   "codemirror_mode": {
    "name": "ipython",
    "version": 3
   },
   "file_extension": ".py",
   "mimetype": "text/x-python",
   "name": "python",
   "nbconvert_exporter": "python",
   "pygments_lexer": "ipython3",
   "version": "3.8.5"
  }
 },
 "nbformat": 4,
 "nbformat_minor": 4
}
