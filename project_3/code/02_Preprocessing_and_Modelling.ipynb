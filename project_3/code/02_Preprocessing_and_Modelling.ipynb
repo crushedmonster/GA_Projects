{
 "cells": [
  {
   "cell_type": "markdown",
   "metadata": {},
   "source": [
    "# Project 3: Web APIs & NLP"
   ]
  },
  {
   "cell_type": "markdown",
   "metadata": {},
   "source": [
    "## Contents:\n",
    "- [Recap](#Recap)\n",
    "- [Setup](#Setup)\n",
    "- [Loading Data](#Loading-Data)\n",
    "- [Basic Text Data Pre-processing](#Basic-Text-Data-Pre-processing)\n",
    "- [Cleaning Text Data](#Cleaning-Text-Data)\n",
    "- [Exploratory Data Analysis (EDA)](#Exploratory-Data-Analysis-(EDA))\n",
    "- [Classification Modelling](#Classification-Modelling)\n",
    "- [Production Model](#Production-Model)\n",
    "- [Overall Evaluation](#Overall-Evaluation)"
   ]
  },
  {
   "cell_type": "markdown",
   "metadata": {},
   "source": [
    "## Recap\n",
    "In the previous notebook, we have collected posts from two different subreddits — r/GME and r/dogecoin — using Pushshift's API."
   ]
  },
  {
   "cell_type": "markdown",
   "metadata": {},
   "source": [
    "## Setup\n",
    "All libraries used should be added here."
   ]
  },
  {
   "cell_type": "code",
   "execution_count": 1,
   "metadata": {},
   "outputs": [
    {
     "name": "stdout",
     "output_type": "stream",
     "text": [
      "✔ Download and installation successful\n",
      "You can now load the package via spacy.load('en_core_web_sm')\n"
     ]
    }
   ],
   "source": [
    "# import libraries\n",
    "import os\n",
    "import pandas as pd\n",
    "import matplotlib.pyplot as plt\n",
    "import seaborn as sns\n",
    "import numpy as np\n",
    "\n",
    "from bs4 import BeautifulSoup\n",
    "import warnings\n",
    "warnings.filterwarnings(\"ignore\", category=UserWarning, module='bs4')\n",
    "\n",
    "import re\n",
    "import nltk\n",
    "from nltk.tokenize import RegexpTokenizer\n",
    "from nltk.corpus import stopwords\n",
    "import emoji # https://pypi.org/project/emoji/\n",
    "import string\n",
    "import spacy\n",
    "from wordcloud import WordCloud, STOPWORDS, ImageColorGenerator\n",
    "from sklearn.feature_extraction.text import CountVectorizer,TfidfVectorizer\n",
    "from sklearn.model_selection import train_test_split, GridSearchCV, RandomizedSearchCV\n",
    "from sklearn.metrics import accuracy_score, f1_score, confusion_matrix, plot_confusion_matrix\n",
    "from sklearn.pipeline import Pipeline\n",
    "from sklearn.ensemble import RandomForestClassifier\n",
    "from sklearn.linear_model import LogisticRegression\n",
    "from sklearn.naive_bayes import MultinomialNB\n",
    "\n",
    "# Note: Microsoft Visual C++ 14.0 or greater is required to install contractions library \n",
    "import contractions # https://github.com/kootenpv/contractions\n",
    "\n",
    "from abbreviations import manual_abbr_dict # available in the abbreviations.py file \n",
    "from typos import manual_typos_dict # available in the typos.py file\n",
    "\n",
    "# download spacy trained pipeline\n",
    "spacy.cli.download(\"en_core_web_sm\")\n",
    "# initialize spacy 'en_core_web_sm' model\n",
    "nlp = spacy.load(\"en_core_web_sm\")\n",
    "\n",
    "# intialize stopword list\n",
    "stopword_list = stopwords.words('english')\n",
    "\n",
    "# this setting widens how many characters pandas will display in a column:\n",
    "pd.options.display.max_colwidth = 400"
   ]
  },
  {
   "cell_type": "code",
   "execution_count": 2,
   "metadata": {},
   "outputs": [],
   "source": [
    "# path to save the figures\n",
    "assets_path = '../assets'\n",
    "os.makedirs(assets_path, exist_ok=True)\n",
    "\n",
    "# Create a function to save figures\n",
    "def save_fig(fig_id, tight_layout=True, fig_extension=\"png\", resolution=300):\n",
    "    path = os.path.join(assets_path, fig_id + \".\" + fig_extension)\n",
    "    print(\"Saving figure\", fig_id)\n",
    "    if tight_layout:\n",
    "        plt.tight_layout()\n",
    "    plt.savefig(path, format=fig_extension, dpi=resolution)"
   ]
  },
  {
   "cell_type": "markdown",
   "metadata": {},
   "source": [
    "## Loading Data\n",
    "Import the datasets required."
   ]
  },
  {
   "cell_type": "code",
   "execution_count": 3,
   "metadata": {},
   "outputs": [],
   "source": [
    "# set the input and output relative paths\n",
    "input_path = '../data'\n",
    "output_path = '../data'"
   ]
  },
  {
   "cell_type": "code",
   "execution_count": 4,
   "metadata": {},
   "outputs": [],
   "source": [
    "# write a function to load the datasets\n",
    "def load_gme_data(filename='GME.csv'):\n",
    "    csv_gme_path = os.path.join(input_path, filename)\n",
    "    return pd.read_csv(csv_gme_path)\n",
    "\n",
    "def load_dogecoin_data(filename='dogecoin.csv'):\n",
    "    csv_dogecoin_path = os.path.join(input_path, filename)\n",
    "    return pd.read_csv(csv_dogecoin_path)"
   ]
  },
  {
   "cell_type": "code",
   "execution_count": 5,
   "metadata": {},
   "outputs": [],
   "source": [
    "GME_df = load_gme_data()\n",
    "dogecoin_df = load_dogecoin_data()"
   ]
  },
  {
   "cell_type": "code",
   "execution_count": 6,
   "metadata": {},
   "outputs": [
    {
     "name": "stdout",
     "output_type": "stream",
     "text": [
      "The GME dataset has 6805 rows and 9 columns.\n",
      "The dogecoin dataset has 10750 rows and 9 columns.\n"
     ]
    }
   ],
   "source": [
    "print('The GME dataset has {} rows and {} columns.'.format(GME_df.shape[0], GME_df.shape[1]))\n",
    "print('The dogecoin dataset has {} rows and {} columns.'.format(dogecoin_df.shape[0], dogecoin_df.shape[1]))"
   ]
  },
  {
   "cell_type": "markdown",
   "metadata": {},
   "source": [
    "Combine the datasets."
   ]
  },
  {
   "cell_type": "code",
   "execution_count": 7,
   "metadata": {},
   "outputs": [],
   "source": [
    "df = pd.concat([GME_df, dogecoin_df], axis=0).reset_index(drop=True)"
   ]
  },
  {
   "cell_type": "code",
   "execution_count": 8,
   "metadata": {},
   "outputs": [
    {
     "data": {
      "text/html": [
       "<div>\n",
       "<style scoped>\n",
       "    .dataframe tbody tr th:only-of-type {\n",
       "        vertical-align: middle;\n",
       "    }\n",
       "\n",
       "    .dataframe tbody tr th {\n",
       "        vertical-align: top;\n",
       "    }\n",
       "\n",
       "    .dataframe thead th {\n",
       "        text-align: right;\n",
       "    }\n",
       "</style>\n",
       "<table border=\"1\" class=\"dataframe\">\n",
       "  <thead>\n",
       "    <tr style=\"text-align: right;\">\n",
       "      <th></th>\n",
       "      <th>id</th>\n",
       "      <th>full_link</th>\n",
       "      <th>author</th>\n",
       "      <th>created_utc</th>\n",
       "      <th>subreddit</th>\n",
       "      <th>selftext</th>\n",
       "      <th>title</th>\n",
       "      <th>num_comments</th>\n",
       "      <th>score</th>\n",
       "    </tr>\n",
       "  </thead>\n",
       "  <tbody>\n",
       "    <tr>\n",
       "      <th>0</th>\n",
       "      <td>l1n3vd</td>\n",
       "      <td>https://www.reddit.com/r/GME/comments/l1n3vd/greetings_gme_gang/</td>\n",
       "      <td>Jeffamazon</td>\n",
       "      <td>2021-01-21 00:52:21</td>\n",
       "      <td>GME</td>\n",
       "      <td>Just stumbled upon this sub. Didn't know it existed. I joined GME gang back in September and posted some DD to WSB.\\n\\nHow is this sub organized? If I could recommend a live daily discussion thread and separate megathreads for SEC filings or other market moving news.\\n\\nCheers!</td>\n",
       "      <td>Greetings GME Gang</td>\n",
       "      <td>55</td>\n",
       "      <td>1</td>\n",
       "    </tr>\n",
       "    <tr>\n",
       "      <th>1</th>\n",
       "      <td>l1o60a</td>\n",
       "      <td>https://www.reddit.com/r/GME/comments/l1o60a/help_make_q4_great/</td>\n",
       "      <td>stoney-the-tiger</td>\n",
       "      <td>2021-01-21 01:48:42</td>\n",
       "      <td>GME</td>\n",
       "      <td>[removed]</td>\n",
       "      <td>Help Make Q4 Great</td>\n",
       "      <td>0</td>\n",
       "      <td>1</td>\n",
       "    </tr>\n",
       "    <tr>\n",
       "      <th>2</th>\n",
       "      <td>l1wi6q</td>\n",
       "      <td>https://www.reddit.com/r/GME/comments/l1wi6q/remember_lads_scared_money_dont_make_money/</td>\n",
       "      <td>B1ake1</td>\n",
       "      <td>2021-01-21 11:13:54</td>\n",
       "      <td>GME</td>\n",
       "      <td>HOLD THE LINES \\n\\n\\n120 shares @27</td>\n",
       "      <td>Remember lads, scared money don't make money.</td>\n",
       "      <td>0</td>\n",
       "      <td>1</td>\n",
       "    </tr>\n",
       "    <tr>\n",
       "      <th>3</th>\n",
       "      <td>l22dsa</td>\n",
       "      <td>https://www.reddit.com/r/GME/comments/l22dsa/how_do_we_know_when_the_squeeze_has_happened/</td>\n",
       "      <td>Dustin_James_Kid</td>\n",
       "      <td>2021-01-21 16:55:19</td>\n",
       "      <td>GME</td>\n",
       "      <td>I’m new and trying to learn. This stock scares me, because I don’t know how to access info on all the shorts.</td>\n",
       "      <td>How do we know when the squeeze has happened?</td>\n",
       "      <td>8</td>\n",
       "      <td>1</td>\n",
       "    </tr>\n",
       "    <tr>\n",
       "      <th>4</th>\n",
       "      <td>l22r5n</td>\n",
       "      <td>https://www.reddit.com/r/GME/comments/l22r5n/where_are_the_fucking_reinforcements/</td>\n",
       "      <td>MailNurse</td>\n",
       "      <td>2021-01-21 17:11:48</td>\n",
       "      <td>GME</td>\n",
       "      <td>Price is sub 40 now. :(.</td>\n",
       "      <td>WHERE ARE THE FUCKING REINFORCEMENTS</td>\n",
       "      <td>20</td>\n",
       "      <td>1</td>\n",
       "    </tr>\n",
       "  </tbody>\n",
       "</table>\n",
       "</div>"
      ],
      "text/plain": [
       "       id  \\\n",
       "0  l1n3vd   \n",
       "1  l1o60a   \n",
       "2  l1wi6q   \n",
       "3  l22dsa   \n",
       "4  l22r5n   \n",
       "\n",
       "                                                                                    full_link  \\\n",
       "0                            https://www.reddit.com/r/GME/comments/l1n3vd/greetings_gme_gang/   \n",
       "1                            https://www.reddit.com/r/GME/comments/l1o60a/help_make_q4_great/   \n",
       "2    https://www.reddit.com/r/GME/comments/l1wi6q/remember_lads_scared_money_dont_make_money/   \n",
       "3  https://www.reddit.com/r/GME/comments/l22dsa/how_do_we_know_when_the_squeeze_has_happened/   \n",
       "4          https://www.reddit.com/r/GME/comments/l22r5n/where_are_the_fucking_reinforcements/   \n",
       "\n",
       "             author          created_utc subreddit  \\\n",
       "0        Jeffamazon  2021-01-21 00:52:21       GME   \n",
       "1  stoney-the-tiger  2021-01-21 01:48:42       GME   \n",
       "2            B1ake1  2021-01-21 11:13:54       GME   \n",
       "3  Dustin_James_Kid  2021-01-21 16:55:19       GME   \n",
       "4         MailNurse  2021-01-21 17:11:48       GME   \n",
       "\n",
       "                                                                                                                                                                                                                                                                                 selftext  \\\n",
       "0  Just stumbled upon this sub. Didn't know it existed. I joined GME gang back in September and posted some DD to WSB.\\n\\nHow is this sub organized? If I could recommend a live daily discussion thread and separate megathreads for SEC filings or other market moving news.\\n\\nCheers!   \n",
       "1                                                                                                                                                                                                                                                                               [removed]   \n",
       "2                                                                                                                                                                                                                                                     HOLD THE LINES \\n\\n\\n120 shares @27   \n",
       "3                                                                                                                                                                           I’m new and trying to learn. This stock scares me, because I don’t know how to access info on all the shorts.   \n",
       "4                                                                                                                                                                                                                                                                Price is sub 40 now. :(.   \n",
       "\n",
       "                                           title  num_comments  score  \n",
       "0                             Greetings GME Gang            55      1  \n",
       "1                             Help Make Q4 Great             0      1  \n",
       "2  Remember lads, scared money don't make money.             0      1  \n",
       "3  How do we know when the squeeze has happened?             8      1  \n",
       "4           WHERE ARE THE FUCKING REINFORCEMENTS            20      1  "
      ]
     },
     "metadata": {},
     "output_type": "display_data"
    }
   ],
   "source": [
    "# check the first five rows\n",
    "display(df.head())"
   ]
  },
  {
   "cell_type": "code",
   "execution_count": 9,
   "metadata": {},
   "outputs": [
    {
     "name": "stdout",
     "output_type": "stream",
     "text": [
      "The combined dataset has 17555 rows and 9 columns.\n"
     ]
    }
   ],
   "source": [
    "print('The combined dataset has {} rows and {} columns.'.format(df.shape[0], dogecoin_df.shape[1]))"
   ]
  },
  {
   "cell_type": "markdown",
   "metadata": {},
   "source": [
    "## Basic Text Data Pre-processing\n",
    "Before jumping to the exploration stage, we need to perform basic data pre-processing steps like null value imputation and removal of unwanted data. \n",
    "\n",
    "Let’s see if there are any null values present in our dataset:"
   ]
  },
  {
   "cell_type": "code",
   "execution_count": 10,
   "metadata": {},
   "outputs": [
    {
     "data": {
      "text/plain": [
       "id                 0\n",
       "full_link          0\n",
       "author             0\n",
       "created_utc        0\n",
       "subreddit          0\n",
       "selftext        4449\n",
       "title              0\n",
       "num_comments       0\n",
       "score              0\n",
       "dtype: int64"
      ]
     },
     "execution_count": 10,
     "metadata": {},
     "output_type": "execute_result"
    }
   ],
   "source": [
    "df.isnull().sum()"
   ]
  },
  {
   "cell_type": "markdown",
   "metadata": {},
   "source": [
    "It appears that the null values present is valid as they are simply posts with title but no text content. We'll impute these null values with empty string."
   ]
  },
  {
   "cell_type": "code",
   "execution_count": 11,
   "metadata": {},
   "outputs": [
    {
     "data": {
      "text/plain": [
       "id              0\n",
       "full_link       0\n",
       "author          0\n",
       "created_utc     0\n",
       "subreddit       0\n",
       "selftext        0\n",
       "title           0\n",
       "num_comments    0\n",
       "score           0\n",
       "dtype: int64"
      ]
     },
     "execution_count": 11,
     "metadata": {},
     "output_type": "execute_result"
    }
   ],
   "source": [
    "# impute null values with empty string\n",
    "df['selftext'] = df['selftext'].fillna('')\n",
    "df.isnull().sum()"
   ]
  },
  {
   "cell_type": "markdown",
   "metadata": {},
   "source": [
    "When a post on reddit is removed by spam filter or the moderators, the text content will be replaced with '[removed]'. Similarly, when a post on reddit has been deleted by the author who posted it, the text content will be replaced with '[deleted]'. Hence, we want to get rid of the text contents that contains either '[removed]' or '[deleted]'."
   ]
  },
  {
   "cell_type": "code",
   "execution_count": 12,
   "metadata": {},
   "outputs": [],
   "source": [
    "# remove text contents that contains either '[removed]' or '[deleted]'\n",
    "df = df[(df['selftext']!='[deleted]') & (df['selftext']!='[removed]')]"
   ]
  },
  {
   "cell_type": "code",
   "execution_count": 13,
   "metadata": {},
   "outputs": [
    {
     "name": "stdout",
     "output_type": "stream",
     "text": [
      "The combined dataset has 14318 rows and 9 columns now.\n"
     ]
    }
   ],
   "source": [
    "print('The combined dataset has {} rows and {} columns now.'.format(df.shape[0], dogecoin_df.shape[1]))"
   ]
  },
  {
   "cell_type": "markdown",
   "metadata": {},
   "source": [
    "## Cleaning Text Data\n",
    "Generally, text data contains a lot of noise either in the form of symbols or in the form of punctuations and stopwords. Therefore, it is essential that we clean the text, not just for making it more understandable but also for getting better insights. Based on our problem statement, we'll only be cleaning the text in the two columns: `title` & `selftext`.\n",
    "\n",
    "So, let’s start with the `title` column first. Let's take a look at the text present in this column:"
   ]
  },
  {
   "cell_type": "code",
   "execution_count": 14,
   "metadata": {},
   "outputs": [
    {
     "data": {
      "text/plain": [
       "array(['Greetings GME Gang',\n",
       "       \"Remember lads, scared money don't make money.\",\n",
       "       'How do we know when the squeeze has happened?', ...,\n",
       "       \"Don't be a fool!\",\n",
       "       'this elon musk boring company not a flamethrower is syckkkkk',\n",
       "       'Dogecoin will hit $11 on June 11th 2022.'], dtype=object)"
      ]
     },
     "execution_count": 14,
     "metadata": {},
     "output_type": "execute_result"
    }
   ],
   "source": [
    "df['title'].unique()"
   ]
  },
  {
   "cell_type": "markdown",
   "metadata": {},
   "source": [
    "We can see that we have some contractions like “Don't”, numbers like “11”, slangs like 'syckkkk' and punctuations like “,”, “!” and “.” present in the title. "
   ]
  },
  {
   "cell_type": "code",
   "execution_count": 15,
   "metadata": {},
   "outputs": [
    {
     "name": "stdout",
     "output_type": "stream",
     "text": [
      "Text Content 1:\n",
      " Just what it says. \n",
      "\n",
      "---\n",
      "Text Content 2:\n",
      " Make sure to download the GameStop add and give it 5 star rating. And if you have any left of money (that didn’t go into GME shares) make sure to sign up for their rewards program. Cheers. $GME 🚀🚀🚀🚀🚀🚀🚀🚀🚀🚀🚀🚀🚀🚀🚀🚀🚀🚀🚀🚀🚀🚀🚀 \n",
      "\n",
      "---\n",
      "Text Content 3:\n",
      " Was there a specific catalyst? \n",
      "\n",
      "---\n",
      "Text Content 4:\n",
      " One of Andrew Left's cases for selling $GME was the fact that shorts can still borrow shares easily and aren't paying high interest rates to hold these shares! This is **blasphemy**. On E-Trade right now its literally **impossible** to short the stock (no shares available, check picture). E-Trade is one of the largest trading platforms in the world!\n",
      "\n",
      "&amp;#x200B;\n",
      "\n",
      "https://preview.redd.it/zrtz5c8e0uc61.jpg?width=1080&amp;format=pjpg&amp;auto=webp&amp;s=784fbbb3de426dc7f2cad36c7730e0150d871c4e\n",
      "\n",
      "And when you were able to short the stock the borrow rates were **astronomical**..... not \"average\" as he suggests.... I have posted proof of that as well (I was short GME for a while. Gay bear I know). He paints a picture as if these huge hedge funds are short GME and willing to wait it out for months for their \"thesis\" to prove true. I also believe this is false.\n",
      "\n",
      "&amp;#x200B;\n",
      "\n",
      "https://preview.redd.it/hgcbhjdh0uc61.png?width=1491&amp;format=png&amp;auto=webp&amp;s=87c38c9160f110330fc35d7aa710911923c7296b\n",
      "\n",
      "**The scary thing about short positions is when they move against you is the get larger.** What starts out as a $10million dollar bet against Gamestop at $5 share price is now a $100million dollar bet if the stock price hits $50. Also consider that many of these funds were probably doubling down as the stock ran up. See how a position that was maybe 1% of your portfolio can quickly become 20% or even more.\n",
      "\n",
      "What Andrew doesn't want to admit is some of these big funds are holding **massive** bags. I guarantee you it's getting to the point where the juice is no longer worth the squeeze. Shares are getting called back, margin terms are changing (it happened at E-trade), and firms are paying super high interest rates just to hold their position. Not to mention this is happening in the middle of a crazy bull run. Do fund managers really want to continue holding this position when so much other stuff is hitting all time highs?\n",
      "\n",
      "Basically what fund managers are beginning to be say to themselves is something along the lines of \"**the markets can remain irrational longer than you can remain solvent.\"** Frankly the original thesis doesn't even matter anymore. What matters is the stock is up nearly 1000% in the last 6 months and their short position has become so large that it's a massive liability. They aren't stupid. They a gamma  squeeze could send this thing to $1,000.\n",
      "\n",
      "What I'm saying is that investors are applying so much pressure that they're going to break. The thesis of the company changed when Ryan Cohen came on board. That's when you saw institutional **smart/big** money get on the long side. The companies who are short want to get out of their positions but they don't want to cover at this price. They desperately want the stock to dip to $20 so they can exit their positions without a MTD portfolio loss of double digits. Remember that the people making these decisions got there because they were almost always **correct**. They are feeling the pressure. One bad trade can unravel everything you've worked for in wallstreet.\n",
      "\n",
      "**What This Means**: Buy as many shares as you can and hold no matter what. As long as we don't sell we will avoid a massive sell-off. Their aren't enough shares available to short for them to drive down the price artificially.\n",
      "\n",
      "Disclaimer:\n",
      "\n",
      "I am long Gamestop with 8,000 shares.\n",
      "\n",
      "&amp;#x200B;\n",
      "\n",
      "https://preview.redd.it/ioteiybk0uc61.png?width=758&amp;format=png&amp;auto=webp&amp;s=71ee93180bdb521777ea8190888fd8c8b1cbd9a8 \n",
      "\n",
      "---\n"
     ]
    }
   ],
   "source": [
    "for index,text in enumerate(df['selftext'][36:40]):\n",
    "  print('Text Content %d:\\n'%(index+1),text, '\\n\\n---')"
   ]
  },
  {
   "cell_type": "markdown",
   "metadata": {},
   "source": [
    "Similarly, we can see that we have contractions, numbers, punctuations, characters like '\\&amp;#x200B;' that stem from (Reddit-specific) markdown formatting, html links, abbreviations like 'MTD' and emojis like '🚀' present in the `selftext` column. \n",
    "\n",
    "We’ll build a text cleaning function by chaining the following operations:\n",
    "- Clean characters that stem from (Reddit-specific) markdown formatting\n",
    "- Convert emoji to text using *emoji* library\n",
    "- Remove HTML tags and links\n",
    "- Convert all text to lowercase\n",
    "- Convert slangs/typos to its original word\n",
    "- Expand abbreviations\n",
    "- Expand contractions using *contractions* library (Note: Microsoft Visual C++ 14.0 or greater is required. Get it with \"Microsoft C++ Build Tools\": https://visualstudio.microsoft.com/visual-cpp-build-tools/)\n",
    "- Remove special characters (we'll keep the hypenated words together)\n",
    "- Remove extra whitespace\n",
    "\n",
    "We'll keep the following steps optional:\n",
    "- Stopwords removal\n",
    "- Stemming\n",
    "- Lemmatization "
   ]
  },
  {
   "cell_type": "markdown",
   "metadata": {},
   "source": [
    "**Clean characters from (Reddit-specific) markdown formatting**"
   ]
  },
  {
   "cell_type": "code",
   "execution_count": 16,
   "metadata": {},
   "outputs": [
    {
     "name": "stdout",
     "output_type": "stream",
     "text": [
      "[input]: I also believe this is false. \n",
      "\n",
      " &amp;#x200B;\n",
      "[output]: I also believe this is false.   \n"
     ]
    }
   ],
   "source": [
    "# create a function to clean characters from (Reddit-specific) markdown formatting\n",
    "def clean_reddit_formating(text):\n",
    "    \"\"\"\n",
    "    Clean characters from (Reddit-specific) markdown formatting.\n",
    "    \"\"\"\n",
    "    # remove new line\n",
    "    text = \" \".join([word for word in text.split('\\n') if word.strip() != ''])\n",
    "    # remove &amp;#x200B; (bullet point) \n",
    "    text = re.sub('&amp;#x200B;', '', text)\n",
    "    # remove &gt; (quote)\n",
    "    text = re.sub('&gt;', '', text)\n",
    "    return text\n",
    "\n",
    "sample_text = 'I also believe this is false. \\n\\n &amp;#x200B;'\n",
    "\n",
    "print('[input]:', sample_text)\n",
    "print('[output]:',clean_reddit_formating(sample_text))"
   ]
  },
  {
   "cell_type": "markdown",
   "metadata": {},
   "source": [
    "**Convert emoji to text**"
   ]
  },
  {
   "cell_type": "code",
   "execution_count": 17,
   "metadata": {},
   "outputs": [
    {
     "name": "stdout",
     "output_type": "stream",
     "text": [
      "[input]: Cheers. $GME 😀🚀🚀🚀🚀\n",
      "[output]: Cheers. $GME :grinning_face::rocket::rocket::rocket::rocket:\n"
     ]
    }
   ],
   "source": [
    "sample_text = 'Cheers. $GME 😀🚀🚀🚀🚀'\n",
    "print('[input]:', sample_text)\n",
    "print('[output]:', emoji.demojize(sample_text))"
   ]
  },
  {
   "cell_type": "markdown",
   "metadata": {},
   "source": [
    "**Remove html tags and links**"
   ]
  },
  {
   "cell_type": "code",
   "execution_count": 18,
   "metadata": {},
   "outputs": [
    {
     "name": "stdout",
     "output_type": "stream",
     "text": [
      "[input]: <html><h2>some important text</h2></html> https://preview.redd.it/\n",
      "[output]: some important text \n"
     ]
    }
   ],
   "source": [
    "# create a function to remove html tags and links since they are not useful for our nlp tasks\n",
    "def strip_html_tags_and_links(text):\n",
    "    \"\"\"\n",
    "    Remove html tags and links from text.\n",
    "    \"\"\"\n",
    "    # remove html tags using BeautifulSoupw\n",
    "    text = BeautifulSoup(text).get_text()\n",
    "    # remove html links\n",
    "    regex_html = r'http[s]?://(?:[a-zA-Z]|[0-9]|[$-_@.&+]|[!*\\(\\),]|(?:%[0-9a-fA-F][0-9a-fA-F]))+'\n",
    "    text = re.sub(regex_html, r'', text, flags=re.MULTILINE)\n",
    "    return text\n",
    "\n",
    "sample_text = '<html><h2>some important text</h2></html> https://preview.redd.it/'\n",
    "print('[input]:', sample_text)\n",
    "print('[output]:', strip_html_tags_and_links(sample_text))"
   ]
  },
  {
   "cell_type": "markdown",
   "metadata": {},
   "source": [
    "**Convert slangs/typos to its original word**\n",
    "\n",
    "We will leverage the set of typos available in the [typos.py](./typos.py) file."
   ]
  },
  {
   "cell_type": "code",
   "execution_count": 19,
   "metadata": {},
   "outputs": [
    {
     "name": "stdout",
     "output_type": "stream",
     "text": [
      "[input]: should i buy $500 worth of dodgecoin?\n",
      "[output]: should i buy $500 worth of dogecoin?\n"
     ]
    }
   ],
   "source": [
    "# create a function to convert slangs/typos to its original word\n",
    "def recover_original_word(text, typos_dict=manual_typos_dict):\n",
    "    \"\"\"\n",
    "    Convert slangs or typos to its original word.\n",
    "    \"\"\"\n",
    "    # regular expression for finding abbreviations\n",
    "    # put \\b (boundary) to avoid the characters in the word to be replaced\n",
    "    typos_re=re.compile('(%s)' % '|'.join(r'\\b%s\\b' % s for s in typos_dict.keys()))\n",
    "    \n",
    "    def replace(match):\n",
    "        matched_str = re.escape(match.group(0))\n",
    "        return typos_dict[matched_str]\n",
    "    \n",
    "    text = typos_re.sub(replace, text)\n",
    "    return text\n",
    "\n",
    "sample_text = 'should i buy $500 worth of dodgecoin?'\n",
    "print('[input]:', sample_text)\n",
    "print('[output]:', recover_original_word(sample_text))\n",
    "## note at how dogecoin was misspelled"
   ]
  },
  {
   "cell_type": "markdown",
   "metadata": {},
   "source": [
    "**Expand abbreviations**\n",
    "\n",
    "We will leverage the set of abbreviations available in the [abbreviations.py](./abbreviations.py) file."
   ]
  },
  {
   "cell_type": "code",
   "execution_count": 20,
   "metadata": {},
   "outputs": [
    {
     "name": "stdout",
     "output_type": "stream",
     "text": [
      "[input]: help this doge noob pls!\n",
      "[output]: help this doge noob please!\n"
     ]
    }
   ],
   "source": [
    "# create a function for expanding abbreviations\n",
    "def expand_abbr(text, abbr_dict=manual_abbr_dict):\n",
    "    \"\"\"\n",
    "    Expand abbreviations in text.\n",
    "    \"\"\"\n",
    "    # regular expression for finding abbreviations\n",
    "    # put \\b (boundary) to avoid the characters in the word to be replaced\n",
    "    abbr_re=re.compile('(%s)' % '|'.join(r'\\b%s\\b' % s for s in abbr_dict.keys()))\n",
    "    \n",
    "    def replace(match):\n",
    "        matched_str = re.escape(match.group(0))\n",
    "        return abbr_dict[matched_str]\n",
    "    \n",
    "    text = abbr_re.sub(replace, text)\n",
    "    return text\n",
    "\n",
    "sample_text = 'help this doge noob pls!'\n",
    "print('[input]:', sample_text)\n",
    "print('[output]:', expand_abbr(sample_text))\n",
    "## note at how pls has been expanded to please"
   ]
  },
  {
   "cell_type": "markdown",
   "metadata": {},
   "source": [
    "**Expand contractions**"
   ]
  },
  {
   "cell_type": "code",
   "execution_count": 21,
   "metadata": {},
   "outputs": [
    {
     "name": "stdout",
     "output_type": "stream",
     "text": [
      "[input]: let's goooooo!\n",
      "[output]: let us goooooo!\n"
     ]
    }
   ],
   "source": [
    "sample_text = \"let's goooooo!\"\n",
    "print('[input]:', sample_text)\n",
    "print('[output]:', contractions.fix(sample_text))"
   ]
  },
  {
   "cell_type": "markdown",
   "metadata": {},
   "source": [
    "**Remove special characters**"
   ]
  },
  {
   "cell_type": "code",
   "execution_count": 22,
   "metadata": {},
   "outputs": [
    {
     "name": "stdout",
     "output_type": "stream",
     "text": [
      "[input]: should have bought more at 0.65 ^-^ :grinning_face::rocket::rocket: e-trade\n",
      "[output without digits removed]:  should have bought more at 0 65     grinning_face  rocket  rocket  etrade\n",
      "[output with digits removed]:  should have bought more at       grinning_face  rocket  rocket  etrade\n"
     ]
    }
   ],
   "source": [
    "# create a function to remove special characters\n",
    "# we'll enable a parameter to toggle on or off the step to remove numbers\n",
    "\n",
    "def remove_special_characters(text, remove_digits=False):\n",
    "    \"\"\"\n",
    "    Remove special characters from text. Removing digits have been set as optional.\n",
    "    \"\"\"\n",
    "    # keep hyphenated words together\n",
    "    table = str.maketrans('', '', '-')\n",
    "    text = ' '.join([word.translate(table) for word in text.split()])\n",
    "    # removing punctuations in string\n",
    "    text = re.sub(r'[^\\w\\s]', ' ', text)\n",
    "    pattern = r'[^a-zA-z0-9\\s]' if not remove_digits else r'[^a-zA-z\\s]'\n",
    "    text = re.sub(pattern, '', text)\n",
    "    return text\n",
    "\n",
    "sample_text = 'should have bought more at 0.65 ^-^ :grinning_face::rocket::rocket: e-trade'\n",
    "\n",
    "print('[input]:', sample_text)\n",
    "print('[output without digits removed]: ',remove_special_characters(sample_text , remove_digits=False))\n",
    "print('[output with digits removed]: ',remove_special_characters(sample_text , remove_digits=True))"
   ]
  },
  {
   "cell_type": "markdown",
   "metadata": {},
   "source": [
    "**Remove extra whitespaces**"
   ]
  },
  {
   "cell_type": "code",
   "execution_count": 23,
   "metadata": {},
   "outputs": [
    {
     "name": "stdout",
     "output_type": "stream",
     "text": [
      "[input]: Just  what    it says.\n",
      "[output]: Just what it says.\n"
     ]
    }
   ],
   "source": [
    "# create a function to remove extra whitespaces\n",
    "def remove_extra_whitespaces(text):\n",
    "    \"\"\"\n",
    "    Remove extra whitespaces from text.\n",
    "    \"\"\"\n",
    "    text = re.sub(' +', ' ', text)\n",
    "    text = ' '.join([word.strip() for word in text.split()])\n",
    "    return text\n",
    "\n",
    "sample_text = \"Just  what    it says.\"\n",
    "print('[input]:', sample_text)\n",
    "print('[output]:', remove_extra_whitespaces(sample_text))"
   ]
  },
  {
   "cell_type": "markdown",
   "metadata": {},
   "source": [
    "**Stopwords removal**"
   ]
  },
  {
   "cell_type": "code",
   "execution_count": 24,
   "metadata": {},
   "outputs": [
    {
     "name": "stdout",
     "output_type": "stream",
     "text": [
      "[input]: why does everyone keep saying there is a good chance there is going to be a big price drop this weekend ? \n",
      "[output]: everyone keep saying good chance going big price drop weekend ?\n"
     ]
    }
   ],
   "source": [
    "# create a function to remove stopwords\n",
    "def remove_stopwords(text, stopword_list):\n",
    "    \"\"\"\n",
    "    Remove stopwords from text.\n",
    "    \"\"\"\n",
    "    tokens = nltk.word_tokenize(text)\n",
    "    tokens = [token.strip() for token in tokens]\n",
    "    filtered_text = ' '.join([token for token in tokens if token not in stopword_list])  \n",
    "    return filtered_text\n",
    "\n",
    "sample_text = 'why does everyone keep saying there is a good chance there is going to be a big price drop this weekend ? '\n",
    "print('[input]:', sample_text)\n",
    "print('[output]:', remove_stopwords(sample_text, stopword_list))"
   ]
  },
  {
   "cell_type": "markdown",
   "metadata": {},
   "source": [
    "\n",
    "**Stemming**"
   ]
  },
  {
   "cell_type": "code",
   "execution_count": 25,
   "metadata": {},
   "outputs": [
    {
     "name": "stdout",
     "output_type": "stream",
     "text": [
      "[input]: why does everyone keep saying there is a good chance there is going to be a big price drop this weekend ? \n",
      "[output]: whi doe everyon keep say there is a good chanc there is go to be a big price drop thi weekend ?\n"
     ]
    }
   ],
   "source": [
    "# create a function for stemming\n",
    "def stem_text(text):\n",
    "    \"\"\"\n",
    "    Standardise words to their base or root stem.\n",
    "    \"\"\"\n",
    "    ps = nltk.porter.PorterStemmer()\n",
    "    text = ' '.join([ps.stem(word) for word in text.split()])\n",
    "    return text\n",
    "\n",
    "sample_text = 'why does everyone keep saying there is a good chance there is going to be a big price drop this weekend ? '\n",
    "print('[input]:', sample_text)\n",
    "print('[output]:', stem_text(sample_text))"
   ]
  },
  {
   "cell_type": "markdown",
   "metadata": {},
   "source": [
    "**Lemmatization**"
   ]
  },
  {
   "cell_type": "code",
   "execution_count": 26,
   "metadata": {},
   "outputs": [
    {
     "name": "stdout",
     "output_type": "stream",
     "text": [
      "[input]: why does everyone keep saying there is a good chance there is going to be a big price drop this weekend ? \n",
      "[output]: why do everyone keep say there be a good chance there be go to be a big price drop this weekend ?\n"
     ]
    }
   ],
   "source": [
    "# create a function for lemmatization\n",
    "def lemmatize_text(text):\n",
    "    \"\"\"\n",
    "    Standardise words to their base or root word.\n",
    "    \"\"\"\n",
    "    text = nlp(text)\n",
    "    text = ' '.join([word.lemma_ for word in text])\n",
    "    return text.lower()\n",
    "\n",
    "sample_text = 'why does everyone keep saying there is a good chance there is going to be a big price drop this weekend ? '\n",
    "print('[input]:', sample_text)\n",
    "print('[output]:', lemmatize_text(sample_text))"
   ]
  },
  {
   "cell_type": "markdown",
   "metadata": {},
   "source": [
    "\n",
    "Bringing it all together — building a text cleaning function:"
   ]
  },
  {
   "cell_type": "code",
   "execution_count": 27,
   "metadata": {},
   "outputs": [],
   "source": [
    "def clean_text(text, demoji = True, abbreviation_expansion = True, remove_digits = True, \n",
    "               stopword_removal = False, stopword_list= stopword_list, text_stemming = False, text_lemmatization = False):\n",
    "    \"\"\"\n",
    "    A single wrapper function to clean text data. \n",
    "    Removing stop words, stemming and lemmatising have been set as optional.\n",
    "    \"\"\"\n",
    "\n",
    "    # clean characters that stem from (Reddit-specific) markdown formatting \n",
    "    text = clean_reddit_formating(text)\n",
    "    \n",
    "    if demoji == True:\n",
    "        # convert emoji to text \n",
    "        text = emoji.demojize(text)\n",
    "    \n",
    "    # remove html tags and links\n",
    "    text = strip_html_tags_and_links(text)\n",
    "    \n",
    "    # convert text to lower case\n",
    "    text = text.lower()\n",
    "\n",
    "    # convert slangs/typos to its original word\n",
    "    text = recover_original_word(text)\n",
    "    \n",
    "    if abbreviation_expansion == True:\n",
    "        # expand abbreviations\n",
    "        text = expand_abbr(text)\n",
    "\n",
    "    # expand contractions\n",
    "    text = contractions.fix(text).lower()\n",
    "    \n",
    "    # remove special characters    \n",
    "    text = remove_special_characters(text, remove_digits=remove_digits)\n",
    "    \n",
    "    # tokenise and strip whitespaces\n",
    "    text = remove_extra_whitespaces(text)\n",
    "    \n",
    "    # stopwords removal\n",
    "    if stopword_removal == True:\n",
    "        text = remove_stopwords(text, stopword_list)\n",
    "    \n",
    "    # stemming text\n",
    "    if text_stemming == True:\n",
    "        text = stem_text(text)\n",
    "        \n",
    "    # lemmatize text\n",
    "    if text_lemmatization == True:\n",
    "        text = lemmatize_text(text)\n",
    "        \n",
    "    return text"
   ]
  },
  {
   "cell_type": "markdown",
   "metadata": {},
   "source": [
    "Let’s now put the text cleaning function into action. We will first combine the `title` & `selftext` together to form a document for each post. Then, we will clean the combined text using the function we have created."
   ]
  },
  {
   "cell_type": "code",
   "execution_count": 28,
   "metadata": {},
   "outputs": [],
   "source": [
    "# combining title and text content\n",
    "df['full_text'] = df[\"title\"].map(str)+ ' ' + df[\"selftext\"]"
   ]
  },
  {
   "cell_type": "code",
   "execution_count": 29,
   "metadata": {},
   "outputs": [],
   "source": [
    "# clean full_text without lemmatising/stemming and without removing stopwords\n",
    "df['cleaned_full_text'] = df['full_text'].apply(lambda x: clean_text(x))"
   ]
  },
  {
   "cell_type": "code",
   "execution_count": 30,
   "metadata": {},
   "outputs": [
    {
     "data": {
      "text/plain": [
       "{'full_text': 'How do we know when the squeeze has happened? I’m new and trying to learn. This stock scares me, because I don’t know how to access info on all the shorts.',\n",
       " 'cleaned_full_text': 'how do we know when the squeeze has happened i am new and trying to learn this stock scares me because i do not know how to access information on all the shorts'}"
      ]
     },
     "execution_count": 30,
     "metadata": {},
     "output_type": "execute_result"
    }
   ],
   "source": [
    "# show a sample output\n",
    "df.iloc[2][['full_text', 'cleaned_full_text']].to_dict()"
   ]
  },
  {
   "cell_type": "code",
   "execution_count": 31,
   "metadata": {},
   "outputs": [],
   "source": [
    "# export to csv\n",
    "df.to_csv(output_path + '/combined_dataset.csv')"
   ]
  },
  {
   "cell_type": "markdown",
   "metadata": {},
   "source": [
    "## Exploratory Data Analysis (EDA)"
   ]
  },
  {
   "cell_type": "markdown",
   "metadata": {},
   "source": [
    "Here is the data dictionary of the columns:\n",
    "\n",
    "|      Feature      |   Type  |                       Description                       |\n",
    "|:-----------------|:-------:|:-------------------------------------------------------|\n",
    "| id                | object  | Unique ID for each reddit submission                    |\n",
    "| full_link         | object  | URL of the submission                                   |\n",
    "| author            | object  | The username of the author who published the submission |\n",
    "| created_utc       | object  | The timestamp when the submission was created           |\n",
    "| subreddit         | object  | Name of the subreddit                                   |\n",
    "| selftext          | object  | The content of the submission                           |\n",
    "| title             | object  | The title of the submission                             |\n",
    "| num_comments      | integer | Number of comments by readers                           |\n",
    "| score             | integer | Number of upvotes minus the number of downvotes         |\n",
    "| full_text         | object  | The title and content of the submission                 |\n",
    "| cleaned_full_text | object  | Cleaned title and content of the submission             |"
   ]
  },
  {
   "cell_type": "markdown",
   "metadata": {},
   "source": [
    "### EDA on title and text content combined\n",
    "\n",
    "Let's look at the word counts of each reddit post. To get an accurate estimate of the word counts of each reddit post, we'll create a new column called `cleaned_full_text_word_count` that contains the number of words in `cleaned_full_text` column for each post:"
   ]
  },
  {
   "cell_type": "code",
   "execution_count": 32,
   "metadata": {},
   "outputs": [],
   "source": [
    "# creating a word count column\n",
    "df['cleaned_full_text_word_count'] = [len(word.split()) for word in df['cleaned_full_text']]"
   ]
  },
  {
   "cell_type": "markdown",
   "metadata": {},
   "source": [
    "### Longest and shortest title and text content combined\n",
    "Let's look at the five longest and five shortest `cleaned_full_text` based off of `cleaned_full_text_word_count`:"
   ]
  },
  {
   "cell_type": "code",
   "execution_count": 33,
   "metadata": {
    "scrolled": false
   },
   "outputs": [
    {
     "data": {
      "text/html": [
       "<div>\n",
       "<style scoped>\n",
       "    .dataframe tbody tr th:only-of-type {\n",
       "        vertical-align: middle;\n",
       "    }\n",
       "\n",
       "    .dataframe tbody tr th {\n",
       "        vertical-align: top;\n",
       "    }\n",
       "\n",
       "    .dataframe thead th {\n",
       "        text-align: right;\n",
       "    }\n",
       "</style>\n",
       "<table border=\"1\" class=\"dataframe\">\n",
       "  <thead>\n",
       "    <tr style=\"text-align: right;\">\n",
       "      <th></th>\n",
       "      <th>id</th>\n",
       "      <th>full_link</th>\n",
       "      <th>author</th>\n",
       "      <th>created_utc</th>\n",
       "      <th>subreddit</th>\n",
       "      <th>selftext</th>\n",
       "      <th>title</th>\n",
       "      <th>num_comments</th>\n",
       "      <th>score</th>\n",
       "      <th>full_text</th>\n",
       "      <th>cleaned_full_text</th>\n",
       "      <th>cleaned_full_text_word_count</th>\n",
       "    </tr>\n",
       "  </thead>\n",
       "  <tbody>\n",
       "    <tr>\n",
       "      <th>25</th>\n",
       "      <td>l2h6vm</td>\n",
       "      <td>https://www.reddit.com/r/GME/comments/l2h6vm/text_of_conspiracy_post_before_wsb_privated/</td>\n",
       "      <td>Pepe_Le_BUYMSFTCALLS</td>\n",
       "      <td>2021-01-22 05:42:33</td>\n",
       "      <td>GME</td>\n",
       "      <td>\\n\\n**GME - The Truth Behind Cramer, The News, Melvin &amp;amp; Shitron (Evidence of my warnings)**\\n\\nOC[Discussion](https://www.reddit.com/r/wallstreetbets/search?q=flair_name%3A%22Discussion%22&amp;amp;restrict_sr=1)\\n\\n**TLDR: The whole Citron attack, the news articles, Cramer etc was planned by pissed off hedge-funds (mainly Melvin) who want WSB to appear to be a single, coordinated market manip...</td>\n",
       "      <td>Text of Conspiracy post before WSB privated</td>\n",
       "      <td>15</td>\n",
       "      <td>1</td>\n",
       "      <td>Text of Conspiracy post before WSB privated  \\n\\n**GME - The Truth Behind Cramer, The News, Melvin &amp;amp; Shitron (Evidence of my warnings)**\\n\\nOC[Discussion](https://www.reddit.com/r/wallstreetbets/search?q=flair_name%3A%22Discussion%22&amp;amp;restrict_sr=1)\\n\\n**TLDR: The whole Citron attack, the news articles, Cramer etc was planned by pissed off hedge-funds (mainly Melvin) who want WSB to app...</td>\n",
       "      <td>text of conspiracy post before wallstreetbets privated gamestop the truth behind cramer the news melvin shitron evidence of my warnings oc discussion too long did not read the whole citron attack the news articles cramer etc was planned by pissed off hedgefunds mainly melvin who want wallstreetbets to appear to be a single coordinated market manipulating entity source london hedge fund pm hi e...</td>\n",
       "      <td>2117</td>\n",
       "    </tr>\n",
       "    <tr>\n",
       "      <th>1058</th>\n",
       "      <td>l6ed29</td>\n",
       "      <td>https://www.reddit.com/r/GME/comments/l6ed29/found_this_online_its_amazing_gme_hold_hooooold/</td>\n",
       "      <td>sophisticatedaddy</td>\n",
       "      <td>2021-01-27 21:04:16</td>\n",
       "      <td>GME</td>\n",
       "      <td>I Present To You: The GME Gamma Short Feedback Squeeze\\n\\nUnfortunately WSB mods already took this down twice, so here I am.\\n\\nWhat an exciting time to be alive! We're gonna bust an institutional short hedge fund Robinhood-style in the middle of a global pandemic and trigger a great redistribution of wealth.\\n\\nTLDR: Short squeeze trigger might've changed from waiting for GME/RC news about po...</td>\n",
       "      <td>Found this online, it’s amazing! GME 🚀 HOLD HOOOOOLD</td>\n",
       "      <td>4</td>\n",
       "      <td>12</td>\n",
       "      <td>Found this online, it’s amazing! GME 🚀 HOLD HOOOOOLD I Present To You: The GME Gamma Short Feedback Squeeze\\n\\nUnfortunately WSB mods already took this down twice, so here I am.\\n\\nWhat an exciting time to be alive! We're gonna bust an institutional short hedge fund Robinhood-style in the middle of a global pandemic and trigger a great redistribution of wealth.\\n\\nTLDR: Short squeeze trigger m...</td>\n",
       "      <td>found this online it is amazing gamestop rocket hold hold i present to you the gamestop gamma short feedback squeeze unfortunately wallstreetbets mods already took this down twice so here i am what an exciting time to be alive we are going to bust an institutional short hedge fund robinhoodstyle in the middle of a global pandemic and trigger a great redistribution of wealth too long did not re...</td>\n",
       "      <td>1783</td>\n",
       "    </tr>\n",
       "    <tr>\n",
       "      <th>3819</th>\n",
       "      <td>l7ye0f</td>\n",
       "      <td>https://www.reddit.com/r/GME/comments/l7ye0f/no_robinhood_webull_and_other_brokers_who_limited/</td>\n",
       "      <td>InvincibearREAL</td>\n",
       "      <td>2021-01-29 17:26:25</td>\n",
       "      <td>GME</td>\n",
       "      <td>I know this is an unpopular opinion because the optics make it appear that the brokers all out to protect the shorts and stick the bill on the little guys, classic David vs Goliath. So what actually is happening?\\n\\n**TLDR**; The DTC raised collateral limits to settle certain stock transactions from 1-3% to 100% for the 2 days held in escrow, which trickled down to clearing houses which don’t ...</td>\n",
       "      <td>No, Robinhood, Webull, and other brokers who limited buying yesterday are not colluding. This is the real reason behind brokers restricting buying $GME, $AMC, etc.</td>\n",
       "      <td>3</td>\n",
       "      <td>1</td>\n",
       "      <td>No, Robinhood, Webull, and other brokers who limited buying yesterday are not colluding. This is the real reason behind brokers restricting buying $GME, $AMC, etc. I know this is an unpopular opinion because the optics make it appear that the brokers all out to protect the shorts and stick the bill on the little guys, classic David vs Goliath. So what actually is happening?\\n\\n**TLDR**; The DT...</td>\n",
       "      <td>no robinhood webull and other brokers who limited buying yesterday are not colluding this is the real reason behind brokers restricting buying gamestop amc etc i know this is an unpopular opinion because the optics make it appear that the brokers all out to protect the shorts and stick the bill on the little guys classic david vs goliath so what actually is happening too long did not read the ...</td>\n",
       "      <td>1529</td>\n",
       "    </tr>\n",
       "    <tr>\n",
       "      <th>11390</th>\n",
       "      <td>n5bx9b</td>\n",
       "      <td>https://www.reddit.com/r/dogecoin/comments/n5bx9b/doge_is_an_exercise_in_game_theory_so_we_must/</td>\n",
       "      <td>Gagulta</td>\n",
       "      <td>2021-05-05 09:31:45</td>\n",
       "      <td>dogecoin</td>\n",
       "      <td>Dogecoin has taken crypto markets by storm. Over the last few months a once obscure ‘joke currency’ has been transformed into an economic powerhouse; a top five cryptocurrency and an epic underdog story. We’ve seen the lives of thousands of its supporters transformed; people are paying off their parents’ mortgages; saving their pets’ lives with expensive surgeries; donating significant sums to...</td>\n",
       "      <td>Doge is an Exercise in Game Theory, so we must Understand the Science of Game Theory to Maximise our Success</td>\n",
       "      <td>26</td>\n",
       "      <td>1</td>\n",
       "      <td>Doge is an Exercise in Game Theory, so we must Understand the Science of Game Theory to Maximise our Success Dogecoin has taken crypto markets by storm. Over the last few months a once obscure ‘joke currency’ has been transformed into an economic powerhouse; a top five cryptocurrency and an epic underdog story. We’ve seen the lives of thousands of its supporters transformed; people are paying ...</td>\n",
       "      <td>doge is an exercise in game theory so we must understand the science of game theory to maximise our success dogecoin has taken cryptocurrency markets by storm over the last few months a once obscure joke currency has been transformed into an economic powerhouse a top five cryptocurrency and an epic underdog story we have seen the lives of thousands of its supporters transformed people are payi...</td>\n",
       "      <td>1484</td>\n",
       "    </tr>\n",
       "    <tr>\n",
       "      <th>4340</th>\n",
       "      <td>l8crf4</td>\n",
       "      <td>https://www.reddit.com/r/GME/comments/l8crf4/read_read_read_gamestop_we_are_just_getting/</td>\n",
       "      <td>Several_Meet_8653</td>\n",
       "      <td>2021-01-30 03:33:41</td>\n",
       "      <td>GME</td>\n",
       "      <td>Very important read read read (we are only just getting started)🚀🚀🚀🚀💲💲💲💲\\n\\nOK, listen up, you late-to-the-party, crayon-eating homunculus, here's what's going on:\\n\\nOver the past year, hedge fund supervillains have made money by selling shares of Gamestop they don't actually own - they've just borrowed them. Short selling. If they sell enough they can drive the price down so far that when th...</td>\n",
       "      <td>*Read read read* GameStop $we are just getting started* share this everyone</td>\n",
       "      <td>1</td>\n",
       "      <td>1</td>\n",
       "      <td>*Read read read* GameStop $we are just getting started* share this everyone Very important read read read (we are only just getting started)🚀🚀🚀🚀💲💲💲💲\\n\\nOK, listen up, you late-to-the-party, crayon-eating homunculus, here's what's going on:\\n\\nOver the past year, hedge fund supervillains have made money by selling shares of Gamestop they don't actually own - they've just borrowed them. Short se...</td>\n",
       "      <td>read read read gamestop we are just getting started share this everyone very important read read read we are only just getting started rocket rocket rocket rocket heavy_dollar_sign heavy_dollar_sign heavy_dollar_sign heavy_dollar_sign ok listen up you latetotheparty crayoneating homunculus here is what is going on over the past year hedge fund supervillains have made money by selling shares of...</td>\n",
       "      <td>1361</td>\n",
       "    </tr>\n",
       "  </tbody>\n",
       "</table>\n",
       "</div>"
      ],
      "text/plain": [
       "           id  \\\n",
       "25     l2h6vm   \n",
       "1058   l6ed29   \n",
       "3819   l7ye0f   \n",
       "11390  n5bx9b   \n",
       "4340   l8crf4   \n",
       "\n",
       "                                                                                              full_link  \\\n",
       "25            https://www.reddit.com/r/GME/comments/l2h6vm/text_of_conspiracy_post_before_wsb_privated/   \n",
       "1058      https://www.reddit.com/r/GME/comments/l6ed29/found_this_online_its_amazing_gme_hold_hooooold/   \n",
       "3819    https://www.reddit.com/r/GME/comments/l7ye0f/no_robinhood_webull_and_other_brokers_who_limited/   \n",
       "11390  https://www.reddit.com/r/dogecoin/comments/n5bx9b/doge_is_an_exercise_in_game_theory_so_we_must/   \n",
       "4340          https://www.reddit.com/r/GME/comments/l8crf4/read_read_read_gamestop_we_are_just_getting/   \n",
       "\n",
       "                     author          created_utc subreddit  \\\n",
       "25     Pepe_Le_BUYMSFTCALLS  2021-01-22 05:42:33       GME   \n",
       "1058      sophisticatedaddy  2021-01-27 21:04:16       GME   \n",
       "3819        InvincibearREAL  2021-01-29 17:26:25       GME   \n",
       "11390               Gagulta  2021-05-05 09:31:45  dogecoin   \n",
       "4340      Several_Meet_8653  2021-01-30 03:33:41       GME   \n",
       "\n",
       "                                                                                                                                                                                                                                                                                                                                                                                                              selftext  \\\n",
       "25      \\n\\n**GME - The Truth Behind Cramer, The News, Melvin &amp; Shitron (Evidence of my warnings)**\\n\\nOC[Discussion](https://www.reddit.com/r/wallstreetbets/search?q=flair_name%3A%22Discussion%22&amp;restrict_sr=1)\\n\\n**TLDR: The whole Citron attack, the news articles, Cramer etc was planned by pissed off hedge-funds (mainly Melvin) who want WSB to appear to be a single, coordinated market manip...   \n",
       "1058   I Present To You: The GME Gamma Short Feedback Squeeze\\n\\nUnfortunately WSB mods already took this down twice, so here I am.\\n\\nWhat an exciting time to be alive! We're gonna bust an institutional short hedge fund Robinhood-style in the middle of a global pandemic and trigger a great redistribution of wealth.\\n\\nTLDR: Short squeeze trigger might've changed from waiting for GME/RC news about po...   \n",
       "3819   I know this is an unpopular opinion because the optics make it appear that the brokers all out to protect the shorts and stick the bill on the little guys, classic David vs Goliath. So what actually is happening?\\n\\n**TLDR**; The DTC raised collateral limits to settle certain stock transactions from 1-3% to 100% for the 2 days held in escrow, which trickled down to clearing houses which don’t ...   \n",
       "11390  Dogecoin has taken crypto markets by storm. Over the last few months a once obscure ‘joke currency’ has been transformed into an economic powerhouse; a top five cryptocurrency and an epic underdog story. We’ve seen the lives of thousands of its supporters transformed; people are paying off their parents’ mortgages; saving their pets’ lives with expensive surgeries; donating significant sums to...   \n",
       "4340   Very important read read read (we are only just getting started)🚀🚀🚀🚀💲💲💲💲\\n\\nOK, listen up, you late-to-the-party, crayon-eating homunculus, here's what's going on:\\n\\nOver the past year, hedge fund supervillains have made money by selling shares of Gamestop they don't actually own - they've just borrowed them. Short selling. If they sell enough they can drive the price down so far that when th...   \n",
       "\n",
       "                                                                                                                                                                     title  \\\n",
       "25                                                                                                                             Text of Conspiracy post before WSB privated   \n",
       "1058                                                                                                                  Found this online, it’s amazing! GME 🚀 HOLD HOOOOOLD   \n",
       "3819   No, Robinhood, Webull, and other brokers who limited buying yesterday are not colluding. This is the real reason behind brokers restricting buying $GME, $AMC, etc.   \n",
       "11390                                                         Doge is an Exercise in Game Theory, so we must Understand the Science of Game Theory to Maximise our Success   \n",
       "4340                                                                                           *Read read read* GameStop $we are just getting started* share this everyone   \n",
       "\n",
       "       num_comments  score  \\\n",
       "25               15      1   \n",
       "1058              4     12   \n",
       "3819              3      1   \n",
       "11390            26      1   \n",
       "4340              1      1   \n",
       "\n",
       "                                                                                                                                                                                                                                                                                                                                                                                                             full_text  \\\n",
       "25     Text of Conspiracy post before WSB privated  \\n\\n**GME - The Truth Behind Cramer, The News, Melvin &amp; Shitron (Evidence of my warnings)**\\n\\nOC[Discussion](https://www.reddit.com/r/wallstreetbets/search?q=flair_name%3A%22Discussion%22&amp;restrict_sr=1)\\n\\n**TLDR: The whole Citron attack, the news articles, Cramer etc was planned by pissed off hedge-funds (mainly Melvin) who want WSB to app...   \n",
       "1058   Found this online, it’s amazing! GME 🚀 HOLD HOOOOOLD I Present To You: The GME Gamma Short Feedback Squeeze\\n\\nUnfortunately WSB mods already took this down twice, so here I am.\\n\\nWhat an exciting time to be alive! We're gonna bust an institutional short hedge fund Robinhood-style in the middle of a global pandemic and trigger a great redistribution of wealth.\\n\\nTLDR: Short squeeze trigger m...   \n",
       "3819   No, Robinhood, Webull, and other brokers who limited buying yesterday are not colluding. This is the real reason behind brokers restricting buying $GME, $AMC, etc. I know this is an unpopular opinion because the optics make it appear that the brokers all out to protect the shorts and stick the bill on the little guys, classic David vs Goliath. So what actually is happening?\\n\\n**TLDR**; The DT...   \n",
       "11390  Doge is an Exercise in Game Theory, so we must Understand the Science of Game Theory to Maximise our Success Dogecoin has taken crypto markets by storm. Over the last few months a once obscure ‘joke currency’ has been transformed into an economic powerhouse; a top five cryptocurrency and an epic underdog story. We’ve seen the lives of thousands of its supporters transformed; people are paying ...   \n",
       "4340   *Read read read* GameStop $we are just getting started* share this everyone Very important read read read (we are only just getting started)🚀🚀🚀🚀💲💲💲💲\\n\\nOK, listen up, you late-to-the-party, crayon-eating homunculus, here's what's going on:\\n\\nOver the past year, hedge fund supervillains have made money by selling shares of Gamestop they don't actually own - they've just borrowed them. Short se...   \n",
       "\n",
       "                                                                                                                                                                                                                                                                                                                                                                                                     cleaned_full_text  \\\n",
       "25     text of conspiracy post before wallstreetbets privated gamestop the truth behind cramer the news melvin shitron evidence of my warnings oc discussion too long did not read the whole citron attack the news articles cramer etc was planned by pissed off hedgefunds mainly melvin who want wallstreetbets to appear to be a single coordinated market manipulating entity source london hedge fund pm hi e...   \n",
       "1058   found this online it is amazing gamestop rocket hold hold i present to you the gamestop gamma short feedback squeeze unfortunately wallstreetbets mods already took this down twice so here i am what an exciting time to be alive we are going to bust an institutional short hedge fund robinhoodstyle in the middle of a global pandemic and trigger a great redistribution of wealth too long did not re...   \n",
       "3819   no robinhood webull and other brokers who limited buying yesterday are not colluding this is the real reason behind brokers restricting buying gamestop amc etc i know this is an unpopular opinion because the optics make it appear that the brokers all out to protect the shorts and stick the bill on the little guys classic david vs goliath so what actually is happening too long did not read the ...   \n",
       "11390  doge is an exercise in game theory so we must understand the science of game theory to maximise our success dogecoin has taken cryptocurrency markets by storm over the last few months a once obscure joke currency has been transformed into an economic powerhouse a top five cryptocurrency and an epic underdog story we have seen the lives of thousands of its supporters transformed people are payi...   \n",
       "4340   read read read gamestop we are just getting started share this everyone very important read read read we are only just getting started rocket rocket rocket rocket heavy_dollar_sign heavy_dollar_sign heavy_dollar_sign heavy_dollar_sign ok listen up you latetotheparty crayoneating homunculus here is what is going on over the past year hedge fund supervillains have made money by selling shares of...   \n",
       "\n",
       "       cleaned_full_text_word_count  \n",
       "25                             2117  \n",
       "1058                           1783  \n",
       "3819                           1529  \n",
       "11390                          1484  \n",
       "4340                           1361  "
      ]
     },
     "execution_count": 33,
     "metadata": {},
     "output_type": "execute_result"
    }
   ],
   "source": [
    "# show the five longest full_text\n",
    "df.sort_values(by = 'cleaned_full_text_word_count', ascending=False).head()"
   ]
  },
  {
   "cell_type": "code",
   "execution_count": 34,
   "metadata": {},
   "outputs": [
    {
     "name": "stdout",
     "output_type": "stream",
     "text": [
      "The longest word count is 2117.\n"
     ]
    }
   ],
   "source": [
    "print('The longest word count is {}.'.format(df['cleaned_full_text_word_count'].max()))"
   ]
  },
  {
   "cell_type": "code",
   "execution_count": 35,
   "metadata": {
    "scrolled": true
   },
   "outputs": [
    {
     "data": {
      "text/html": [
       "<div>\n",
       "<style scoped>\n",
       "    .dataframe tbody tr th:only-of-type {\n",
       "        vertical-align: middle;\n",
       "    }\n",
       "\n",
       "    .dataframe tbody tr th {\n",
       "        vertical-align: top;\n",
       "    }\n",
       "\n",
       "    .dataframe thead th {\n",
       "        text-align: right;\n",
       "    }\n",
       "</style>\n",
       "<table border=\"1\" class=\"dataframe\">\n",
       "  <thead>\n",
       "    <tr style=\"text-align: right;\">\n",
       "      <th></th>\n",
       "      <th>id</th>\n",
       "      <th>full_link</th>\n",
       "      <th>author</th>\n",
       "      <th>created_utc</th>\n",
       "      <th>subreddit</th>\n",
       "      <th>selftext</th>\n",
       "      <th>title</th>\n",
       "      <th>num_comments</th>\n",
       "      <th>score</th>\n",
       "      <th>full_text</th>\n",
       "      <th>cleaned_full_text</th>\n",
       "      <th>cleaned_full_text_word_count</th>\n",
       "    </tr>\n",
       "  </thead>\n",
       "  <tbody>\n",
       "    <tr>\n",
       "      <th>7771</th>\n",
       "      <td>n55nmx</td>\n",
       "      <td>https://www.reddit.com/r/dogecoin/comments/n55nmx/122/</td>\n",
       "      <td>Derby_The_Bear</td>\n",
       "      <td>2021-05-05 02:59:53</td>\n",
       "      <td>dogecoin</td>\n",
       "      <td></td>\n",
       "      <td>$1.22</td>\n",
       "      <td>0</td>\n",
       "      <td>1</td>\n",
       "      <td>$1.22</td>\n",
       "      <td></td>\n",
       "      <td>0</td>\n",
       "    </tr>\n",
       "    <tr>\n",
       "      <th>2093</th>\n",
       "      <td>l6zv9f</td>\n",
       "      <td>https://www.reddit.com/r/GME/comments/l6zv9f/游戏驿站加油中国人参与战斗我们并肩作战/</td>\n",
       "      <td>Aware_Shape_6361</td>\n",
       "      <td>2021-01-28 15:34:25</td>\n",
       "      <td>GME</td>\n",
       "      <td></td>\n",
       "      <td>游戏驿站加油，中国人参与战斗，我们并肩作战</td>\n",
       "      <td>0</td>\n",
       "      <td>1</td>\n",
       "      <td>游戏驿站加油，中国人参与战斗，我们并肩作战</td>\n",
       "      <td></td>\n",
       "      <td>0</td>\n",
       "    </tr>\n",
       "    <tr>\n",
       "      <th>9806</th>\n",
       "      <td>n5896l</td>\n",
       "      <td>https://www.reddit.com/r/dogecoin/comments/n5896l/1/</td>\n",
       "      <td>Academic_IT</td>\n",
       "      <td>2021-05-05 05:26:57</td>\n",
       "      <td>dogecoin</td>\n",
       "      <td></td>\n",
       "      <td>1$</td>\n",
       "      <td>2</td>\n",
       "      <td>1</td>\n",
       "      <td>1$</td>\n",
       "      <td></td>\n",
       "      <td>0</td>\n",
       "    </tr>\n",
       "    <tr>\n",
       "      <th>663</th>\n",
       "      <td>l67e1t</td>\n",
       "      <td>https://www.reddit.com/r/GME/comments/l67e1t/350/</td>\n",
       "      <td>Thewasheast</td>\n",
       "      <td>2021-01-27 15:53:59</td>\n",
       "      <td>GME</td>\n",
       "      <td></td>\n",
       "      <td>350!!!!!!!!!</td>\n",
       "      <td>8</td>\n",
       "      <td>1</td>\n",
       "      <td>350!!!!!!!!!</td>\n",
       "      <td></td>\n",
       "      <td>0</td>\n",
       "    </tr>\n",
       "    <tr>\n",
       "      <th>10023</th>\n",
       "      <td>n58nex</td>\n",
       "      <td>https://www.reddit.com/r/dogecoin/comments/n58nex/69/</td>\n",
       "      <td>Jrodmxt</td>\n",
       "      <td>2021-05-05 05:51:43</td>\n",
       "      <td>dogecoin</td>\n",
       "      <td></td>\n",
       "      <td>69!!!!</td>\n",
       "      <td>1</td>\n",
       "      <td>1</td>\n",
       "      <td>69!!!!</td>\n",
       "      <td></td>\n",
       "      <td>0</td>\n",
       "    </tr>\n",
       "  </tbody>\n",
       "</table>\n",
       "</div>"
      ],
      "text/plain": [
       "           id  \\\n",
       "7771   n55nmx   \n",
       "2093   l6zv9f   \n",
       "9806   n5896l   \n",
       "663    l67e1t   \n",
       "10023  n58nex   \n",
       "\n",
       "                                                               full_link  \\\n",
       "7771              https://www.reddit.com/r/dogecoin/comments/n55nmx/122/   \n",
       "2093   https://www.reddit.com/r/GME/comments/l6zv9f/游戏驿站加油中国人参与战斗我们并肩作战/   \n",
       "9806                https://www.reddit.com/r/dogecoin/comments/n5896l/1/   \n",
       "663                    https://www.reddit.com/r/GME/comments/l67e1t/350/   \n",
       "10023              https://www.reddit.com/r/dogecoin/comments/n58nex/69/   \n",
       "\n",
       "                 author          created_utc subreddit selftext  \\\n",
       "7771     Derby_The_Bear  2021-05-05 02:59:53  dogecoin            \n",
       "2093   Aware_Shape_6361  2021-01-28 15:34:25       GME            \n",
       "9806        Academic_IT  2021-05-05 05:26:57  dogecoin            \n",
       "663         Thewasheast  2021-01-27 15:53:59       GME            \n",
       "10023           Jrodmxt  2021-05-05 05:51:43  dogecoin            \n",
       "\n",
       "                       title  num_comments  score               full_text  \\\n",
       "7771                   $1.22             0      1                  $1.22    \n",
       "2093   游戏驿站加油，中国人参与战斗，我们并肩作战             0      1  游戏驿站加油，中国人参与战斗，我们并肩作战    \n",
       "9806                      1$             2      1                     1$    \n",
       "663             350!!!!!!!!!             8      1           350!!!!!!!!!    \n",
       "10023                 69!!!!             1      1                 69!!!!    \n",
       "\n",
       "      cleaned_full_text  cleaned_full_text_word_count  \n",
       "7771                                                0  \n",
       "2093                                                0  \n",
       "9806                                                0  \n",
       "663                                                 0  \n",
       "10023                                               0  "
      ]
     },
     "execution_count": 35,
     "metadata": {},
     "output_type": "execute_result"
    }
   ],
   "source": [
    "# show the five shortest full_text\n",
    "df.sort_values(by = 'cleaned_full_text_word_count', ascending=True).head()"
   ]
  },
  {
   "cell_type": "code",
   "execution_count": 36,
   "metadata": {},
   "outputs": [
    {
     "name": "stdout",
     "output_type": "stream",
     "text": [
      "The shortest word count is 0.\n"
     ]
    }
   ],
   "source": [
    "print('The shortest word count is {}.'.format(df['cleaned_full_text_word_count'].min()))"
   ]
  },
  {
   "cell_type": "markdown",
   "metadata": {},
   "source": [
    "The shortest word count is 0, while the longest word count is 2117. It is strange that the shortest word count is 0 so let's investigate on this. Upon further investigation, we can see that in the original title and content of these posts, there were non-english words. Also some of these posts only contained links and numbers in its title. Hence, after cleaning our text, there are 0 word counts available in these posts. \n",
    "\n",
    "Therefore, we want to remove all posts that are shorter than 5 words, as it would be difficult to determine any information from the text. We want to focus on accurately predicting posts with contents."
   ]
  },
  {
   "cell_type": "code",
   "execution_count": 37,
   "metadata": {},
   "outputs": [],
   "source": [
    "df = df[df['cleaned_full_text_word_count'] >= 5]"
   ]
  },
  {
   "cell_type": "code",
   "execution_count": 38,
   "metadata": {},
   "outputs": [
    {
     "name": "stdout",
     "output_type": "stream",
     "text": [
      "The dataset has 13315 rows and 9 columns.\n"
     ]
    }
   ],
   "source": [
    "print('The dataset has {} rows and {} columns.'.format(df.shape[0], dogecoin_df.shape[1]))"
   ]
  },
  {
   "cell_type": "markdown",
   "metadata": {},
   "source": [
    "### Visualise the distribution of word counts\n",
    "Let's plot the distribution of word counts of each reddit post based off of `cleaned_full_text_word_count`:"
   ]
  },
  {
   "cell_type": "code",
   "execution_count": 39,
   "metadata": {},
   "outputs": [
    {
     "data": {
      "image/png": "[encoded data removed]",
      "text/plain": [
       "<Figure size 864x432 with 1 Axes>"
      ]
     },
     "metadata": {
      "needs_background": "light"
     },
     "output_type": "display_data"
    }
   ],
   "source": [
    "#set figure size\n",
    "plt.figure(figsize=(12,6))\n",
    "#plot boxplot\n",
    "word_count = sns.boxplot(data= df, y= 'subreddit', x= 'cleaned_full_text_word_count',orient='h',width=0.4,fliersize=3);\n",
    "\n",
    "#Set title and labels \n",
    "word_count.set_yticklabels(['GME', 'dogecoin']);\n",
    "word_count.set_title(\"The distributions of word count in each subreddit\",fontsize=16);"
   ]
  },
  {
   "cell_type": "code",
   "execution_count": 40,
   "metadata": {},
   "outputs": [
    {
     "data": {
      "text/html": [
       "<div>\n",
       "<style scoped>\n",
       "    .dataframe tbody tr th:only-of-type {\n",
       "        vertical-align: middle;\n",
       "    }\n",
       "\n",
       "    .dataframe tbody tr th {\n",
       "        vertical-align: top;\n",
       "    }\n",
       "\n",
       "    .dataframe thead th {\n",
       "        text-align: right;\n",
       "    }\n",
       "</style>\n",
       "<table border=\"1\" class=\"dataframe\">\n",
       "  <thead>\n",
       "    <tr style=\"text-align: right;\">\n",
       "      <th></th>\n",
       "      <th>count</th>\n",
       "      <th>mean</th>\n",
       "      <th>std</th>\n",
       "      <th>min</th>\n",
       "      <th>25%</th>\n",
       "      <th>50%</th>\n",
       "      <th>75%</th>\n",
       "      <th>max</th>\n",
       "    </tr>\n",
       "    <tr>\n",
       "      <th>subreddit</th>\n",
       "      <th></th>\n",
       "      <th></th>\n",
       "      <th></th>\n",
       "      <th></th>\n",
       "      <th></th>\n",
       "      <th></th>\n",
       "      <th></th>\n",
       "      <th></th>\n",
       "    </tr>\n",
       "  </thead>\n",
       "  <tbody>\n",
       "    <tr>\n",
       "      <th>GME</th>\n",
       "      <td>5684.0</td>\n",
       "      <td>48.862949</td>\n",
       "      <td>103.693810</td>\n",
       "      <td>5.0</td>\n",
       "      <td>12.0</td>\n",
       "      <td>23.0</td>\n",
       "      <td>45.0</td>\n",
       "      <td>2117.0</td>\n",
       "    </tr>\n",
       "    <tr>\n",
       "      <th>dogecoin</th>\n",
       "      <td>7631.0</td>\n",
       "      <td>38.742629</td>\n",
       "      <td>58.240722</td>\n",
       "      <td>5.0</td>\n",
       "      <td>12.0</td>\n",
       "      <td>22.0</td>\n",
       "      <td>44.0</td>\n",
       "      <td>1484.0</td>\n",
       "    </tr>\n",
       "  </tbody>\n",
       "</table>\n",
       "</div>"
      ],
      "text/plain": [
       "            count       mean         std  min   25%   50%   75%     max\n",
       "subreddit                                                              \n",
       "GME        5684.0  48.862949  103.693810  5.0  12.0  23.0  45.0  2117.0\n",
       "dogecoin   7631.0  38.742629   58.240722  5.0  12.0  22.0  44.0  1484.0"
      ]
     },
     "execution_count": 40,
     "metadata": {},
     "output_type": "execute_result"
    }
   ],
   "source": [
    "# looking at the word count statistics\n",
    "df.groupby('subreddit')['cleaned_full_text_word_count'].describe()"
   ]
  },
  {
   "cell_type": "markdown",
   "metadata": {},
   "source": [
    "Looking at the word count statistics, the 2 subreddits are almost similar in post length. On average, there are 48.86 words per post on GME as compared to 38.74 words per post on dogecoin."
   ]
  },
  {
   "cell_type": "code",
   "execution_count": 41,
   "metadata": {},
   "outputs": [
    {
     "data": {
      "text/html": [
       "<div>\n",
       "<style scoped>\n",
       "    .dataframe tbody tr th:only-of-type {\n",
       "        vertical-align: middle;\n",
       "    }\n",
       "\n",
       "    .dataframe tbody tr th {\n",
       "        vertical-align: top;\n",
       "    }\n",
       "\n",
       "    .dataframe thead th {\n",
       "        text-align: right;\n",
       "    }\n",
       "</style>\n",
       "<table border=\"1\" class=\"dataframe\">\n",
       "  <thead>\n",
       "    <tr style=\"text-align: right;\">\n",
       "      <th></th>\n",
       "      <th>id</th>\n",
       "      <th>full_link</th>\n",
       "      <th>author</th>\n",
       "      <th>created_utc</th>\n",
       "      <th>subreddit</th>\n",
       "      <th>selftext</th>\n",
       "      <th>title</th>\n",
       "      <th>num_comments</th>\n",
       "      <th>score</th>\n",
       "      <th>full_text</th>\n",
       "      <th>cleaned_full_text</th>\n",
       "      <th>cleaned_full_text_word_count</th>\n",
       "    </tr>\n",
       "  </thead>\n",
       "  <tbody>\n",
       "    <tr>\n",
       "      <th>25</th>\n",
       "      <td>l2h6vm</td>\n",
       "      <td>https://www.reddit.com/r/GME/comments/l2h6vm/text_of_conspiracy_post_before_wsb_privated/</td>\n",
       "      <td>Pepe_Le_BUYMSFTCALLS</td>\n",
       "      <td>2021-01-22 05:42:33</td>\n",
       "      <td>GME</td>\n",
       "      <td>\\n\\n**GME - The Truth Behind Cramer, The News, Melvin &amp;amp; Shitron (Evidence of my warnings)**\\n\\nOC[Discussion](https://www.reddit.com/r/wallstreetbets/search?q=flair_name%3A%22Discussion%22&amp;amp;restrict_sr=1)\\n\\n**TLDR: The whole Citron attack, the news articles, Cramer etc was planned by pissed off hedge-funds (mainly Melvin) who want WSB to appear to be a single, coordinated market manip...</td>\n",
       "      <td>Text of Conspiracy post before WSB privated</td>\n",
       "      <td>15</td>\n",
       "      <td>1</td>\n",
       "      <td>Text of Conspiracy post before WSB privated  \\n\\n**GME - The Truth Behind Cramer, The News, Melvin &amp;amp; Shitron (Evidence of my warnings)**\\n\\nOC[Discussion](https://www.reddit.com/r/wallstreetbets/search?q=flair_name%3A%22Discussion%22&amp;amp;restrict_sr=1)\\n\\n**TLDR: The whole Citron attack, the news articles, Cramer etc was planned by pissed off hedge-funds (mainly Melvin) who want WSB to app...</td>\n",
       "      <td>text of conspiracy post before wallstreetbets privated gamestop the truth behind cramer the news melvin shitron evidence of my warnings oc discussion too long did not read the whole citron attack the news articles cramer etc was planned by pissed off hedgefunds mainly melvin who want wallstreetbets to appear to be a single coordinated market manipulating entity source london hedge fund pm hi e...</td>\n",
       "      <td>2117</td>\n",
       "    </tr>\n",
       "    <tr>\n",
       "      <th>1058</th>\n",
       "      <td>l6ed29</td>\n",
       "      <td>https://www.reddit.com/r/GME/comments/l6ed29/found_this_online_its_amazing_gme_hold_hooooold/</td>\n",
       "      <td>sophisticatedaddy</td>\n",
       "      <td>2021-01-27 21:04:16</td>\n",
       "      <td>GME</td>\n",
       "      <td>I Present To You: The GME Gamma Short Feedback Squeeze\\n\\nUnfortunately WSB mods already took this down twice, so here I am.\\n\\nWhat an exciting time to be alive! We're gonna bust an institutional short hedge fund Robinhood-style in the middle of a global pandemic and trigger a great redistribution of wealth.\\n\\nTLDR: Short squeeze trigger might've changed from waiting for GME/RC news about po...</td>\n",
       "      <td>Found this online, it’s amazing! GME 🚀 HOLD HOOOOOLD</td>\n",
       "      <td>4</td>\n",
       "      <td>12</td>\n",
       "      <td>Found this online, it’s amazing! GME 🚀 HOLD HOOOOOLD I Present To You: The GME Gamma Short Feedback Squeeze\\n\\nUnfortunately WSB mods already took this down twice, so here I am.\\n\\nWhat an exciting time to be alive! We're gonna bust an institutional short hedge fund Robinhood-style in the middle of a global pandemic and trigger a great redistribution of wealth.\\n\\nTLDR: Short squeeze trigger m...</td>\n",
       "      <td>found this online it is amazing gamestop rocket hold hold i present to you the gamestop gamma short feedback squeeze unfortunately wallstreetbets mods already took this down twice so here i am what an exciting time to be alive we are going to bust an institutional short hedge fund robinhoodstyle in the middle of a global pandemic and trigger a great redistribution of wealth too long did not re...</td>\n",
       "      <td>1783</td>\n",
       "    </tr>\n",
       "  </tbody>\n",
       "</table>\n",
       "</div>"
      ],
      "text/plain": [
       "          id  \\\n",
       "25    l2h6vm   \n",
       "1058  l6ed29   \n",
       "\n",
       "                                                                                          full_link  \\\n",
       "25        https://www.reddit.com/r/GME/comments/l2h6vm/text_of_conspiracy_post_before_wsb_privated/   \n",
       "1058  https://www.reddit.com/r/GME/comments/l6ed29/found_this_online_its_amazing_gme_hold_hooooold/   \n",
       "\n",
       "                    author          created_utc subreddit  \\\n",
       "25    Pepe_Le_BUYMSFTCALLS  2021-01-22 05:42:33       GME   \n",
       "1058     sophisticatedaddy  2021-01-27 21:04:16       GME   \n",
       "\n",
       "                                                                                                                                                                                                                                                                                                                                                                                                             selftext  \\\n",
       "25     \\n\\n**GME - The Truth Behind Cramer, The News, Melvin &amp; Shitron (Evidence of my warnings)**\\n\\nOC[Discussion](https://www.reddit.com/r/wallstreetbets/search?q=flair_name%3A%22Discussion%22&amp;restrict_sr=1)\\n\\n**TLDR: The whole Citron attack, the news articles, Cramer etc was planned by pissed off hedge-funds (mainly Melvin) who want WSB to appear to be a single, coordinated market manip...   \n",
       "1058  I Present To You: The GME Gamma Short Feedback Squeeze\\n\\nUnfortunately WSB mods already took this down twice, so here I am.\\n\\nWhat an exciting time to be alive! We're gonna bust an institutional short hedge fund Robinhood-style in the middle of a global pandemic and trigger a great redistribution of wealth.\\n\\nTLDR: Short squeeze trigger might've changed from waiting for GME/RC news about po...   \n",
       "\n",
       "                                                     title  num_comments  \\\n",
       "25             Text of Conspiracy post before WSB privated            15   \n",
       "1058  Found this online, it’s amazing! GME 🚀 HOLD HOOOOOLD             4   \n",
       "\n",
       "      score  \\\n",
       "25        1   \n",
       "1058     12   \n",
       "\n",
       "                                                                                                                                                                                                                                                                                                                                                                                                            full_text  \\\n",
       "25    Text of Conspiracy post before WSB privated  \\n\\n**GME - The Truth Behind Cramer, The News, Melvin &amp; Shitron (Evidence of my warnings)**\\n\\nOC[Discussion](https://www.reddit.com/r/wallstreetbets/search?q=flair_name%3A%22Discussion%22&amp;restrict_sr=1)\\n\\n**TLDR: The whole Citron attack, the news articles, Cramer etc was planned by pissed off hedge-funds (mainly Melvin) who want WSB to app...   \n",
       "1058  Found this online, it’s amazing! GME 🚀 HOLD HOOOOOLD I Present To You: The GME Gamma Short Feedback Squeeze\\n\\nUnfortunately WSB mods already took this down twice, so here I am.\\n\\nWhat an exciting time to be alive! We're gonna bust an institutional short hedge fund Robinhood-style in the middle of a global pandemic and trigger a great redistribution of wealth.\\n\\nTLDR: Short squeeze trigger m...   \n",
       "\n",
       "                                                                                                                                                                                                                                                                                                                                                                                                    cleaned_full_text  \\\n",
       "25    text of conspiracy post before wallstreetbets privated gamestop the truth behind cramer the news melvin shitron evidence of my warnings oc discussion too long did not read the whole citron attack the news articles cramer etc was planned by pissed off hedgefunds mainly melvin who want wallstreetbets to appear to be a single coordinated market manipulating entity source london hedge fund pm hi e...   \n",
       "1058  found this online it is amazing gamestop rocket hold hold i present to you the gamestop gamma short feedback squeeze unfortunately wallstreetbets mods already took this down twice so here i am what an exciting time to be alive we are going to bust an institutional short hedge fund robinhoodstyle in the middle of a global pandemic and trigger a great redistribution of wealth too long did not re...   \n",
       "\n",
       "      cleaned_full_text_word_count  \n",
       "25                            2117  \n",
       "1058                          1783  "
      ]
     },
     "execution_count": 41,
     "metadata": {},
     "output_type": "execute_result"
    }
   ],
   "source": [
    "# checking for wordcount more than 1,700\n",
    "df[df['cleaned_full_text_word_count']>1700]"
   ]
  },
  {
   "cell_type": "markdown",
   "metadata": {},
   "source": [
    "The GME subreddit have 2 outlier posts with more than 1,700 words. We will retain them since these are legitimate posts and there is no other compelling reason to remove them."
   ]
  },
  {
   "cell_type": "markdown",
   "metadata": {},
   "source": [
    "### Visualising unigram and bigram\n",
    "Let's visualise the n-grams to understand what are the frequently occurring words and its distribution in each subreddit. An N-gram is a sequence of N tokens (or words). Eg. A 1-gram (or unigram) is a one-word sequence and a 2-gram (or bigram) is a two-word sequence of words.\n",
    "\n",
    "To visualise the n-grams, we will make use of the bag-of-words approach. A bag of words is a representation of text that describes the occurrence of words within a document. We just keep track of word counts and disregard the grammatical details and the word order. It is called a “bag” of words because any information about the order or structure of words in the document is discarded. The model is only concerned with whether known words occur in the document, not where in the document. We'll use the CountVectorizer() function from the scikit-learn library to implement the BoW model.  We'll also be excluding stopwords from our results."
   ]
  },
  {
   "cell_type": "markdown",
   "metadata": {},
   "source": [
    "**Unigram**"
   ]
  },
  {
   "cell_type": "code",
   "execution_count": 42,
   "metadata": {},
   "outputs": [],
   "source": [
    "gme = df[df['subreddit'] == 'GME']\n",
    "dogecoin = df[df['subreddit'] == 'dogecoin']"
   ]
  },
  {
   "cell_type": "code",
   "execution_count": 43,
   "metadata": {},
   "outputs": [],
   "source": [
    "# visualizing unigrams\n",
    "def get_top_n_unigram(corpus, n=None):\n",
    "    \"\"\"\n",
    "    List the top n unigram according to its occurrence in a text corpus.\n",
    "    \"\"\"\n",
    "    stopwords = stopword_list\n",
    "    vec = CountVectorizer(stop_words = stopwords).fit(corpus)\n",
    "    bag_of_words = vec.transform(corpus)\n",
    "    sum_words = bag_of_words.sum(axis=0) \n",
    "    words_freq = [(word, sum_words[0, idx]) for word, idx in vec.vocabulary_.items()]\n",
    "    words_freq =sorted(words_freq, key = lambda x: x[1], reverse=True)\n",
    "    return words_freq[:n]"
   ]
  },
  {
   "cell_type": "code",
   "execution_count": 44,
   "metadata": {},
   "outputs": [],
   "source": [
    "# get the top 20 unigram\n",
    "gme_top20_unigram = dict(get_top_n_unigram([word for word in gme['cleaned_full_text']],20))\n",
    "dogecoin_top20_unigram = dict(get_top_n_unigram([word for word in dogecoin['cleaned_full_text']],20))"
   ]
  },
  {
   "cell_type": "code",
   "execution_count": 45,
   "metadata": {},
   "outputs": [],
   "source": [
    "# create a function to visualise the top n-grams\n",
    "def visualise_top_n_grams(dict1, dict2, wspace):\n",
    "    fig, axes = plt.subplots(1,2, figsize=(15,9));\n",
    "    \n",
    "    # plot the first graph\n",
    "    plt.subplot(1,2,1)\n",
    "    gme_text = plt.barh(range(len(dict1)), dict1.values(),align = 'center',color='xkcd:lightblue');\n",
    "    \n",
    "    # label axes \n",
    "    plt.yticks(range(len(dict1)),dict1.keys(),fontsize=12);\n",
    "    plt.title('Top 20 words in GME subreddit')\n",
    "    plt.xlabel('Frequency')\n",
    "    plt.gca().invert_yaxis()\n",
    "    \n",
    "    # plot the second graph\n",
    "    plt.subplot(1,2,2)\n",
    "    dogecoin_text = plt.barh(range(len(dict2)), dict2.values(),align = 'center',color='xkcd:light orange');\n",
    "    \n",
    "    # label axes \n",
    "    plt.yticks(range(len(dict2)),dict2.keys(),fontsize=12);\n",
    "    plt.title('Top 20 words in dogecoin subreddit')\n",
    "    plt.xlabel('Frequency')\n",
    "    plt.gca().invert_yaxis()\n",
    "    \n",
    "    plt.subplots_adjust(wspace= wspace)\n",
    "    plt.show()"
   ]
  },
  {
   "cell_type": "code",
   "execution_count": 46,
   "metadata": {},
   "outputs": [
    {
     "data": {
      "image/png": "[encoded data removed]",
      "text/plain": [
       "<Figure size 1080x648 with 2 Axes>"
      ]
     },
     "metadata": {
      "needs_background": "light"
     },
     "output_type": "display_data"
    }
   ],
   "source": [
    "visualise_top_n_grams(gme_top20_unigram, dogecoin_top20_unigram, 0.5)"
   ]
  },
  {
   "cell_type": "markdown",
   "metadata": {},
   "source": [
    "In the GME subreddit, 'gamestop', 'buy', 'hold' are the most occurring words, while 'rocket' and 'gem_stone' are the most occurring emojis. In the dogecoin reddit, 'doge', 'dogecoin', 'hold' are the most occurring words, while 'rocket' is the most occurring emoji.\n",
    "\n",
    "Based on the most occurrring word/emoji used, we can see that there is a new type of lingo being used by the stock market *[(source)](https://www.cnet.com/personal-finance/investing/gamestop-stock-surge-lingo-heres-what-reddits-wallstreetbets-vocabulary-means/)*. The \"rocket\" emoji blasting off which signals bullish or upward moving stock. The word \"hold\" to signify holding on to the stock, even if it goes down in value. The \"gemstone\"/\"diamond\" emoji refers to risk takers who are prepared to hold onto their stocks or securities for a long time. The \"gemstone\"/\"diamond\" emoji is often used with a hand emoji to signify diamond hands.*[(source)](https://stayhipp.com/glossary/what-does-%F0%9F%92%8E%F0%9F%A4%B2-diamond-hands-mean/)*"
   ]
  },
  {
   "cell_type": "code",
   "execution_count": 47,
   "metadata": {},
   "outputs": [
    {
     "name": "stdout",
     "output_type": "stream",
     "text": [
      "{'rocket', 'like', 'people', 'go', 'us', 'get', 'let', 'hold', 'buy', 'going'}\n"
     ]
    }
   ],
   "source": [
    "# check for common words in both subreddits\n",
    "common_words = set(gme_top20_unigram).intersection(set(dogecoin_top20_unigram))\n",
    "print(common_words)"
   ]
  },
  {
   "cell_type": "markdown",
   "metadata": {},
   "source": [
    "We can see that there common words/emojis that are frequent to both subreddits, such as 'buy', 'people', 'us', 'rocket', 'let', 'hold', 'going', 'like', 'go', 'get'. This is expected given that both subreddits are similar in topic."
   ]
  },
  {
   "cell_type": "markdown",
   "metadata": {},
   "source": [
    "**Bigram**"
   ]
  },
  {
   "cell_type": "code",
   "execution_count": 48,
   "metadata": {},
   "outputs": [],
   "source": [
    "# visualizing bigrams\n",
    "def get_top_n_bigram(corpus, n=None):\n",
    "    \"\"\"\n",
    "    List the top n bigram according to its occurrence in a text corpus.\n",
    "    \"\"\"\n",
    "    stopwords = stopword_list\n",
    "    vec = CountVectorizer(ngram_range=(2, 2), stop_words = stopwords).fit(corpus)\n",
    "    bag_of_words = vec.transform(corpus)\n",
    "    sum_words = bag_of_words.sum(axis=0) \n",
    "    words_freq = [(word, sum_words[0, idx]) for word, idx in vec.vocabulary_.items()]\n",
    "    words_freq =sorted(words_freq, key = lambda x: x[1], reverse=True)\n",
    "    return words_freq[:n]"
   ]
  },
  {
   "cell_type": "code",
   "execution_count": 49,
   "metadata": {},
   "outputs": [],
   "source": [
    "# get the top 20 bigram\n",
    "gme_top20_bigram = dict(get_top_n_bigram([word for word in gme['cleaned_full_text']],20))\n",
    "dogecoin_top20_bigram = dict(get_top_n_bigram([word for word in dogecoin['cleaned_full_text']],20))"
   ]
  },
  {
   "cell_type": "code",
   "execution_count": 50,
   "metadata": {},
   "outputs": [
    {
     "data": {
      "image/png": "[encoded data removed]",
      "text/plain": [
       "<Figure size 1080x648 with 2 Axes>"
      ]
     },
     "metadata": {
      "needs_background": "light"
     },
     "output_type": "display_data"
    }
   ],
   "source": [
    "visualise_top_n_grams(gme_top20_bigram, dogecoin_top20_bigram, 1.5)"
   ]
  },
  {
   "cell_type": "markdown",
   "metadata": {},
   "source": [
    "The bigrams used within the GME subreddit suggest that the community tends to add emojis to their posts. We can also see keywords related to \"hedge funds\", \"short squeeze\" and \"AMC\". After reading up on some of the posts containing these keywords and researching, we found that the GameStop mania was a result of the tug-of-war battle between Reddit traders and hedge funds (think David vs. Goliath story) *[(source)](https://www.forbes.com/sites/naeemaslam/2021/01/27/gamestop-stock-in-battle-between-hedge-funds-and-reddit-day-traders-melvin-capital-closes-its-short/?sh=15f6cc7c2471)*. Members of the Reddit community targeted GameStop's stock after they noticed that hedge funds were short-selling it. The community of Reddit traders encouraged each other to buy and accumulate GameStop’s shares, driving a meteoric rise in GameStop’s stock price. This process is called a short squeeze. Besides GameStop, Reddit traders also have their attention to other stocks like AMC.\n",
    "\n",
    "For the dogecoin subreddit, we can see keywords related to \"saturday night live\" and \"elon musk\". After reading up on some of the posts containing these keywords and researching, we found that Reddit users were mostly excited for Elon Musk's Saturday Night Live (a NBCUniversal comedy show) appearance on Saturday (May 8). This is mainly due to Elon Musk being a supporter of dogecoin *[(source)](https://www.business-standard.com/article/international/elon-musk-to-send-cryptocurrency-funded-satellite-doge-1-to-moon-121051000289_1.html)* and many Reddit traders do not want to miss out on any buzz that could possibly stem from Elon Musk’s hosting of Saturday Night Live."
   ]
  },
  {
   "cell_type": "markdown",
   "metadata": {},
   "source": [
    "Overall, it is clear that there are common words/emojis which are frequent to both subreddits, such as 'buy', 'people', 'us', 'rocket', 'let', 'hold', 'going', 'like', 'go', 'get'. Given their high frequency in both datasets, these words may not be useful for the classification models to distinguish between the 2 subreddits. Hence, we would add them to stopword list as they are common occurences in both subreddits.\n",
    "\n",
    "It appears that we will be able to answer our problem statement afterall. There will be a clearer distinction of the words usage in each subreddit after removing words with common occurences in both subreddits. We will evaluate it again below."
   ]
  },
  {
   "cell_type": "markdown",
   "metadata": {},
   "source": [
    "### The target variable: Subreddit Name\n",
    "Finally, let's check for any class imbalance:"
   ]
  },
  {
   "cell_type": "code",
   "execution_count": 51,
   "metadata": {},
   "outputs": [
    {
     "data": {
      "image/png": "[encoded data removed]",
      "text/plain": [
       "<Figure size 432x432 with 1 Axes>"
      ]
     },
     "metadata": {
      "needs_background": "light"
     },
     "output_type": "display_data"
    }
   ],
   "source": [
    "# visualize the target variable\n",
    "fig = plt.figure(figsize=(6,6))\n",
    "x = np.arange(len(df['subreddit'].value_counts(normalize='True').index))\n",
    "y = list(df['subreddit'].value_counts(normalize='True').values * 100)\n",
    "\n",
    "x_name = list(df['subreddit'].value_counts(normalize='True').index)\n",
    "plt.xticks(x, x_name)\n",
    "\n",
    "# add title and axis names\n",
    "plt.title('Visualise the target variable: Subreddit Name')\n",
    "plt.xlabel('Labels')\n",
    "plt.ylabel('Percentage')\n",
    " \n",
    "plt.bar(x, y, color= '#5bc0de')\n",
    "\n",
    "# plot labels on graph\n",
    "for a,b in zip(x, y): \n",
    "    plt.text(a, b+0.5, str(round(b,2)) + '%', ha=\"center\")\n",
    "\n",
    "plt.show()"
   ]
  },
  {
   "cell_type": "markdown",
   "metadata": {},
   "source": [
    "The proportion of our target variables are considered to be somewhat balanced."
   ]
  },
  {
   "cell_type": "markdown",
   "metadata": {},
   "source": [
    "## Classification Modelling"
   ]
  },
  {
   "cell_type": "markdown",
   "metadata": {},
   "source": [
    "### Model Preparation"
   ]
  },
  {
   "cell_type": "code",
   "execution_count": 52,
   "metadata": {},
   "outputs": [],
   "source": [
    "# additional stopwords added\n",
    "stopword_list =  stopword_list + ['buy', 'people', 'us', 'rocket', 'let', 'hold', 'going', 'like', 'go', 'get']"
   ]
  },
  {
   "cell_type": "markdown",
   "metadata": {},
   "source": [
    "Lemmatisation has been chosen as the preferred way of reducing words to a common base since it considers the context and converts them to its meaningful base form."
   ]
  },
  {
   "cell_type": "code",
   "execution_count": 53,
   "metadata": {},
   "outputs": [],
   "source": [
    "# remove additional stopwords and apply lemmatising\n",
    "df['cleaned_full_text'] = df['full_text'].apply(lambda x: clean_text(x, stopword_removal = True, stopword_list= stopword_list, text_lemmatization = True))"
   ]
  },
  {
   "cell_type": "code",
   "execution_count": 54,
   "metadata": {},
   "outputs": [
    {
     "data": {
      "text/plain": [
       "{'full_text': 'How do we know when the squeeze has happened? I’m new and trying to learn. This stock scares me, because I don’t know how to access info on all the shorts.',\n",
       " 'cleaned_full_text': 'know squeeze happen new trying learn stock scare know access information short'}"
      ]
     },
     "execution_count": 54,
     "metadata": {},
     "output_type": "execute_result"
    }
   ],
   "source": [
    "# show a sample output\n",
    "df.iloc[2][['full_text', 'cleaned_full_text']].to_dict()"
   ]
  },
  {
   "cell_type": "code",
   "execution_count": 55,
   "metadata": {},
   "outputs": [],
   "source": [
    "df.drop(columns = 'cleaned_full_text_word_count', inplace=True)"
   ]
  },
  {
   "cell_type": "markdown",
   "metadata": {},
   "source": [
    "Create predictor and target variables."
   ]
  },
  {
   "cell_type": "code",
   "execution_count": 56,
   "metadata": {},
   "outputs": [],
   "source": [
    "# creating the target variable for classification modelling (0 for r/GME & 1 for r/dogecoin).\n",
    "df['target'] = np.where(df['subreddit'] == 'dogecoin', 1, 0)"
   ]
  },
  {
   "cell_type": "code",
   "execution_count": 57,
   "metadata": {},
   "outputs": [],
   "source": [
    "# define the feature and target variable\n",
    "X = df['cleaned_full_text']\n",
    "y = df['target']"
   ]
  },
  {
   "cell_type": "markdown",
   "metadata": {},
   "source": [
    "Train, test, split."
   ]
  },
  {
   "cell_type": "code",
   "execution_count": 58,
   "metadata": {},
   "outputs": [
    {
     "name": "stdout",
     "output_type": "stream",
     "text": [
      "(10652,) (2663,) (10652,) (2663,)\n"
     ]
    }
   ],
   "source": [
    "# train/test split of 80/20\n",
    "X_train, X_test, y_train, y_test = train_test_split(X,\n",
    "                                                    y,\n",
    "                                                    test_size = 0.2,\n",
    "                                                    random_state = 42,\n",
    "                                                    stratify= y)\n",
    "\n",
    "print(X_train.shape, X_test.shape, y_train.shape, y_test.shape)"
   ]
  },
  {
   "cell_type": "markdown",
   "metadata": {},
   "source": [
    "### Model Baseline\n",
    "In order to evaluate whether the predictions generated from our algorithm are good or not, we will need to establish a baseline model. A baseline provides a point of comparison for the more advanced methods that we will evaluate later. Here, we will set our baseline as the class (r/dogecoin) that has the most observations."
   ]
  },
  {
   "cell_type": "code",
   "execution_count": 59,
   "metadata": {},
   "outputs": [],
   "source": [
    "# set  𝑦̂\n",
    "y_pred = 1\n",
    "y_train_baseline = np.array([y_pred] * y_train.shape[0])\n",
    "y_test_baseline = np.array([y_pred] * y_test.shape[0])"
   ]
  },
  {
   "cell_type": "code",
   "execution_count": 60,
   "metadata": {},
   "outputs": [
    {
     "name": "stdout",
     "output_type": "stream",
     "text": [
      "---Training Set---\n",
      "Baseline Train Accuracy Score: 0.5731318062335712\n",
      "Baseline Train F1-Score: 0.7286507131348094\n",
      "\n",
      "\n",
      "---Test Set---\n",
      "Baseline Test Accuracy Score: 0.573037927149831\n",
      "Baseline Test F1-Score: 0.7285748388636907\n"
     ]
    }
   ],
   "source": [
    "# evaulation metrics: accuracy, f1 score\n",
    "print(\"---Training Set---\")\n",
    "print('Baseline Train Accuracy Score:', accuracy_score(y_train, y_train_baseline))\n",
    "print('Baseline Train F1-Score:', f1_score(y_train, y_train_baseline))\n",
    "print('\\n')\n",
    "print(\"---Test Set---\")\n",
    "print('Baseline Test Accuracy Score:', accuracy_score(y_test, y_test_baseline))\n",
    "print('Baseline Test F1-Score:', f1_score(y_test, y_test_baseline))"
   ]
  },
  {
   "cell_type": "markdown",
   "metadata": {},
   "source": [
    "### Model Training\n",
    "We will consider using two different NLP vectorizers - Count Vectorizer & TF-IDF Vectorizer. We will build a pipeline to select the best vectorizers by iterating over classification models - Logistic Regression, Naive Bayes & Random Forest Classifier - to select the best parameters which produce the best model performance."
   ]
  },
  {
   "cell_type": "markdown",
   "metadata": {},
   "source": [
    "**Logistics Regression: CVEC vs TDIF vectorizers**"
   ]
  },
  {
   "cell_type": "code",
   "execution_count": 61,
   "metadata": {},
   "outputs": [
    {
     "name": "stdout",
     "output_type": "stream",
     "text": [
      "Fitting 5 folds for each of 144 candidates, totalling 720 fits\n"
     ]
    },
    {
     "name": "stderr",
     "output_type": "stream",
     "text": [
      "[Parallel(n_jobs=-1)]: Using backend LokyBackend with 8 concurrent workers.\n",
      "[Parallel(n_jobs=-1)]: Done  34 tasks      | elapsed:    8.7s\n",
      "[Parallel(n_jobs=-1)]: Done 184 tasks      | elapsed:   29.7s\n",
      "[Parallel(n_jobs=-1)]: Done 434 tasks      | elapsed:  1.3min\n",
      "[Parallel(n_jobs=-1)]: Done 720 out of 720 | elapsed:  2.4min finished\n"
     ]
    },
    {
     "name": "stdout",
     "output_type": "stream",
     "text": [
      "Wall time: 2min 23s\n"
     ]
    },
    {
     "data": {
      "text/plain": [
       "GridSearchCV(cv=5,\n",
       "             estimator=Pipeline(steps=[('vec', None),\n",
       "                                       ('lr',\n",
       "                                        LogisticRegression(max_iter=5000,\n",
       "                                                           random_state=42))]),\n",
       "             n_jobs=-1,\n",
       "             param_grid=[{'lr__C': [0.1, 1, 10],\n",
       "                          'vec': [CountVectorizer(),\n",
       "                                  TfidfVectorizer(max_df=0.9,\n",
       "                                                  ngram_range=(1, 2))],\n",
       "                          'vec__max_df': [0.9, 1.0],\n",
       "                          'vec__max_features': [None, 1000, 2000],\n",
       "                          'vec__min_df': [1, 2],\n",
       "                          'vec__ngram_range': [(1, 1), (1, 2)]}],\n",
       "             scoring='f1', verbose=1)"
      ]
     },
     "execution_count": 61,
     "metadata": {},
     "output_type": "execute_result"
    }
   ],
   "source": [
    "# pipeline & gridsearch setup\n",
    "lr_pipe = Pipeline([(\"vec\",  None),\n",
    "                       ('lr',LogisticRegression(random_state=42, max_iter=5_000))])\n",
    "\n",
    "# establish hyperparameters for gridsearch\n",
    "lr_param_grid = [{'vec': [CountVectorizer(), TfidfVectorizer()],\n",
    "                  'vec__max_features': [None, 1000, 2000],\n",
    "                  'vec__min_df':[1, 2],\n",
    "                  'vec__max_df':[0.9, 1.0],\n",
    "                  'vec__ngram_range': [(1,1), (1,2)],\n",
    "                  # trying different alphas of: 10, 1, 0.1 (C = 1/alpha)\n",
    "                  'lr__C': [0.1,1,10]}]\n",
    "\n",
    "# gridsearch of parameters, using 5 fold cross validation \n",
    "# search across different combinations and use all available cpu cores\n",
    "lr_gs = GridSearchCV(lr_pipe, \n",
    "                     lr_param_grid,\n",
    "                     cv=5, \n",
    "                     verbose =1, \n",
    "                     n_jobs = -1, \n",
    "                     scoring = 'f1')\n",
    "\n",
    "# fit the model\n",
    "%time lr_gs.fit(X_train,y_train)"
   ]
  },
  {
   "cell_type": "code",
   "execution_count": 62,
   "metadata": {},
   "outputs": [
    {
     "name": "stdout",
     "output_type": "stream",
     "text": [
      "Best parameters from gridsearch: {'lr__C': 10, 'vec': TfidfVectorizer(max_df=0.9, ngram_range=(1, 2)), 'vec__max_df': 0.9, 'vec__max_features': None, 'vec__min_df': 1, 'vec__ngram_range': (1, 2)}\n",
      "\n",
      "\n",
      "5-fold CV F1-score for Logistic Regression: 0.912\n"
     ]
    }
   ],
   "source": [
    "print(\"Best parameters from gridsearch: {}\".format(lr_gs.best_params_))\n",
    "print('\\n')\n",
    "print(\"5-fold CV F1-score for Logistic Regression: %0.3f\" % lr_gs.best_score_)"
   ]
  },
  {
   "cell_type": "code",
   "execution_count": 63,
   "metadata": {
    "scrolled": true
   },
   "outputs": [
    {
     "name": "stdout",
     "output_type": "stream",
     "text": [
      "---Training Set---\n",
      "Logistic Regression GridSearch Best Train Accuracy: 0.9957754412316936\n",
      "Logistic Regression GridSearch Best Train F1-Score: 0.9963208241353937\n",
      "\n",
      "\n",
      "---Test Set---\n",
      "Logistic Regression GridSearch Best Test Accuracy: 0.9061209162598574\n",
      "Logistic Regression GridSearch Best Test F1-Score: 0.9188838416612589\n"
     ]
    }
   ],
   "source": [
    "# generate predictions\n",
    "y_pred_logreg_train =  lr_gs.predict(X_train)\n",
    "y_pred_logreg = lr_gs.predict(X_test)\n",
    "\n",
    "# evaulation metrics: accuracy, f1 score\n",
    "print(\"---Training Set---\")\n",
    "print('Logistic Regression GridSearch Best Train Accuracy:', accuracy_score(y_train, y_pred_logreg_train))\n",
    "print('Logistic Regression GridSearch Best Train F1-Score:', f1_score(y_train, y_pred_logreg_train))\n",
    "print('\\n')\n",
    "print(\"---Test Set---\")\n",
    "print('Logistic Regression GridSearch Best Test Accuracy:', accuracy_score(y_test, y_pred_logreg))\n",
    "print('Logistic Regression GridSearch Best Test F1-Score:', f1_score(y_test, y_pred_logreg))"
   ]
  },
  {
   "cell_type": "markdown",
   "metadata": {},
   "source": [
    "The Logistic Regression model performs better with TF-IDF Vectorizer as compared to CountVectorizer based on the result yield from running a GridSearch. We can see that the optimised Logistic Regression model using TF-IDF Vectorizer produced test results that are worse than training. This suggests overfitting of training data, as the model doesn't generalise well from our training data to unseen data. Despite this, the optimised Logistic Regression model using TF-IDF Vectorizer performed much better than the baseline model."
   ]
  },
  {
   "cell_type": "markdown",
   "metadata": {},
   "source": [
    "**Naive Bayes: CVEC vs TDIF vectorizers**"
   ]
  },
  {
   "cell_type": "code",
   "execution_count": 64,
   "metadata": {},
   "outputs": [
    {
     "name": "stdout",
     "output_type": "stream",
     "text": [
      "Fitting 5 folds for each of 48 candidates, totalling 240 fits\n"
     ]
    },
    {
     "name": "stderr",
     "output_type": "stream",
     "text": [
      "[Parallel(n_jobs=-1)]: Using backend LokyBackend with 8 concurrent workers.\n",
      "[Parallel(n_jobs=-1)]: Done  34 tasks      | elapsed:    4.4s\n",
      "[Parallel(n_jobs=-1)]: Done 184 tasks      | elapsed:   23.9s\n",
      "[Parallel(n_jobs=-1)]: Done 240 out of 240 | elapsed:   31.5s finished\n"
     ]
    },
    {
     "name": "stdout",
     "output_type": "stream",
     "text": [
      "Wall time: 32.2 s\n"
     ]
    },
    {
     "data": {
      "text/plain": [
       "GridSearchCV(cv=5,\n",
       "             estimator=Pipeline(steps=[('vec', None), ('nb', MultinomialNB())]),\n",
       "             n_jobs=-1,\n",
       "             param_grid=[{'vec': [CountVectorizer(max_df=0.9,\n",
       "                                                  ngram_range=(1, 2)),\n",
       "                                  TfidfVectorizer()],\n",
       "                          'vec__max_df': [0.9, 1.0],\n",
       "                          'vec__max_features': [None, 1000, 2000],\n",
       "                          'vec__min_df': [1, 2],\n",
       "                          'vec__ngram_range': [(1, 1), (1, 2)]}],\n",
       "             scoring='f1', verbose=1)"
      ]
     },
     "execution_count": 64,
     "metadata": {},
     "output_type": "execute_result"
    }
   ],
   "source": [
    "# pipeline & gridsearch setup\n",
    "nb_pipe = Pipeline([(\"vec\",  None),\n",
    "                       ('nb',MultinomialNB())])\n",
    "\n",
    "# establish hyperparameters for gridsearch\n",
    "nb_param_grid = [{'vec': [CountVectorizer(), TfidfVectorizer()],\n",
    "                  'vec__max_features': [None, 1000, 2000],\n",
    "                  'vec__min_df':[1, 2],\n",
    "                  'vec__max_df':[0.9, 1.0],\n",
    "                  'vec__ngram_range': [(1,1), (1,2)]}]\n",
    "\n",
    "# gridsearch of parameters, using 5 fold cross validation \n",
    "# search across different combinations and use all available cpu cores\n",
    "nb_gs = GridSearchCV(nb_pipe, \n",
    "                     nb_param_grid,\n",
    "                     cv=5, \n",
    "                     verbose =1, \n",
    "                     n_jobs = -1, \n",
    "                     scoring = 'f1')\n",
    "\n",
    "# fit the model\n",
    "%time nb_gs.fit(X_train,y_train)"
   ]
  },
  {
   "cell_type": "code",
   "execution_count": 65,
   "metadata": {},
   "outputs": [
    {
     "name": "stdout",
     "output_type": "stream",
     "text": [
      "Best parameters from gridsearch: {'vec': CountVectorizer(max_df=0.9, ngram_range=(1, 2)), 'vec__max_df': 0.9, 'vec__max_features': None, 'vec__min_df': 1, 'vec__ngram_range': (1, 2)}\n",
      "\n",
      "\n",
      "5-fold CV F1-score for Naive Bayes: 0.912\n"
     ]
    }
   ],
   "source": [
    "print(\"Best parameters from gridsearch: {}\".format(nb_gs.best_params_))\n",
    "print('\\n')\n",
    "print(\"5-fold CV F1-score for Naive Bayes: %0.3f\" % nb_gs.best_score_)"
   ]
  },
  {
   "cell_type": "code",
   "execution_count": 66,
   "metadata": {},
   "outputs": [
    {
     "name": "stdout",
     "output_type": "stream",
     "text": [
      "---Training Set---\n",
      "Naive Bayes GridSearch Best Train Accuracy: 0.9715546376267368\n",
      "Naive Bayes GridSearch Best Train F1-Score: 0.9753438034014159\n",
      "\n",
      "\n",
      "---Test Set---\n",
      "Naive Bayes GridSearch Best Test Accuracy: 0.901990236575291\n",
      "Naive Bayes GridSearch Best Test F1-Score: 0.9167464114832535\n"
     ]
    }
   ],
   "source": [
    "# generate predictions\n",
    "y_pred_nb_train =  nb_gs.predict(X_train)\n",
    "y_pred_nb = nb_gs.predict(X_test)\n",
    "\n",
    "# evaulation metrics: accuracy, f1 score\n",
    "print(\"---Training Set---\")\n",
    "print('Naive Bayes GridSearch Best Train Accuracy:', accuracy_score(y_train, y_pred_nb_train))\n",
    "print('Naive Bayes GridSearch Best Train F1-Score:', f1_score(y_train, y_pred_nb_train))\n",
    "print('\\n')\n",
    "print(\"---Test Set---\")\n",
    "print('Naive Bayes GridSearch Best Test Accuracy:', accuracy_score(y_test, y_pred_nb))\n",
    "print('Naive Bayes GridSearch Best Test F1-Score:', f1_score(y_test, y_pred_nb))"
   ]
  },
  {
   "cell_type": "markdown",
   "metadata": {},
   "source": [
    "The Naive Bayes model performs better with CountVectorizer as compared to TF-IDF Vectorizer based on the result yield from running a GridSearch. The Naive Bayes model using CountVectorizer has a similar performance to the optimised Logistic Regression model using TF-IDF Vectorizer. We can see that the Naive Bayes model using CountVectorizer produced test results that are slightly worse off than training. This suggests slight overfitting of training data, as the model is not generalising well enough from our training data to unseen data. Despite this, the Naive Bayes model using CountVectorizer performed much better than the baseline model and it overfits lesser as compared to the optimised Logistic Regression model using TF-IDF Vectorizer."
   ]
  },
  {
   "cell_type": "markdown",
   "metadata": {},
   "source": [
    "**Random Forest Classifier: CVEC vs TDIF vectorizers**\n",
    "\n",
    "We will make use of RandomizedSearch to determine the optimal hyperparameters of the Random Forest Classifier model since GridSearch takes a much longer time to execute due to the large number of possible combinations. The range of possible values for the hyperparameters below are determined after completing initial rounds of tuning."
   ]
  },
  {
   "cell_type": "code",
   "execution_count": 67,
   "metadata": {},
   "outputs": [
    {
     "name": "stdout",
     "output_type": "stream",
     "text": [
      "Fitting 5 folds for each of 15 candidates, totalling 75 fits\n"
     ]
    },
    {
     "name": "stderr",
     "output_type": "stream",
     "text": [
      "[Parallel(n_jobs=-1)]: Using backend LokyBackend with 8 concurrent workers.\n",
      "[Parallel(n_jobs=-1)]: Done  34 tasks      | elapsed:  3.8min\n",
      "[Parallel(n_jobs=-1)]: Done  75 out of  75 | elapsed:  9.7min finished\n"
     ]
    },
    {
     "name": "stdout",
     "output_type": "stream",
     "text": [
      "Wall time: 10min 25s\n"
     ]
    },
    {
     "data": {
      "text/plain": [
       "RandomizedSearchCV(cv=5,\n",
       "                   estimator=Pipeline(steps=[('vec', None),\n",
       "                                             ('rf',\n",
       "                                              RandomForestClassifier(random_state=42))]),\n",
       "                   n_iter=15, n_jobs=-1,\n",
       "                   param_distributions=[{'rf__max_depth': [105, 110, 115],\n",
       "                                         'rf__max_features': ['auto'],\n",
       "                                         'rf__min_samples_leaf': [1, 2],\n",
       "                                         'rf__min_samples_split': [8, 10],\n",
       "                                         'rf__n_estimators': [1500, 1550, 1600],\n",
       "                                         'vec': [CountVectorizer(),\n",
       "                                                 TfidfVectorizer(min_df=2)],\n",
       "                                         'vec__max_df': [0.9, 1.0],\n",
       "                                         'vec__max_features': [None, 1000,\n",
       "                                                               2000],\n",
       "                                         'vec__min_df': [1, 2],\n",
       "                                         'vec__ngram_range': [(1, 1), (1, 2)]}],\n",
       "                   random_state=42, verbose=1)"
      ]
     },
     "execution_count": 67,
     "metadata": {},
     "output_type": "execute_result"
    }
   ],
   "source": [
    "# use the random grid to search for best hyperparameters\n",
    "# first create the base model to tune\n",
    "rf_pipe = Pipeline([(\"vec\",  None),\n",
    "                       ('rf', RandomForestClassifier(random_state=42))])\n",
    "\n",
    "# create the random grid\n",
    "rf_random_grid = [{'vec': [CountVectorizer(), TfidfVectorizer()],\n",
    "                  'vec__max_features': [None, 1000, 2000],\n",
    "                  'vec__min_df':[1, 2],\n",
    "                  'vec__max_df':[0.9, 1.0],\n",
    "                  'vec__ngram_range': [(1,1), (1,2)],\n",
    "                   # number of trees in random forest\n",
    "                  'rf__n_estimators': [1500, 1550, 1600],\n",
    "                   # number of features to consider at every split\n",
    "                  'rf__max_features': ['auto'],\n",
    "                   # maximum number of levels in tree\n",
    "                  'rf__max_depth': [105, 110, 115],\n",
    "                   # minimum number of samples required to split a node\n",
    "                  'rf__min_samples_split': [8, 10],\n",
    "                   # minimum number of samples required at each leaf node\n",
    "                  'rf__min_samples_leaf': [1, 2]}]\n",
    "\n",
    "# random search of parameters, using 5 fold cross validation, \n",
    "# search across 15 different combinations, and use all available cores\n",
    "rf_random = RandomizedSearchCV(rf_pipe, rf_random_grid, n_iter = 15, cv = 5, verbose=1, random_state=42, n_jobs = -1)\n",
    "\n",
    "# fit the model\n",
    "%time rf_random.fit(X_train,y_train)"
   ]
  },
  {
   "cell_type": "code",
   "execution_count": 68,
   "metadata": {},
   "outputs": [
    {
     "name": "stdout",
     "output_type": "stream",
     "text": [
      "Best parameters from random search: {'vec__ngram_range': (1, 1), 'vec__min_df': 2, 'vec__max_features': None, 'vec__max_df': 1.0, 'vec': TfidfVectorizer(min_df=2), 'rf__n_estimators': 1550, 'rf__min_samples_split': 8, 'rf__min_samples_leaf': 1, 'rf__max_features': 'auto', 'rf__max_depth': 115}\n",
      "\n",
      "\n",
      "5-fold CV F1-score for Random Forest Classifier: 0.890\n"
     ]
    }
   ],
   "source": [
    "print(\"Best parameters from random search: {}\".format(rf_random.best_params_))\n",
    "print('\\n')\n",
    "print(\"5-fold CV F1-score for Random Forest Classifier: %0.3f\" % rf_random.best_score_)"
   ]
  },
  {
   "cell_type": "code",
   "execution_count": 69,
   "metadata": {},
   "outputs": [
    {
     "name": "stdout",
     "output_type": "stream",
     "text": [
      "---Training Set---\n",
      "Random Forest Classifier RandomizedSearch Best Train Accuracy: 0.9580360495681562\n",
      "Random Forest Classifier RandomizedSearch Best Train F1-Score: 0.964599667379425\n",
      "\n",
      "\n",
      "---Test Set---\n",
      "Random Forest Classifier RandomizedSearch Best Test Accuracy: 0.8959819752159219\n",
      "Random Forest Classifier RandomizedSearch Best Test F1-Score: 0.9131389150203825\n"
     ]
    }
   ],
   "source": [
    "# generate predictions\n",
    "y_pred_rf_train =  rf_random.predict(X_train)\n",
    "y_pred_rf = rf_random.predict(X_test)\n",
    "\n",
    "# evaulation metrics: accuracy, f1 score\n",
    "print(\"---Training Set---\")\n",
    "print('Random Forest Classifier RandomizedSearch Best Train Accuracy:', accuracy_score(y_train, y_pred_rf_train))\n",
    "print('Random Forest Classifier RandomizedSearch Best Train F1-Score:', f1_score(y_train, y_pred_rf_train))\n",
    "print('\\n')\n",
    "print(\"---Test Set---\")\n",
    "print('Random Forest Classifier RandomizedSearch Best Test Accuracy:', accuracy_score(y_test, y_pred_rf))\n",
    "print('Random Forest Classifier RandomizedSearch Best Test F1-Score:', f1_score(y_test, y_pred_rf))"
   ]
  },
  {
   "cell_type": "markdown",
   "metadata": {},
   "source": [
    "The Random Forest Classifier model performs better with TF-IDF Vectorizer as compared to CountVectorizer based on the result yield from running a RandomizedSearch. Although the optimised Random Forest Classifier model using TF-IDF Vectorizer performed much better than the baseline model, it performed slightly worse off than the optimised Logistic Regression model using TF-IDF Vectorizer and the Naive Bayes model using CountVectorizer. We can see that the optimised Random Forest Classifier model using TF-IDF Vectorizer produced test results that are slightly worse off than training. This suggests slight overfitting of training data, as the model is not generalising well enough from our training data to unseen data."
   ]
  },
  {
   "cell_type": "markdown",
   "metadata": {},
   "source": [
    "## Production Model"
   ]
  },
  {
   "cell_type": "code",
   "execution_count": 70,
   "metadata": {},
   "outputs": [
    {
     "name": "stdout",
     "output_type": "stream",
     "text": [
      "5-fold CV F1-score for Logistic Regression: 0.912\n",
      "5-fold CV F1-score for Naive Bayes: 0.912\n",
      "5-fold CV F1-score for Random Forest Classifier: 0.890\n"
     ]
    }
   ],
   "source": [
    "print(\"5-fold CV F1-score for Logistic Regression: %0.3f\" % lr_gs.best_score_)\n",
    "print(\"5-fold CV F1-score for Naive Bayes: %0.3f\" % nb_gs.best_score_)\n",
    "print(\"5-fold CV F1-score for Random Forest Classifier: %0.3f\" % rf_random.best_score_)"
   ]
  },
  {
   "cell_type": "markdown",
   "metadata": {},
   "source": [
    "Based on the 5-fold cross validation F1-score, we can see that the Naive Bayes model using CountVectorizer has a similar performance to the optimised Logistic Regression model using TF-IDF Vectorizer. However, the Naive Bayes model using CountVectorizer performs slightly better in terms of generalisation, as it has a smaller difference in the F1-score between the training and test results. Hence, we will be using it as our final model for predictions."
   ]
  },
  {
   "cell_type": "code",
   "execution_count": 71,
   "metadata": {},
   "outputs": [
    {
     "data": {
      "text/plain": [
       "{'vec': CountVectorizer(max_df=0.9, ngram_range=(1, 2)),\n",
       " 'vec__max_df': 0.9,\n",
       " 'vec__max_features': None,\n",
       " 'vec__min_df': 1,\n",
       " 'vec__ngram_range': (1, 2)}"
      ]
     },
     "execution_count": 71,
     "metadata": {},
     "output_type": "execute_result"
    }
   ],
   "source": [
    "nb_gs.best_params_"
   ]
  },
  {
   "cell_type": "code",
   "execution_count": 72,
   "metadata": {},
   "outputs": [
    {
     "data": {
      "text/plain": [
       "Pipeline(steps=[('cvec', CountVectorizer(max_df=0.9, ngram_range=(1, 2))),\n",
       "                ('nb', MultinomialNB())])"
      ]
     },
     "execution_count": 72,
     "metadata": {},
     "output_type": "execute_result"
    }
   ],
   "source": [
    "# build the production model based on the best params\n",
    "best_cvec_nb_pipe = Pipeline([\n",
    "    ('cvec', CountVectorizer(max_df= 0.9,\n",
    "     max_features= None,\n",
    "     min_df= 1,\n",
    "     ngram_range= (1, 2))),\n",
    "    ('nb',MultinomialNB())\n",
    "])\n",
    "\n",
    "best_cvec_nb_pipe.fit(X_train,y_train)"
   ]
  },
  {
   "cell_type": "markdown",
   "metadata": {},
   "source": [
    "Generate predictions on the full dataset using the production model."
   ]
  },
  {
   "cell_type": "code",
   "execution_count": 73,
   "metadata": {},
   "outputs": [],
   "source": [
    "# generate a prediction class on the full dataset using the production model\n",
    "prediction =  best_cvec_nb_pipe.predict(X)\n",
    "\n",
    "# generate a predicted probability of each class\n",
    "prediction_prob = best_cvec_nb_pipe.predict_proba(X)\n",
    "\n",
    "# create a dataframe of the actual vs predicted class\n",
    "predictions_df = pd.DataFrame({'id': df['id'],\n",
    "                               'full_text': df['full_text'],\n",
    "                               'cleaned_full_text': X,\n",
    "                               'pred': prediction,\n",
    "                               'actual': y,\n",
    "                              'GME': prediction_prob[:,0],\n",
    "                              'dogecoin': prediction_prob[:,1]})"
   ]
  },
  {
   "cell_type": "code",
   "execution_count": 74,
   "metadata": {},
   "outputs": [
    {
     "data": {
      "text/html": [
       "<div>\n",
       "<style scoped>\n",
       "    .dataframe tbody tr th:only-of-type {\n",
       "        vertical-align: middle;\n",
       "    }\n",
       "\n",
       "    .dataframe tbody tr th {\n",
       "        vertical-align: top;\n",
       "    }\n",
       "\n",
       "    .dataframe thead th {\n",
       "        text-align: right;\n",
       "    }\n",
       "</style>\n",
       "<table border=\"1\" class=\"dataframe\">\n",
       "  <thead>\n",
       "    <tr style=\"text-align: right;\">\n",
       "      <th></th>\n",
       "      <th>id</th>\n",
       "      <th>full_text</th>\n",
       "      <th>cleaned_full_text</th>\n",
       "      <th>pred</th>\n",
       "      <th>actual</th>\n",
       "      <th>GME</th>\n",
       "      <th>dogecoin</th>\n",
       "    </tr>\n",
       "  </thead>\n",
       "  <tbody>\n",
       "    <tr>\n",
       "      <th>0</th>\n",
       "      <td>l1n3vd</td>\n",
       "      <td>Greetings GME Gang Just stumbled upon this sub. Didn't know it existed. I joined GME gang back in September and posted some DD to WSB.\\n\\nHow is this sub organized? If I could recommend a live daily discussion thread and separate megathreads for SEC filings or other market moving news.\\n\\nCheers!</td>\n",
       "      <td>greeting gamestop gang stumble upon sub know exist join gamestop gang back september post dd wallstreetbet sub organize could recommend live daily discussion thread separate megathread sec filing market move news cheer</td>\n",
       "      <td>0</td>\n",
       "      <td>0</td>\n",
       "      <td>1.000000</td>\n",
       "      <td>9.630325e-23</td>\n",
       "    </tr>\n",
       "    <tr>\n",
       "      <th>2</th>\n",
       "      <td>l1wi6q</td>\n",
       "      <td>Remember lads, scared money don't make money. HOLD THE LINES \\n\\n\\n120 shares @27</td>\n",
       "      <td>remember lad scared money make money line share</td>\n",
       "      <td>0</td>\n",
       "      <td>0</td>\n",
       "      <td>0.998386</td>\n",
       "      <td>1.613653e-03</td>\n",
       "    </tr>\n",
       "    <tr>\n",
       "      <th>3</th>\n",
       "      <td>l22dsa</td>\n",
       "      <td>How do we know when the squeeze has happened? I’m new and trying to learn. This stock scares me, because I don’t know how to access info on all the shorts.</td>\n",
       "      <td>know squeeze happen new trying learn stock scare know access information short</td>\n",
       "      <td>0</td>\n",
       "      <td>0</td>\n",
       "      <td>1.000000</td>\n",
       "      <td>1.608845e-10</td>\n",
       "    </tr>\n",
       "    <tr>\n",
       "      <th>4</th>\n",
       "      <td>l22r5n</td>\n",
       "      <td>WHERE ARE THE FUCKING REINFORCEMENTS Price is sub 40 now. :(.</td>\n",
       "      <td>fucking reinforcement price sub</td>\n",
       "      <td>0</td>\n",
       "      <td>0</td>\n",
       "      <td>0.995833</td>\n",
       "      <td>4.166590e-03</td>\n",
       "    </tr>\n",
       "    <tr>\n",
       "      <th>5</th>\n",
       "      <td>l2359i</td>\n",
       "      <td>Picked up more! Picked up more GME during dip. Let’s hope I don’t need my HSA this year as I’m in deep on GME.</td>\n",
       "      <td>pick pick gamestop dip hope need hsa year deep gamestop</td>\n",
       "      <td>0</td>\n",
       "      <td>0</td>\n",
       "      <td>0.999904</td>\n",
       "      <td>9.552188e-05</td>\n",
       "    </tr>\n",
       "  </tbody>\n",
       "</table>\n",
       "</div>"
      ],
      "text/plain": [
       "       id  \\\n",
       "0  l1n3vd   \n",
       "2  l1wi6q   \n",
       "3  l22dsa   \n",
       "4  l22r5n   \n",
       "5  l2359i   \n",
       "\n",
       "                                                                                                                                                                                                                                                                                                   full_text  \\\n",
       "0  Greetings GME Gang Just stumbled upon this sub. Didn't know it existed. I joined GME gang back in September and posted some DD to WSB.\\n\\nHow is this sub organized? If I could recommend a live daily discussion thread and separate megathreads for SEC filings or other market moving news.\\n\\nCheers!   \n",
       "2                                                                                                                                                                                                                          Remember lads, scared money don't make money. HOLD THE LINES \\n\\n\\n120 shares @27   \n",
       "3                                                                                                                                                How do we know when the squeeze has happened? I’m new and trying to learn. This stock scares me, because I don’t know how to access info on all the shorts.   \n",
       "4                                                                                                                                                                                                                                              WHERE ARE THE FUCKING REINFORCEMENTS Price is sub 40 now. :(.   \n",
       "5                                                                                                                                                                                             Picked up more! Picked up more GME during dip. Let’s hope I don’t need my HSA this year as I’m in deep on GME.   \n",
       "\n",
       "                                                                                                                                                                                                            cleaned_full_text  \\\n",
       "0  greeting gamestop gang stumble upon sub know exist join gamestop gang back september post dd wallstreetbet sub organize could recommend live daily discussion thread separate megathread sec filing market move news cheer   \n",
       "2                                                                                                                                                                             remember lad scared money make money line share   \n",
       "3                                                                                                                                              know squeeze happen new trying learn stock scare know access information short   \n",
       "4                                                                                                                                                                                             fucking reinforcement price sub   \n",
       "5                                                                                                                                                                     pick pick gamestop dip hope need hsa year deep gamestop   \n",
       "\n",
       "   pred  actual       GME      dogecoin  \n",
       "0     0       0  1.000000  9.630325e-23  \n",
       "2     0       0  0.998386  1.613653e-03  \n",
       "3     0       0  1.000000  1.608845e-10  \n",
       "4     0       0  0.995833  4.166590e-03  \n",
       "5     0       0  0.999904  9.552188e-05  "
      ]
     },
     "metadata": {},
     "output_type": "display_data"
    }
   ],
   "source": [
    "# display the first five row\n",
    "display(predictions_df.head())"
   ]
  },
  {
   "cell_type": "code",
   "execution_count": 75,
   "metadata": {},
   "outputs": [],
   "source": [
    "# export our predictions\n",
    "predictions_df.to_csv(output_path + \"/predictions.csv\", index=False)"
   ]
  },
  {
   "cell_type": "code",
   "execution_count": 76,
   "metadata": {},
   "outputs": [
    {
     "name": "stdout",
     "output_type": "stream",
     "text": [
      "Accuracy: 0.9576\n",
      "F1-Score: 0.9634\n"
     ]
    }
   ],
   "source": [
    "# calculate accuracy\n",
    "accuracy = round(accuracy_score(y, prediction),4)\n",
    "\n",
    "# calculate f1-score\n",
    "f1 = round(f1_score(y ,prediction),4)\n",
    "\n",
    "print(f\"Accuracy: {accuracy}\")\n",
    "print(f\"F1-Score: {f1}\")"
   ]
  },
  {
   "cell_type": "code",
   "execution_count": 77,
   "metadata": {},
   "outputs": [
    {
     "name": "stdout",
     "output_type": "stream",
     "text": [
      "Specificity: 0.9361\n",
      "Sensitivity: 0.9737\n"
     ]
    }
   ],
   "source": [
    "# generate confusion matrix.\n",
    "tn, fp, fn, tp = confusion_matrix(y, prediction).ravel()\n",
    "\n",
    "# calculate specificity: true negatives/all negatives\n",
    "specificity = round(tn/(tn+fp),4)\n",
    "\n",
    "# calculate sensitivity: true positives/all positives\n",
    "sensitivity= round(tp/(tp+fn),4)\n",
    "\n",
    "print(f\"Specificity: {specificity}\")\n",
    "print(f\"Sensitivity: {sensitivity}\")"
   ]
  },
  {
   "cell_type": "markdown",
   "metadata": {},
   "source": [
    "Looking at the specificity and sensitivity metrics, we are able to infer that 93.61% of GME posts were classified correctly and 97.37% of dogecoin posts were classified correctly. \n",
    "\n",
    "Le's plot the confusion matrix below:"
   ]
  },
  {
   "cell_type": "code",
   "execution_count": 78,
   "metadata": {},
   "outputs": [
    {
     "name": "stdout",
     "output_type": "stream",
     "text": [
      "Saving figure confusion_matrix\n"
     ]
    },
    {
     "data": {
      "image/png": "[encoded data removed]",
      "text/plain": [
       "<Figure size 432x288 with 2 Axes>"
      ]
     },
     "metadata": {
      "needs_background": "light"
     },
     "output_type": "display_data"
    }
   ],
   "source": [
    "# plot a confusion matrix\n",
    "plot_confusion_matrix(best_cvec_nb_pipe, X, y,\n",
    "                      values_format = 'd',\n",
    "                      display_labels = [\"GME\",\"dogecoin\"])\n",
    "\n",
    "plt.grid(False)\n",
    "save_fig(\"confusion_matrix\")\n",
    "plt.show()"
   ]
  },
  {
   "cell_type": "markdown",
   "metadata": {},
   "source": [
    "Overall, we can see that this simple classifier works pretty well in separating posts from Dogecoin subreddit (positive class) and GME subreddit (negative class).\n",
    "\n",
    "Here's a quick utility function that will return the prediction for a single string:"
   ]
  },
  {
   "cell_type": "code",
   "execution_count": 79,
   "metadata": {},
   "outputs": [],
   "source": [
    "def predict_subreddit(text, model = best_cvec_nb_pipe):\n",
    "    target = {0: 'GME',\n",
    "             1: 'dogecoin'}\n",
    "    pred = model.predict([text])\n",
    "    return target[pred[0]]"
   ]
  },
  {
   "cell_type": "markdown",
   "metadata": {},
   "source": [
    "Let's try it out:"
   ]
  },
  {
   "cell_type": "code",
   "execution_count": 80,
   "metadata": {},
   "outputs": [
    {
     "data": {
      "text/plain": [
       "'GME'"
      ]
     },
     "execution_count": 80,
     "metadata": {},
     "output_type": "execute_result"
    }
   ],
   "source": [
    "predict_subreddit(clean_text(\"STOP THE HEDGE FUNDS FROM DESTROYING JOBS\"))"
   ]
  },
  {
   "cell_type": "code",
   "execution_count": 81,
   "metadata": {},
   "outputs": [
    {
     "data": {
      "text/plain": [
       "'dogecoin'"
      ]
     },
     "execution_count": 81,
     "metadata": {},
     "output_type": "execute_result"
    }
   ],
   "source": [
    "predict_subreddit(clean_text(\"please Elon Musk, come to the studio on Saturday with a dog on your shoulders\"))"
   ]
  },
  {
   "cell_type": "markdown",
   "metadata": {},
   "source": [
    "We have sucessfully built a simple classifier using a simple probability model to classify posts from two different subbredits."
   ]
  },
  {
   "cell_type": "markdown",
   "metadata": {},
   "source": [
    "### Inferential Findings and Analysis\n",
    "**Features of importance**\n",
    "\n",
    "By looking at the coefficients of our production model, we can determine the words or n-grams that are of importance to r/GME and r/dogecoin."
   ]
  },
  {
   "cell_type": "code",
   "execution_count": 82,
   "metadata": {},
   "outputs": [],
   "source": [
    "# the coefficients represent P(features | Li) for each label\n",
    "top_features_pos_class = best_cvec_nb_pipe.named_steps['nb'].feature_log_prob_[1]\n",
    "top_features_neg_class = best_cvec_nb_pipe.named_steps['nb'].feature_log_prob_[0]\n",
    "feature_names = best_cvec_nb_pipe.named_steps['cvec'].get_feature_names()"
   ]
  },
  {
   "cell_type": "code",
   "execution_count": 83,
   "metadata": {},
   "outputs": [],
   "source": [
    "# dogecoin top 20 coefs\n",
    "top_20_dogecoin_coefs = dict(pd.Series(np.exp(top_features_pos_class), feature_names).sort_values(ascending=False).head(20))\n",
    "# gme top 20 coefs\n",
    "top_20_gme_coefs = dict(pd.Series(np.exp(top_features_neg_class), feature_names).sort_values(ascending=False).head(20))"
   ]
  },
  {
   "cell_type": "code",
   "execution_count": 84,
   "metadata": {},
   "outputs": [
    {
     "name": "stdout",
     "output_type": "stream",
     "text": [
      "Saving figure top 20 features\n"
     ]
    },
    {
     "data": {
      "image/png": "[encoded data removed]",
      "text/plain": [
       "<Figure size 1080x648 with 2 Axes>"
      ]
     },
     "metadata": {
      "needs_background": "light"
     },
     "output_type": "display_data"
    }
   ],
   "source": [
    "fig, axes = plt.subplots(1,2, figsize=(15,9));\n",
    "    \n",
    "# plot the first graph\n",
    "plt.subplot(1,2,1)\n",
    "gme_coefs = plt.barh(range(len(top_20_gme_coefs)), top_20_gme_coefs.values(),align = 'center',color='xkcd:lightblue');\n",
    "    \n",
    "# label axes \n",
    "plt.yticks(range(len(top_20_gme_coefs)),top_20_gme_coefs.keys(),fontsize=12);\n",
    "plt.title('Top 20 features in GME subreddit')\n",
    "plt.xlabel('Conditional probability for a feature value given the class label')\n",
    "plt.gca().invert_yaxis()\n",
    "    \n",
    "# plot the second graph\n",
    "plt.subplot(1,2,2)\n",
    "dogecoin_coefs = plt.barh(range(len(top_20_dogecoin_coefs)), top_20_dogecoin_coefs.values(),align = 'center',color='xkcd:light orange');\n",
    "    \n",
    "# label axes \n",
    "plt.yticks(range(len(top_20_dogecoin_coefs)),top_20_dogecoin_coefs.keys(),fontsize=12);\n",
    "plt.title('Top 20 features in dogecoin subreddit')\n",
    "plt.xlabel('Conditional probability for a feature value given the class label')\n",
    "plt.gca().invert_yaxis()\n",
    "    \n",
    "plt.subplots_adjust(wspace= 0.5)\n",
    "save_fig(\"top 20 features\")\n",
    "plt.show()"
   ]
  },
  {
   "cell_type": "markdown",
   "metadata": {},
   "source": [
    "We can see that the top features in GME subreddit is emoji-based and mostly terms related to gamestop & stocks. Whereas, the top features in Dogecoin subreddit are mostly terms related to dogecoin & cryptocurrency."
   ]
  },
  {
   "cell_type": "markdown",
   "metadata": {},
   "source": [
    "### Analysing posts that have been misclassified\n",
    "**Example of false positive posts: Predicted as Dogecoin but it actually comes from GME subreddit.**"
   ]
  },
  {
   "cell_type": "code",
   "execution_count": 85,
   "metadata": {},
   "outputs": [
    {
     "data": {
      "text/html": [
       "<div>\n",
       "<style scoped>\n",
       "    .dataframe tbody tr th:only-of-type {\n",
       "        vertical-align: middle;\n",
       "    }\n",
       "\n",
       "    .dataframe tbody tr th {\n",
       "        vertical-align: top;\n",
       "    }\n",
       "\n",
       "    .dataframe thead th {\n",
       "        text-align: right;\n",
       "    }\n",
       "</style>\n",
       "<table border=\"1\" class=\"dataframe\">\n",
       "  <thead>\n",
       "    <tr style=\"text-align: right;\">\n",
       "      <th></th>\n",
       "      <th>id</th>\n",
       "      <th>full_text</th>\n",
       "      <th>cleaned_full_text</th>\n",
       "      <th>pred</th>\n",
       "      <th>actual</th>\n",
       "      <th>GME</th>\n",
       "      <th>dogecoin</th>\n",
       "    </tr>\n",
       "  </thead>\n",
       "  <tbody>\n",
       "    <tr>\n",
       "      <th>252</th>\n",
       "      <td>l4qxvv</td>\n",
       "      <td>Yall just got scammed</td>\n",
       "      <td>got scamme</td>\n",
       "      <td>1</td>\n",
       "      <td>0</td>\n",
       "      <td>0.190595</td>\n",
       "      <td>0.809405</td>\n",
       "    </tr>\n",
       "    <tr>\n",
       "      <th>256</th>\n",
       "      <td>l4r3el</td>\n",
       "      <td>Is this really done and we got scammed or is there any chance we'll pull it back?</td>\n",
       "      <td>really do got scamme chance pull back</td>\n",
       "      <td>1</td>\n",
       "      <td>0</td>\n",
       "      <td>0.037782</td>\n",
       "      <td>0.962218</td>\n",
       "    </tr>\n",
       "    <tr>\n",
       "      <th>270</th>\n",
       "      <td>l4rekc</td>\n",
       "      <td>I’m not selling I’m adding more $100 calls🚀🚀🚀🚀😂🚀😂🚀😂🚀😂</td>\n",
       "      <td>sell add call face_with_tears_of_joy face_with_tears_of_joy face_with_tears_of_joy face_with_tears_of_joy</td>\n",
       "      <td>1</td>\n",
       "      <td>0</td>\n",
       "      <td>0.000045</td>\n",
       "      <td>0.999955</td>\n",
       "    </tr>\n",
       "  </tbody>\n",
       "</table>\n",
       "</div>"
      ],
      "text/plain": [
       "         id  \\\n",
       "252  l4qxvv   \n",
       "256  l4r3el   \n",
       "270  l4rekc   \n",
       "\n",
       "                                                                              full_text  \\\n",
       "252                                                              Yall just got scammed    \n",
       "256  Is this really done and we got scammed or is there any chance we'll pull it back?    \n",
       "270                              I’m not selling I’m adding more $100 calls🚀🚀🚀🚀😂🚀😂🚀😂🚀😂    \n",
       "\n",
       "                                                                                             cleaned_full_text  \\\n",
       "252                                                                                                 got scamme   \n",
       "256                                                                      really do got scamme chance pull back   \n",
       "270  sell add call face_with_tears_of_joy face_with_tears_of_joy face_with_tears_of_joy face_with_tears_of_joy   \n",
       "\n",
       "     pred  actual       GME  dogecoin  \n",
       "252     1       0  0.190595  0.809405  \n",
       "256     1       0  0.037782  0.962218  \n",
       "270     1       0  0.000045  0.999955  "
      ]
     },
     "metadata": {},
     "output_type": "display_data"
    }
   ],
   "source": [
    "# false positives: posts that model wrongly classified as r/dogecoin\n",
    "fp = predictions_df[(predictions_df['pred'] == 1) & (predictions_df['actual'] == 0)]\n",
    "display(fp[12:15])"
   ]
  },
  {
   "cell_type": "markdown",
   "metadata": {},
   "source": [
    "The example posts are considered to be generic which can be applicable to both subreddits."
   ]
  },
  {
   "cell_type": "markdown",
   "metadata": {},
   "source": [
    "**Example of false negative posts: Predicted as GME but it actually comes from Dogecoin subreddit.**"
   ]
  },
  {
   "cell_type": "code",
   "execution_count": 86,
   "metadata": {},
   "outputs": [
    {
     "data": {
      "text/html": [
       "<div>\n",
       "<style scoped>\n",
       "    .dataframe tbody tr th:only-of-type {\n",
       "        vertical-align: middle;\n",
       "    }\n",
       "\n",
       "    .dataframe tbody tr th {\n",
       "        vertical-align: top;\n",
       "    }\n",
       "\n",
       "    .dataframe thead th {\n",
       "        text-align: right;\n",
       "    }\n",
       "</style>\n",
       "<table border=\"1\" class=\"dataframe\">\n",
       "  <thead>\n",
       "    <tr style=\"text-align: right;\">\n",
       "      <th></th>\n",
       "      <th>id</th>\n",
       "      <th>full_text</th>\n",
       "      <th>cleaned_full_text</th>\n",
       "      <th>pred</th>\n",
       "      <th>actual</th>\n",
       "      <th>GME</th>\n",
       "      <th>dogecoin</th>\n",
       "    </tr>\n",
       "  </thead>\n",
       "  <tbody>\n",
       "    <tr>\n",
       "      <th>7722</th>\n",
       "      <td>n55hjs</td>\n",
       "      <td>Some one help me get in Some one help me get in</td>\n",
       "      <td>one help one help</td>\n",
       "      <td>0</td>\n",
       "      <td>1</td>\n",
       "      <td>0.853323</td>\n",
       "      <td>1.466770e-01</td>\n",
       "    </tr>\n",
       "    <tr>\n",
       "      <th>7745</th>\n",
       "      <td>n55kk8</td>\n",
       "      <td>💎 🙌🏼 💎 🙌🏼 💎 🙌🏼 💎 🙌🏼 💎 🙌🏼 💎 🙌🏼 💎 🙌🏼 💎 🙌🏼 💎 🙌🏼 💎 🙌🏼 10. AND DON’T YOU FORGET IT</td>\n",
       "      <td>gem_stone raising_hands_mediumlight_skin_tone gem_stone raising_hands_mediumlight_skin_tone gem_stone raising_hands_mediumlight_skin_tone gem_stone raising_hands_mediumlight_skin_tone gem_stone raising_hands_mediumlight_skin_tone gem_stone raising_hands_mediumlight_skin_tone gem_stone raising_hands_mediumlight_skin_tone gem_stone raising_hands_mediumlight_skin_tone gem_stone raising_hands_medi...</td>\n",
       "      <td>0</td>\n",
       "      <td>1</td>\n",
       "      <td>1.000000</td>\n",
       "      <td>2.010079e-33</td>\n",
       "    </tr>\n",
       "    <tr>\n",
       "      <th>7754</th>\n",
       "      <td>n55ltc</td>\n",
       "      <td>.754 tomorrow to thursday Did some basic maths and this is my prediction.</td>\n",
       "      <td>tomorrow thursday basic math prediction</td>\n",
       "      <td>0</td>\n",
       "      <td>1</td>\n",
       "      <td>0.796485</td>\n",
       "      <td>2.035148e-01</td>\n",
       "    </tr>\n",
       "  </tbody>\n",
       "</table>\n",
       "</div>"
      ],
      "text/plain": [
       "          id  \\\n",
       "7722  n55hjs   \n",
       "7745  n55kk8   \n",
       "7754  n55ltc   \n",
       "\n",
       "                                                                          full_text  \\\n",
       "7722                                Some one help me get in Some one help me get in   \n",
       "7745  💎 🙌🏼 💎 🙌🏼 💎 🙌🏼 💎 🙌🏼 💎 🙌🏼 💎 🙌🏼 💎 🙌🏼 💎 🙌🏼 💎 🙌🏼 💎 🙌🏼 10. AND DON’T YOU FORGET IT   \n",
       "7754      .754 tomorrow to thursday Did some basic maths and this is my prediction.   \n",
       "\n",
       "                                                                                                                                                                                                                                                                                                                                                                                                    cleaned_full_text  \\\n",
       "7722                                                                                                                                                                                                                                                                                                                                                                                                one help one help   \n",
       "7745  gem_stone raising_hands_mediumlight_skin_tone gem_stone raising_hands_mediumlight_skin_tone gem_stone raising_hands_mediumlight_skin_tone gem_stone raising_hands_mediumlight_skin_tone gem_stone raising_hands_mediumlight_skin_tone gem_stone raising_hands_mediumlight_skin_tone gem_stone raising_hands_mediumlight_skin_tone gem_stone raising_hands_mediumlight_skin_tone gem_stone raising_hands_medi...   \n",
       "7754                                                                                                                                                                                                                                                                                                                                                                          tomorrow thursday basic math prediction   \n",
       "\n",
       "      pred  actual       GME      dogecoin  \n",
       "7722     0       1  0.853323  1.466770e-01  \n",
       "7745     0       1  1.000000  2.010079e-33  \n",
       "7754     0       1  0.796485  2.035148e-01  "
      ]
     },
     "metadata": {},
     "output_type": "display_data"
    }
   ],
   "source": [
    "# false negatives: posts that model wrongly classified as r/GME\n",
    "fn = predictions_df[(predictions_df['pred'] == 0) & (predictions_df['actual'] == 1)]\n",
    "display(fn[12:15])"
   ]
  },
  {
   "cell_type": "markdown",
   "metadata": {},
   "source": [
    "Similarly, the example posts are considered to be generic which can be applicable to both subreddits. Moreover, there were many emojis describing diamonds hands hence it's not surprising for the model to classify such post to be from GME subreddit."
   ]
  },
  {
   "cell_type": "markdown",
   "metadata": {},
   "source": [
    "## Overall Evaluation\n",
    "\n",
    "Beginning with a problem statement in mind, which was to use natural language processing (NLP) to classify posts from two different subreddits based on their title and text content, we have collected posts from r/GME - GameStop Stock subreddit and r/dogecoin - Dogecoin subreddit using Pushshift's API. The posts collected were then cleaned, pre-processed for exploratory data analysis (EDA) and classification modelling. Based on the insights from our EDA, we zoomed in on the characteristics (i.e the words usage/type of posts) of each subreddit and were able to learn more about the GameStop and Dogecoin mania.\n",
    "\n",
    "Following the EDA process, we tested and evaluated three classification models - Logistic Regression, Naive Bayes & Random Forest Classifier with two different NLP vectorizers - Count Vectorizer & TF-IDF Vectorizer to select the best parameters which produce the best model performance. The Naive Bayes model using CountVectorizer was then selected as our production model. Our production model is able to classify posts from the two subreddits with an F1-Score score of 96%.\n",
    "\n",
    "Our production model is performing relatively well given that the two subreddits are quite similar. This simple classifier will be beneficial for Reddit as a company or even the subreddit moderators to keep the contents of each subreddit relevant to the community.\n",
    "\n",
    "### Recommendations\n",
    "\n",
    "We would recommend the subreddit moderators of r/GME and r/dogecoin to use our model as it can correctly classify 93.61% of GME posts and 97.37% of dogecoin posts. The model hence eliminates the need for manual screening currently performed by the subreddit moderators and will free up their time to focus their expertise on more productive tasks. The subreddit moderators can also use the insights from the model to understand the overall direction of their subreddit.\n",
    "\n",
    "Alternatively, this model can be deployed to be used by the subreddit community instead. The model can be integrated into the Reddit platform/ enabled as a browser extension, to help suggest the correct subreddit for the users to publish their post.\n",
    "\n",
    "\n",
    "### Limitations\n",
    "\n",
    "As seen from the analysis done on posts that have been misclassified, our model does have some limitations as it does not work well on generic posts. Another point to note is that this model works well for recent events. The words usage/context of the subreddits could have been different in the past few years. Hence, our model would need to be retrained using more historical data.\n",
    "\n",
    "\n",
    "### Future Steps\n",
    "\n",
    "We could look into improving the scores further by training on more data. One way of obtaining more data is to collect more posts from GameStop Subreddit and Dogecoin Subreddit by connecting to Pushshift Reddit API. Other social media sites can also be explored, eg. Twitter, where we can search for topics on 'GameStop' and 'Dogecoin'. To further minimise our false positive and false negative, we can consider trying out a more complex model leveraging semantics by using Word2Vec and BERT. This will help us to classify our posts by linguistic relationship, with a possibility of increasing our model performance."
   ]
  }
 ],
 "metadata": {
  "kernelspec": {
   "display_name": "Python 3",
   "language": "python",
   "name": "python3"
  },
  "language_info": {
   "codemirror_mode": {
    "name": "ipython",
    "version": 3
   },
   "file_extension": ".py",
   "mimetype": "text/x-python",
   "name": "python",
   "nbconvert_exporter": "python",
   "pygments_lexer": "ipython3",
   "version": "3.8.5"
  }
 },
 "nbformat": 4,
 "nbformat_minor": 4
}
